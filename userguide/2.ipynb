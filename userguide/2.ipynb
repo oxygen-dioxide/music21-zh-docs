{
 "cells": [
  {
   "cell_type": "markdown",
   "source": [
    "# 用户指南，第2章：音符\r\n",
    "[原文链接](https://web.mit.edu/music21/doc/usersGuide/usersGuide_02_notes.html)\r\n",
    "\r\n",
    "符号音乐（Notated music），从名字上来看，由一系列在时间上先后出现或同时出现的音符（note）组成。除此之外，符号音乐还有其他属性，例如clefs，调号，slurs等等。但是，其核心是音符。所以，在探索music21前，你需要知道music21是如何处理音符的。\r\n",
    "\r\n",
    "打开IDLE，或者在命令行中输入`python`以开始。\r\n",
    "\r\n",
    "## 创建与处理音符\r\n",
    "music21中，一个标准的音符由`music21.note.Note`对象表示\r\n",
    "\r\n",
    "**Python新手请注意**（其他用户可跳过）：模块名和对象名不同。Python模块（可含有一个，多个，或没有对象），永远以小写字母开头。Music21的对象以大写字母开头。所以，`Note`对象包含在`note`模块中。Python严格区分大小写。\r\n",
    "\r\n",
    "note模块中还有其他类。最重要的是`note.Rest`，表示休止符。用以下命令载入music21库:"
   ],
   "metadata": {}
  },
  {
   "cell_type": "code",
   "execution_count": 1,
   "source": [
    "from music21 import *"
   ],
   "outputs": [],
   "metadata": {}
  },
  {
   "cell_type": "markdown",
   "source": [
    "然后即可输入`note`，以访问`note`模块"
   ],
   "metadata": {}
  },
  {
   "cell_type": "code",
   "execution_count": 2,
   "source": [
    "note"
   ],
   "outputs": [
    {
     "output_type": "execute_result",
     "data": {
      "text/plain": [
       "<module 'music21.note' from 'E:\\\\Python39\\\\lib\\\\site-packages\\\\music21\\\\note.py'>"
      ]
     },
     "metadata": {},
     "execution_count": 2
    }
   ],
   "metadata": {}
  },
  {
   "cell_type": "markdown",
   "source": [
    "如果想知道note模块中还有哪些内容，输入`dir(note)`"
   ],
   "metadata": {}
  },
  {
   "cell_type": "code",
   "execution_count": 3,
   "source": [
    "dir(note)"
   ],
   "outputs": [
    {
     "output_type": "execute_result",
     "data": {
      "text/plain": [
       "['GeneralNote',\n",
       " 'Lyric',\n",
       " 'LyricException',\n",
       " 'NotRest',\n",
       " 'NotRestException',\n",
       " 'Note',\n",
       " 'NoteException',\n",
       " 'Rest',\n",
       " 'SYLLABIC_CHOICES',\n",
       " 'Unpitched',\n",
       " 'base',\n",
       " 'beam',\n",
       " 'common',\n",
       " 'duration',\n",
       " 'environLocal',\n",
       " 'environment',\n",
       " 'exceptions21',\n",
       " 'expressions',\n",
       " 'interval',\n",
       " 'noteheadTypeNames',\n",
       " 'pitch',\n",
       " 'prebase',\n",
       " 'stemDirectionNames',\n",
       " 'style',\n",
       " 'tie',\n",
       " 'volume']"
      ]
     },
     "metadata": {},
     "execution_count": 3
    }
   ],
   "metadata": {}
  },
  {
   "cell_type": "markdown",
   "source": [
    "这个列表中的部分内容是音符类。其他类是我们后面会接触到的，例如Lyric对象。\r\n",
    "\r\n",
    "### (题外话)\r\n",
    "\r\n",
    "如果你害怕污染你的命名空间，那么可以输入："
   ],
   "metadata": {}
  },
  {
   "cell_type": "code",
   "execution_count": 4,
   "source": [
    "import music21"
   ],
   "outputs": [],
   "metadata": {}
  },
  {
   "cell_type": "markdown",
   "source": [
    "那么你需要用`music21.note`来访问note类，而不是`note`"
   ],
   "metadata": {}
  },
  {
   "cell_type": "code",
   "execution_count": 5,
   "source": [
    "music21.note"
   ],
   "outputs": [
    {
     "output_type": "execute_result",
     "data": {
      "text/plain": [
       "<module 'music21.note' from 'E:\\\\Python39\\\\lib\\\\site-packages\\\\music21\\\\note.py'>"
      ]
     },
     "metadata": {},
     "execution_count": 5
    }
   ],
   "metadata": {}
  },
  {
   "cell_type": "markdown",
   "source": [
    "### （回归正题）\r\n",
    "创建一个音高为F5的note.Note对象"
   ],
   "metadata": {}
  },
  {
   "cell_type": "code",
   "execution_count": 6,
   "source": [
    "f=note.Note(\"F5\")"
   ],
   "outputs": [],
   "metadata": {}
  },
  {
   "cell_type": "markdown",
   "source": [
    "music21中，中央C是C4，比它高一个八度的是C5。\r\n",
    "\r\n",
    "现在你有了一个音符，它在哪里？储存在变量f里面。输入`f`即可访问"
   ],
   "metadata": {}
  },
  {
   "cell_type": "code",
   "execution_count": 7,
   "source": [
    "f"
   ],
   "outputs": [
    {
     "output_type": "execute_result",
     "data": {
      "text/plain": [
       "<music21.note.Note F>"
      ]
     },
     "metadata": {},
     "execution_count": 7
    }
   ],
   "metadata": {}
  },
  {
   "cell_type": "markdown",
   "source": [
    "用name和octave来确认它确实是第5个八度上的F"
   ],
   "metadata": {}
  },
  {
   "cell_type": "code",
   "execution_count": 8,
   "source": [
    "f.name"
   ],
   "outputs": [
    {
     "output_type": "execute_result",
     "data": {
      "text/plain": [
       "'F'"
      ]
     },
     "metadata": {},
     "execution_count": 8
    }
   ],
   "metadata": {}
  },
  {
   "cell_type": "code",
   "execution_count": 9,
   "source": [
    "f.octave"
   ],
   "outputs": [
    {
     "output_type": "execute_result",
     "data": {
      "text/plain": [
       "5"
      ]
     },
     "metadata": {},
     "execution_count": 9
    }
   ],
   "metadata": {}
  },
  {
   "cell_type": "markdown",
   "source": [
    "pitch返回另一个对象"
   ],
   "metadata": {}
  },
  {
   "cell_type": "code",
   "execution_count": 10,
   "source": [
    "f.pitch"
   ],
   "outputs": [
    {
     "output_type": "execute_result",
     "data": {
      "text/plain": [
       "<music21.pitch.Pitch F5>"
      ]
     },
     "metadata": {},
     "execution_count": 10
    }
   ],
   "metadata": {}
  },
  {
   "cell_type": "markdown",
   "source": [
    "#TODO"
   ],
   "metadata": {}
  }
 ],
 "metadata": {
  "orig_nbformat": 4,
  "language_info": {
   "name": "python",
   "version": "3.9.7",
   "mimetype": "text/x-python",
   "codemirror_mode": {
    "name": "ipython",
    "version": 3
   },
   "pygments_lexer": "ipython3",
   "nbconvert_exporter": "python",
   "file_extension": ".py"
  },
  "kernelspec": {
   "name": "python3",
   "display_name": "Python 3.9.7 64-bit"
  },
  "interpreter": {
   "hash": "9e6fe232ec1802e04813a62eadbd4a033db6fcefdd78d84705bbb38e45fcef4a"
  }
 },
 "nbformat": 4,
 "nbformat_minor": 2
}