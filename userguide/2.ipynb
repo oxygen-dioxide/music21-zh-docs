{
 "cells": [
  {
   "cell_type": "markdown",
   "source": [
    "# 用户指南，第2章：音符\r\n",
    "[原文链接](https://web.mit.edu/music21/doc/usersGuide/usersGuide_02_notes.html)\r\n",
    "\r\n",
    "符号音乐（Notated music），顾名思义，由一系列在时间上先后出现或同时出现的音符（note）组成。除此之外，符号音乐还有其他内容，例如clefs，调号，slurs等等。但是，符号音乐的核心是音符。所以，在探索music21前，你需要知道music21是如何处理音符的。\r\n",
    "\r\n",
    "打开IDLE，或者在命令行中输入`python`以开始。\r\n",
    "\r\n",
    "## 创建与处理音符\r\n",
    "music21中，一个标准的音符由`music21.note.Note`对象表示\r\n",
    "\r\n",
    "**Python新手请注意**（其他用户可跳过）：模块名和对象名不同。Python模块（可含有一个，多个，或不含有对象），永远以小写字母开头。Music21的对象以大写字母开头。所以，`Note`对象包含在`note`模块中。Python严格区分大小写。\r\n",
    "\r\n",
    "note模块中还有其他类。最重要的是`note.Rest`，表示休止符。\r\n",
    "\r\n",
    "用以下命令载入music21库:"
   ],
   "metadata": {}
  },
  {
   "cell_type": "code",
   "execution_count": 2,
   "source": [
    "from music21 import *"
   ],
   "outputs": [],
   "metadata": {}
  },
  {
   "cell_type": "markdown",
   "source": [
    "然后即可输入`note`，以访问`note`模块"
   ],
   "metadata": {}
  },
  {
   "cell_type": "code",
   "execution_count": 3,
   "source": [
    "note"
   ],
   "outputs": [
    {
     "output_type": "execute_result",
     "data": {
      "text/plain": [
       "<module 'music21.note' from 'E:\\\\Python39\\\\lib\\\\site-packages\\\\music21\\\\note.py'>"
      ]
     },
     "metadata": {},
     "execution_count": 3
    }
   ],
   "metadata": {}
  },
  {
   "cell_type": "markdown",
   "source": [
    "如果想知道note模块中还有哪些内容，输入`dir(note)`"
   ],
   "metadata": {}
  },
  {
   "cell_type": "code",
   "execution_count": 4,
   "source": [
    "dir(note)"
   ],
   "outputs": [
    {
     "output_type": "execute_result",
     "data": {
      "text/plain": [
       "['GeneralNote',\n",
       " 'Lyric',\n",
       " 'LyricException',\n",
       " 'NotRest',\n",
       " 'NotRestException',\n",
       " 'Note',\n",
       " 'NoteException',\n",
       " 'Rest',\n",
       " 'SYLLABIC_CHOICES',\n",
       " 'Unpitched',\n",
       " 'base',\n",
       " 'beam',\n",
       " 'common',\n",
       " 'duration',\n",
       " 'environLocal',\n",
       " 'environment',\n",
       " 'exceptions21',\n",
       " 'expressions',\n",
       " 'interval',\n",
       " 'noteheadTypeNames',\n",
       " 'pitch',\n",
       " 'prebase',\n",
       " 'stemDirectionNames',\n",
       " 'style',\n",
       " 'tie',\n",
       " 'volume']"
      ]
     },
     "metadata": {},
     "execution_count": 4
    }
   ],
   "metadata": {}
  },
  {
   "cell_type": "markdown",
   "source": [
    "这个列表中的部分内容是音符类。其他类是我们后面会接触到的，例如Lyric对象。\r\n",
    "\r\n",
    "### (题外话)\r\n",
    "\r\n",
    "如果你害怕污染你的命名空间，那么可以输入："
   ],
   "metadata": {}
  },
  {
   "cell_type": "code",
   "execution_count": 5,
   "source": [
    "import music21"
   ],
   "outputs": [],
   "metadata": {}
  },
  {
   "cell_type": "markdown",
   "source": [
    "那么你需要用`music21.note`来访问note类，而不是`note`"
   ],
   "metadata": {}
  },
  {
   "cell_type": "code",
   "execution_count": 6,
   "source": [
    "music21.note"
   ],
   "outputs": [
    {
     "output_type": "execute_result",
     "data": {
      "text/plain": [
       "<module 'music21.note' from 'E:\\\\Python39\\\\lib\\\\site-packages\\\\music21\\\\note.py'>"
      ]
     },
     "metadata": {},
     "execution_count": 6
    }
   ],
   "metadata": {}
  },
  {
   "cell_type": "markdown",
   "source": [
    "### （回归正题）\r\n",
    "创建一个音高为F5的note.Note对象"
   ],
   "metadata": {}
  },
  {
   "cell_type": "code",
   "execution_count": 7,
   "source": [
    "f=note.Note(\"F5\")"
   ],
   "outputs": [],
   "metadata": {}
  },
  {
   "cell_type": "markdown",
   "source": [
    "music21中，中央C是C4，比它高一个八度的是C5。\r\n",
    "\r\n",
    "现在你有了一个音符，它在哪里？储存在变量f里面。输入`f`即可访问"
   ],
   "metadata": {}
  },
  {
   "cell_type": "code",
   "execution_count": 8,
   "source": [
    "f"
   ],
   "outputs": [
    {
     "output_type": "execute_result",
     "data": {
      "text/plain": [
       "<music21.note.Note F>"
      ]
     },
     "metadata": {},
     "execution_count": 8
    }
   ],
   "metadata": {}
  },
  {
   "cell_type": "markdown",
   "source": [
    "用`.name`和`.octave`，可以确认它确实是第5个八度上的F"
   ],
   "metadata": {}
  },
  {
   "cell_type": "code",
   "execution_count": 9,
   "source": [
    "f.name"
   ],
   "outputs": [
    {
     "output_type": "execute_result",
     "data": {
      "text/plain": [
       "'F'"
      ]
     },
     "metadata": {},
     "execution_count": 9
    }
   ],
   "metadata": {}
  },
  {
   "cell_type": "code",
   "execution_count": 10,
   "source": [
    "f.octave"
   ],
   "outputs": [
    {
     "output_type": "execute_result",
     "data": {
      "text/plain": [
       "5"
      ]
     },
     "metadata": {},
     "execution_count": 10
    }
   ],
   "metadata": {}
  },
  {
   "cell_type": "markdown",
   "source": [
    "Note的另一个属性是`.pitch`，它返回一个`Pitch`对象"
   ],
   "metadata": {}
  },
  {
   "cell_type": "code",
   "execution_count": 11,
   "source": [
    "f.pitch"
   ],
   "outputs": [
    {
     "output_type": "execute_result",
     "data": {
      "text/plain": [
       "<music21.pitch.Pitch F5>"
      ]
     },
     "metadata": {},
     "execution_count": 11
    }
   ],
   "metadata": {}
  },
  {
   "cell_type": "markdown",
   "source": [
    "Pitch对象能够获取关于音高的更多信息，例如频率`.frequency`"
   ],
   "metadata": {}
  },
  {
   "cell_type": "code",
   "execution_count": 12,
   "source": [
    "f.pitch.frequency"
   ],
   "outputs": [
    {
     "output_type": "execute_result",
     "data": {
      "text/plain": [
       "698.456462866008"
      ]
     },
     "metadata": {},
     "execution_count": 12
    }
   ],
   "metadata": {}
  },
  {
   "cell_type": "markdown",
   "source": [
    "还有`.pitchClassString`"
   ],
   "metadata": {}
  },
  {
   "cell_type": "code",
   "execution_count": 13,
   "source": [
    "f.pitch.pitchClassString"
   ],
   "outputs": [
    {
     "output_type": "execute_result",
     "data": {
      "text/plain": [
       "'5'"
      ]
     },
     "metadata": {},
     "execution_count": 13
    }
   ],
   "metadata": {}
  },
  {
   "cell_type": "markdown",
   "source": [
    "所以，f是大约698hz（如果A4=440hz），而且是pitch class 5（C=0，C#=D-=1，依此类推）\r\n",
    "\r\n",
    "需要注意到几点：\r\n",
    "1. 你的`frequency`可能比拥有更多的小数位数。在本文档中，我们有时候会写\"...\"，而不是把所有的小数写出来。这是因为，数字的长度，甚至最后几位数的具体数值会随python位数为32位或64位，系统为Mac或Windows而异。由于我不知道你用的什么电脑，得到略微不同的结果是正常的\r\n",
    "2. 一部分输出是用单引号包住的（像`f.name`的`'F'`），另一部分没有单引号（像`f.octave`的`5`）。有单引号说明返回值是字符串，没有单引号说明返回值是数值（要么是整数，要么，如果有小数点的话，一个卑鄙地模仿小数的东西，叫做浮点数`float`。它大部分看起来，表现起来像小数，但有时又不是，你永远预测不到）\r\n",
    "   \r\n",
    "*(任何一个计算机科学家都能详细地向你解释`float`背后的历史和原理，通常当ta是站在你和吧台之间的唯一一样东西的时候。真的，我们不应该继续用`float`，除非考虑到我们的电脑算`float`远快于算`decimal`)*\r\n",
    "\r\n",
    "> 译注：上面这一段是原作者关于二进制浮点数`float`的暴论，很大可能来源于工程实践中的以讹传讹。而我认为，如果浮点数真这么一无是处的话，像Python这种以降低使用难度为核心设计思想的编程语言就不会把`float`作为基本类型了，而是采用`decimal`作为基本类型，把`float`作为高性能计算的扩展类型。况且，本案例中的频率是无理数，即便用十进制浮点数`decimal`也无法精确表示。而对于绝大多数使用场景来说，`float`的精度绰绰有余。所以，我们大可放心使用`float`，并**仅**在需要使数值**精确地等于一个十进制小数**时，才做特殊处理，例如用整型的123分来表示1.23元。\r\n",
    "> 关于这一话题的更多讨论，参见这个[知乎问题](https://www.zhihu.com/question/65960911/answer/237638982)\r\n",
    "\r\n",
    "字符串`'5'`和数值`5`不一样。在Python中，我们用双等号（`==`）来判断两个对象是否“相等”。所以"
   ],
   "metadata": {}
  },
  {
   "cell_type": "code",
   "execution_count": 14,
   "source": [
    "f.octave==5"
   ],
   "outputs": [
    {
     "output_type": "execute_result",
     "data": {
      "text/plain": [
       "True"
      ]
     },
     "metadata": {},
     "execution_count": 14
    }
   ],
   "metadata": {}
  },
  {
   "cell_type": "markdown",
   "source": [
    "结果正如我们所想。但是"
   ],
   "metadata": {}
  },
  {
   "cell_type": "code",
   "execution_count": 15,
   "source": [
    "f.pitch.pitchClassString == 5"
   ],
   "outputs": [
    {
     "output_type": "execute_result",
     "data": {
      "text/plain": [
       "False"
      ]
     },
     "metadata": {},
     "execution_count": 15
    }
   ],
   "metadata": {}
  },
  {
   "cell_type": "markdown",
   "source": [
    "这是由于`5=='5'`是`False`。（有些编程语言，例如JavaScript和Perl会认为是 `True`，但Python不是。一开始你可能会认为这不方便，但是随着学习的深入，你会认为这一设计有好处）。所以，如果要判断`f.pitchClassString`是`'5'`，我们要用引号把它变成字符串："
   ],
   "metadata": {}
  },
  {
   "cell_type": "code",
   "execution_count": 16,
   "source": [
    "f.pitch.pitchClassString == \"5\""
   ],
   "outputs": [
    {
     "output_type": "execute_result",
     "data": {
      "text/plain": [
       "True"
      ]
     },
     "metadata": {},
     "execution_count": 16
    }
   ],
   "metadata": {}
  },
  {
   "cell_type": "markdown",
   "source": [
    "Python中，用单引号和双引号来包装字符串都可以"
   ],
   "metadata": {}
  },
  {
   "cell_type": "code",
   "execution_count": 17,
   "source": [
    "f.pitch.pitchClassString == '5'"
   ],
   "outputs": [
    {
     "output_type": "execute_result",
     "data": {
      "text/plain": [
       "True"
      ]
     },
     "metadata": {},
     "execution_count": 17
    }
   ],
   "metadata": {}
  },
  {
   "cell_type": "markdown",
   "source": [
    "`pitchClassString`这个名字告诉你，它输出的应该是个字符串。另有一个`pitchClass`输出的是数值："
   ],
   "metadata": {}
  },
  {
   "cell_type": "code",
   "execution_count": 18,
   "source": [
    "f.pitch.pitchClass"
   ],
   "outputs": [
    {
     "output_type": "execute_result",
     "data": {
      "text/plain": [
       "5"
      ]
     },
     "metadata": {},
     "execution_count": 18
    }
   ],
   "metadata": {}
  },
  {
   "cell_type": "markdown",
   "source": [
    "对于音高`F`来说，这两种获取pitch class的方式一样（唯一区别是一个是整数，一个是字符串）。但是对于`B-`来说，他的`pitchClass`是10，而`pitchClassString`是`\"A\"`，是不同的。\r\n",
    "\r\n",
    "我们来创建一个`B-`音符。在music21中，如你所期待的那样，升调符号是`\"#\"`。但是，降调符号是`\"-\"`而不是`\"b\"`。这是因为`\"b\"`会与音名`\"b\"`冲突。"
   ],
   "metadata": {}
  },
  {
   "cell_type": "code",
   "execution_count": 19,
   "source": [
    "bflat = note.Note(\"B-2\")"
   ],
   "outputs": [],
   "metadata": {}
  },
  {
   "cell_type": "markdown",
   "source": [
    "这里我把它命名为`bflat`。你也可以把它命名为`Bb`或者`b_flat`，但不能叫做`b-flat`，因为变量名不允许出现减号："
   ],
   "metadata": {}
  },
  {
   "cell_type": "code",
   "execution_count": 20,
   "source": [
    "b-flat = note.Note(\"B-2\")"
   ],
   "outputs": [
    {
     "output_type": "error",
     "ename": "SyntaxError",
     "evalue": "cannot assign to operator (Temp/ipykernel_11672/2736611904.py, line 1)",
     "traceback": [
      "\u001b[1;36m  File \u001b[1;32m\"C:\\Users\\lin\\AppData\\Local\\Temp/ipykernel_11672/2736611904.py\"\u001b[1;36m, line \u001b[1;32m1\u001b[0m\n\u001b[1;33m    b-flat = note.Note(\"B-2\")\u001b[0m\n\u001b[1;37m    ^\u001b[0m\n\u001b[1;31mSyntaxError\u001b[0m\u001b[1;31m:\u001b[0m cannot assign to operator\n"
     ]
    }
   ],
   "metadata": {}
  },
  {
   "cell_type": "markdown",
   "source": [
    "这个音符有变调符号，我们可以用`.pitch.accidental`来获取"
   ],
   "metadata": {}
  },
  {
   "cell_type": "code",
   "execution_count": 21,
   "source": [
    "bflat.pitch.accidental"
   ],
   "outputs": [
    {
     "output_type": "execute_result",
     "data": {
      "text/plain": [
       "<music21.pitch.Accidental flat>"
      ]
     },
     "metadata": {},
     "execution_count": 21
    }
   ],
   "metadata": {}
  },
  {
   "cell_type": "markdown",
   "source": [
    "现在我们得到了一个不是数值，但又没有引号的东西。这通常说明它是另一个对象（在这里是`Accidental`对象）。正如我们在上面看到的，对象有属性，`Accidental`也不例外。我们来创建一个新的变量来存储`bflat`的变调符号："
   ],
   "metadata": {}
  },
  {
   "cell_type": "code",
   "execution_count": 22,
   "source": [
    "acc = bflat.pitch.accidental"
   ],
   "outputs": [],
   "metadata": {}
  },
  {
   "cell_type": "markdown",
   "source": [
    "用`.alter`获取这个`Accidental`对象的半音数"
   ],
   "metadata": {}
  },
  {
   "cell_type": "code",
   "execution_count": 23,
   "source": [
    "acc.alter"
   ],
   "outputs": [
    {
     "output_type": "execute_result",
     "data": {
      "text/plain": [
       "-1.0"
      ]
     },
     "metadata": {},
     "execution_count": 23
    }
   ],
   "metadata": {}
  },
  {
   "cell_type": "markdown",
   "source": [
    "`alter`是一个浮点数，说明musicw1应该支持微分音\r\n",
    "\r\n",
    "刚才两行，我们先定义了`acc`为`bflat.pitch.accidental`，然后获取`acc`的`alter`属性。我们可以并作一步"
   ],
   "metadata": {}
  },
  {
   "cell_type": "code",
   "execution_count": 24,
   "source": [
    "bflat.pitch.accidental.alter"
   ],
   "outputs": [
    {
     "output_type": "execute_result",
     "data": {
      "text/plain": [
       "-1.0"
      ]
     },
     "metadata": {},
     "execution_count": 24
    }
   ],
   "metadata": {}
  },
  {
   "cell_type": "code",
   "execution_count": 28,
   "source": [
    "acc.displayLocation"
   ],
   "outputs": [
    {
     "output_type": "execute_result",
     "data": {
      "text/plain": [
       "'above'"
      ]
     },
     "metadata": {},
     "execution_count": 28
    }
   ],
   "metadata": {}
  },
  {
   "cell_type": "markdown",
   "source": [
    "Good to know that we’ve set a sensible default. If you want to have the accidental display above the note, you’ll have to set that yourself:"
   ],
   "metadata": {}
  },
  {
   "cell_type": "code",
   "execution_count": 29,
   "source": [
    "acc.displayLocation = 'above'\r\n",
    "acc.displayLocation"
   ],
   "outputs": [
    {
     "output_type": "execute_result",
     "data": {
      "text/plain": [
       "'above'"
      ]
     },
     "metadata": {},
     "execution_count": 29
    }
   ],
   "metadata": {}
  },
  {
   "cell_type": "markdown",
   "source": [
    "变量`acc`**就是**那个`bflat`音符下的`accidental`属性。（用计算机的属于来说，`acc`是`bflat.accidental`的一个引用）。现在我们来看`bflat.pitch.accidental`的`displayLocation`，我们会发现它也改了"
   ],
   "metadata": {}
  },
  {
   "cell_type": "code",
   "execution_count": 30,
   "source": [
    "bflat.pitch.accidental.displayLocation"
   ],
   "outputs": [
    {
     "output_type": "execute_result",
     "data": {
      "text/plain": [
       "'above'"
      ]
     },
     "metadata": {},
     "execution_count": 30
    }
   ],
   "metadata": {}
  },
  {
   "cell_type": "markdown",
   "source": [
    "Python的一个特性是：如果一个对象缺失某个属性，你可以给它加上（有些人认为这会让对象变得混乱，但我无所谓）。例如，`bflat`没有`wasWrittenByStockhausen`属性，访问时会报错"
   ],
   "metadata": {}
  },
  {
   "cell_type": "code",
   "execution_count": 31,
   "source": [
    "bflat.wasWrittenByStockhausen"
   ],
   "outputs": [
    {
     "output_type": "error",
     "ename": "AttributeError",
     "evalue": "'Note' object has no attribute 'wasWrittenByStockhausen'",
     "traceback": [
      "\u001b[1;31m---------------------------------------------------------------------------\u001b[0m",
      "\u001b[1;31mAttributeError\u001b[0m                            Traceback (most recent call last)",
      "\u001b[1;32m~\\AppData\\Local\\Temp/ipykernel_11672/2960409618.py\u001b[0m in \u001b[0;36m<module>\u001b[1;34m\u001b[0m\n\u001b[1;32m----> 1\u001b[1;33m \u001b[0mbflat\u001b[0m\u001b[1;33m.\u001b[0m\u001b[0mwasWrittenByStockhausen\u001b[0m\u001b[1;33m\u001b[0m\u001b[1;33m\u001b[0m\u001b[0m\n\u001b[0m",
      "\u001b[1;31mAttributeError\u001b[0m: 'Note' object has no attribute 'wasWrittenByStockhausen'"
     ]
    }
   ],
   "metadata": {}
  },
  {
   "cell_type": "markdown",
   "source": [
    "但如果你给它加上，那么就可以在后续代码中使用"
   ],
   "metadata": {}
  },
  {
   "cell_type": "code",
   "execution_count": 32,
   "source": [
    "bflat.wasWrittenByStockhausen = True\r\n",
    "f.wasWrittenByStockhausen = False"
   ],
   "outputs": [],
   "metadata": {}
  },
  {
   "cell_type": "markdown",
   "source": [
    "然后你可以访问这个属性"
   ],
   "metadata": {}
  },
  {
   "cell_type": "code",
   "execution_count": 33,
   "source": [
    "if bflat.wasWrittenByStockhausen == True:\r\n",
    "    print(\"Hope you're enjoying Sirius!\")"
   ],
   "outputs": [
    {
     "output_type": "stream",
     "name": "stdout",
     "text": [
      "Hope you're enjoying Sirius!\n"
     ]
    }
   ],
   "metadata": {}
  },
  {
   "cell_type": "markdown",
   "source": [
    "注意：刚才这一行，你需要在开头加入几个空格，因为python用缩进来给代码划分层次。\r\n",
    "\r\n",
    "（如果你没get到Stockhausen笑话，请查看维基百科）\r\n",
    "\r\n",
    "而对于音符`f`，由于我们把`f.wasWrittenByStockhausen`设为`False`，则以下代码不会输出任何内容："
   ],
   "metadata": {}
  },
  {
   "cell_type": "code",
   "execution_count": 34,
   "source": [
    "if f.wasWrittenByStockhausen == True:\r\n",
    "    print(\"I love Helicopters!\")"
   ],
   "outputs": [],
   "metadata": {}
  },
  {
   "cell_type": "markdown",
   "source": [
    "到现在为止，你可能厌烦了写代码，想看到或听到音符。如果你已经安装了一个MusicXML阅读器，例如MuseScore，Finale，Sibelius，或者Dorico，可以输入："
   ],
   "metadata": {}
  },
  {
   "cell_type": "code",
   "execution_count": 35,
   "source": [
    "f.show()"
   ],
   "outputs": [
    {
     "output_type": "display_data",
     "data": {
      "image/png": "[encoded data removed]",
      "text/plain": [
       "<IPython.core.display.Image object>"
      ]
     },
     "metadata": {
      "image/png": {
       "width": 143,
       "height": 49
      }
     }
    }
   ],
   "metadata": {}
  },
  {
   "cell_type": "markdown",
   "source": [
    "即可看到它。音符的默认时长是四分音符。后面我们会设定其他的音符时长。注意乐谱中包含了谱号，否则你不知道这个音符确实是`F5`\r\n",
    "\r\n",
    "如果你想听到它（而且你用的是Windows或Unix或旧版Mac（10.5及以下）），输入："
   ],
   "metadata": {}
  },
  {
   "cell_type": "code",
   "execution_count": 36,
   "source": [
    "f.show('midi')"
   ],
   "outputs": [
    {
     "output_type": "display_data",
     "data": {
      "text/html": [
       "\n",
       "                <div id='midiPlayerDiv178'></div>\n",
       "                <link rel=\"stylesheet\" href=\"//cuthbertLab.github.io/music21j/css/m21.css\"\n",
       "                    type=\"text/css\" />\n",
       "                <script>\n",
       "                require.config({\n",
       "                    paths: {'music21': '//cuthbertLab.github.io/music21j/src/music21'}\n",
       "                });\n",
       "                require(['music21'], function() {\n",
       "                               mp = new music21.miditools.MidiPlayer();\n",
       "                               mp.addPlayer('#midiPlayerDiv178');\n",
       "                               mp.base64Load('data:audio/midi;base64,TVRoZAAAAAYAAQACBABNVHJrAAAAFAD/UQMHoSAA/1gEBAIYCIgA/y8ATVRyawAAABcA/wMAAOAAQIgAkE1aiACATQCIAP8vAA==');\n",
       "                        });\n",
       "                </script>"
      ],
      "text/plain": [
       "<IPython.core.display.HTML object>"
      ]
     },
     "metadata": {}
    }
   ],
   "metadata": {}
  },
  {
   "cell_type": "markdown",
   "source": [
    "使用`f.octave`时不需要括号，但调用`f.show()`时必须要一对括号，即使里面没有内容（这种情况下，music21会采用默认`.show`选项，通常是`musicxml`）\r\n",
    "\r\n",
    "`.show()`是`Note`对象的一个方法，而`.octave`是属性。调用方法时必须带括号，括号里面可以输入一些其他东西（称为参数）来控制方法的操作。例如，把`bflat`升高大三度："
   ],
   "metadata": {}
  },
  {
   "cell_type": "code",
   "execution_count": 37,
   "source": [
    "d = bflat.transpose(\"M3\")\r\n",
    "d"
   ],
   "outputs": [
    {
     "output_type": "execute_result",
     "data": {
      "text/plain": [
       "<music21.note.Note D>"
      ]
     },
     "metadata": {},
     "execution_count": 37
    }
   ],
   "metadata": {}
  },
  {
   "cell_type": "code",
   "execution_count": 38,
   "source": [
    "bflat"
   ],
   "outputs": [
    {
     "output_type": "execute_result",
     "data": {
      "text/plain": [
       "<music21.note.Note B->"
      ]
     },
     "metadata": {},
     "execution_count": 38
    }
   ],
   "metadata": {}
  },
  {
   "cell_type": "markdown",
   "source": [
    "`transpose()`方法不会改变原来的音符，而是返回一个新音符对象作为移调操作的结果。\r\n",
    "\r\n",
    "如果想就地修改`bflat`对象，可以加入`inPlace = True`参数："
   ],
   "metadata": {}
  },
  {
   "cell_type": "code",
   "execution_count": 39,
   "source": [
    "bflat.transpose(\"P4\", inPlace=True)\r\n",
    "bflat"
   ],
   "outputs": [
    {
     "output_type": "execute_result",
     "data": {
      "text/plain": [
       "<music21.note.Note E->"
      ]
     },
     "metadata": {},
     "execution_count": 39
    }
   ],
   "metadata": {}
  },
  {
   "cell_type": "markdown",
   "source": [
    "那么现在`bflat`成为了一个糟糕的变量名。你可以输入`eflat=bflat`，但你也可以不这么频繁地做这件事。顺便说一下，music21支持一些非常奇葩的音程。例如，将`d`升高一个减减六度："
   ],
   "metadata": {}
  },
  {
   "cell_type": "code",
   "execution_count": 40,
   "source": [
    "whatNoteIsThis = d.transpose('dd6')\r\n",
    "whatNoteIsThis"
   ],
   "outputs": [
    {
     "output_type": "execute_result",
     "data": {
      "text/plain": [
       "<music21.note.Note B--->"
      ]
     },
     "metadata": {},
     "execution_count": 40
    }
   ],
   "metadata": {}
  },
  {
   "cell_type": "markdown",
   "source": [
    "从未见过的`B---`！我们来查看这个音符的`.pitch.accidental.alter `和`.pitch.accidental.name`"
   ],
   "metadata": {}
  },
  {
   "cell_type": "code",
   "execution_count": 41,
   "source": [
    "whatNoteIsThis.pitch.accidental.alter"
   ],
   "outputs": [
    {
     "output_type": "execute_result",
     "data": {
      "text/plain": [
       "-3.0"
      ]
     },
     "metadata": {},
     "execution_count": 41
    }
   ],
   "metadata": {}
  },
  {
   "cell_type": "code",
   "execution_count": 42,
   "source": [
    "whatNoteIsThis.pitch.accidental.name"
   ],
   "outputs": [
    {
     "output_type": "execute_result",
     "data": {
      "text/plain": [
       "'triple-flat'"
      ]
     },
     "metadata": {},
     "execution_count": 42
    }
   ],
   "metadata": {}
  },
  {
   "cell_type": "markdown",
   "source": [
    "最后一件事：不是所有音符都有变调符号，例如`d`就没有，所以返回`None`，它是一个不输出任何内容的特殊值："
   ],
   "metadata": {}
  },
  {
   "cell_type": "code",
   "execution_count": 43,
   "source": [
    "d.pitch.accidental"
   ],
   "outputs": [],
   "metadata": {}
  },
  {
   "cell_type": "markdown",
   "source": [
    "如果你要确认它是None，请输入："
   ],
   "metadata": {}
  },
  {
   "cell_type": "code",
   "execution_count": 44,
   "source": [
    "print(d.pitch.accidental)"
   ],
   "outputs": [
    {
     "output_type": "stream",
     "name": "stdout",
     "text": [
      "None\n"
     ]
    }
   ],
   "metadata": {}
  },
  {
   "cell_type": "markdown",
   "source": [
    "既然`d.accidental`是`None`，那么`d.accidental.name`也是`None`吗？"
   ],
   "metadata": {}
  },
  {
   "cell_type": "code",
   "execution_count": 45,
   "source": [
    "d.pitch.accidental.name"
   ],
   "outputs": [
    {
     "output_type": "error",
     "ename": "AttributeError",
     "evalue": "'NoneType' object has no attribute 'name'",
     "traceback": [
      "\u001b[1;31m---------------------------------------------------------------------------\u001b[0m",
      "\u001b[1;31mAttributeError\u001b[0m                            Traceback (most recent call last)",
      "\u001b[1;32m~\\AppData\\Local\\Temp/ipykernel_11672/1250031737.py\u001b[0m in \u001b[0;36m<module>\u001b[1;34m\u001b[0m\n\u001b[1;32m----> 1\u001b[1;33m \u001b[0md\u001b[0m\u001b[1;33m.\u001b[0m\u001b[0mpitch\u001b[0m\u001b[1;33m.\u001b[0m\u001b[0maccidental\u001b[0m\u001b[1;33m.\u001b[0m\u001b[0mname\u001b[0m\u001b[1;33m\u001b[0m\u001b[1;33m\u001b[0m\u001b[0m\n\u001b[0m",
      "\u001b[1;31mAttributeError\u001b[0m: 'NoneType' object has no attribute 'name'"
     ]
    }
   ],
   "metadata": {}
  },
  {
   "cell_type": "markdown",
   "source": [
    "不是，而是产生一个错误。这是由于`None`不是`Accidental`对象，而是`NoneType`对象，而它没有`name`属性。\r\n",
    "\r\n",
    "如果在交互式命令行写代码，产生一个错误是小事，但如果在一个大程序中运行，则错误通常会导致程序崩溃。所以我们要确保音符有`Accidentals`属性，才显示它的名称"
   ],
   "metadata": {}
  },
  {
   "cell_type": "code",
   "execution_count": 46,
   "source": [
    "if d.pitch.accidental is not None:\r\n",
    "    print(d.pitch.accidental.name)"
   ],
   "outputs": [],
   "metadata": {}
  },
  {
   "cell_type": "markdown",
   "source": [
    "这种方法更安全，因为我们只在`d.pitch.accidental`不是`None`时才打印`d.pitch.accidental.name`。由于刚才它是`None`，Python不会运行第二行。\r\n",
    "\r\n",
    "如果因为某种原因，`d`没有`pitch`属性，我们可能也要测试它是不是`None`，然后才能使用`.pitch.accidental`\r\n",
    "\r\n",
    "例如休止符`Rest`"
   ],
   "metadata": {}
  },
  {
   "cell_type": "code",
   "execution_count": 47,
   "source": [
    "r = note.Rest()"
   ],
   "outputs": [],
   "metadata": {}
  },
  {
   "cell_type": "markdown",
   "source": [
    "记得在创建`note.Rest`时带一对括号，否则会发生奇怪的事情。\r\n",
    "\r\n",
    "同样用`.show()`查看"
   ],
   "metadata": {}
  },
  {
   "cell_type": "code",
   "execution_count": 48,
   "source": [
    "r.show()"
   ],
   "outputs": [
    {
     "output_type": "display_data",
     "data": {
      "image/png": "[encoded data removed]",
      "text/plain": [
       "<IPython.core.display.Image object>"
      ]
     },
     "metadata": {
      "image/png": {
       "width": 146,
       "height": 49
      }
     }
    }
   ],
   "metadata": {}
  },
  {
   "cell_type": "markdown",
   "source": [
    "但是如果要作为midi文件播放，就不要期待听到声音。\r\n",
    "\r\n",
    "`Rest`对象没有`pitch`属性，所以也没有`.pitch.accidental`"
   ],
   "metadata": {}
  },
  {
   "cell_type": "code",
   "execution_count": 49,
   "source": [
    "r.pitch"
   ],
   "outputs": [
    {
     "output_type": "error",
     "ename": "AttributeError",
     "evalue": "'Rest' object has no attribute 'pitch'",
     "traceback": [
      "\u001b[1;31m---------------------------------------------------------------------------\u001b[0m",
      "\u001b[1;31mAttributeError\u001b[0m                            Traceback (most recent call last)",
      "\u001b[1;32m~\\AppData\\Local\\Temp/ipykernel_11672/3759757543.py\u001b[0m in \u001b[0;36m<module>\u001b[1;34m\u001b[0m\n\u001b[1;32m----> 1\u001b[1;33m \u001b[0mr\u001b[0m\u001b[1;33m.\u001b[0m\u001b[0mpitch\u001b[0m\u001b[1;33m\u001b[0m\u001b[1;33m\u001b[0m\u001b[0m\n\u001b[0m",
      "\u001b[1;31mAttributeError\u001b[0m: 'Rest' object has no attribute 'pitch'"
     ]
    }
   ],
   "metadata": {}
  },
  {
   "cell_type": "markdown",
   "source": [
    "最后一件事情：我们从未使用变量名`none`。**千万不要这样做**。如果你输入以下代码："
   ],
   "metadata": {}
  },
  {
   "cell_type": "code",
   "execution_count": 50,
   "source": [
    "note=note.Note(\"C#3\")"
   ],
   "outputs": [],
   "metadata": {}
  },
  {
   "cell_type": "markdown",
   "source": [
    "你把一个对象储存为`note`，但是又需要使用`note`模块来创建新的`Note`对象，而现在没办法访问`note`模块了（这就是“污染命名空间”）的后果。所以请不要用`note`作为变量名（`pitch`、`scale`、`key`、`clef`等同理，你可以使用`myNote`和`myClef`来避免）。\r\n",
    "\r\n",
    "[用户指南，第3章：音高，时长与音符](3.ipynb)"
   ],
   "metadata": {}
  }
 ],
 "metadata": {
  "orig_nbformat": 4,
  "language_info": {
   "name": "python",
   "version": "3.9.7",
   "mimetype": "text/x-python",
   "codemirror_mode": {
    "name": "ipython",
    "version": 3
   },
   "pygments_lexer": "ipython3",
   "nbconvert_exporter": "python",
   "file_extension": ".py"
  },
  "kernelspec": {
   "name": "python3",
   "display_name": "Python 3.9.7 64-bit"
  },
  "interpreter": {
   "hash": "9e6fe232ec1802e04813a62eadbd4a033db6fcefdd78d84705bbb38e45fcef4a"
  }
 },
 "nbformat": 4,
 "nbformat_minor": 2
}