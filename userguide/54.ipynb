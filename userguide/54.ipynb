{
 "cells": [
  {
   "cell_type": "markdown",
   "metadata": {},
   "source": [
    "# 用户指南，第54章：添加更多文件格式的支持\n",
    "[原文链接](https://web.mit.edu/music21/doc/usersGuide/usersGuide_54_extendingConverter.html)\n",
    "\n",
    "在这个例子中，我们不会使用`from music21 import *`导入music21中的全部内容，而是只导入我们需要的模块。如果你正在开发一个新的`SubConverter`转换器类给自己使用，你可以像往常一样导入全部内容。但是，如果你将来有一天准备把你的代码贡献给music21官方仓库，那么最好是不要使用`import *`，以免导致循环引用。"
   ]
  },
  {
   "cell_type": "code",
   "execution_count": 1,
   "metadata": {},
   "outputs": [],
   "source": [
    "from music21 import converter, note, stream, meter"
   ]
  },
  {
   "cell_type": "markdown",
   "metadata": {},
   "source": [
    "这里我们定义一个简单的文件格式，`.sb`，或者说singlebeat格式。它只包含由A~G的字母组成的字符串，以空格分隔。A~G表示音符的音名（不包含升降调）。两个空格之间的字符串占据一个四分音符的时长，其中每个字母的时长相等。"
   ]
  },
  {
   "cell_type": "code",
   "execution_count": 2,
   "metadata": {},
   "outputs": [],
   "source": [
    "class SingleBeat(converter.subConverters.SubConverter):\n",
    "    # 注意，在定义只包含一个元素的元组时，需要在元素后面加上逗号\n",
    "    registerFormats = ('singlebeat',)  \n",
    "    registerInputExtensions = ('sb',)  \n",
    "\n",
    "    # 这里只需定义parseData方法，让父类SubConverter负责关联.sb文件和以.sb结尾的URL\n",
    "\n",
    "    def parseData(self, strData, number=None):  # movement number is ignored...\n",
    "        '''  'AB C' -> A-8th, B-8th, C-qtr '''\n",
    "        strDataList = strData.split()\n",
    "        s = stream.Part()\n",
    "        m = meter.TimeSignature('4/4')\n",
    "        s.insert(0, m)\n",
    "        for beat in strDataList:\n",
    "            ql = 1.0/len(beat)\n",
    "            for n in beat:\n",
    "                nObj = note.Note(n)\n",
    "                nObj.duration.quarterLength = ql\n",
    "                s.append(nObj)\n",
    "        self.stream = s.makeMeasures()"
   ]
  },
  {
   "cell_type": "markdown",
   "metadata": {},
   "source": [
    "接下来把我们的转换器注册到converter模块中，并与`.sb`文件关联"
   ]
  },
  {
   "cell_type": "code",
   "execution_count": 3,
   "metadata": {},
   "outputs": [],
   "source": [
    "converter.registerSubConverter(SingleBeat)"
   ]
  },
  {
   "cell_type": "markdown",
   "metadata": {},
   "source": [
    "现在我们即可通过converter.parse()解析刚才定义的格式"
   ]
  },
  {
   "cell_type": "code",
   "execution_count": 4,
   "metadata": {},
   "outputs": [
    {
     "name": "stdout",
     "output_type": "stream",
     "text": [
      "{0.0} <music21.stream.Measure 1 offset=0.0>\n",
      "    {0.0} <music21.clef.TrebleClef>\n",
      "    {0.0} <music21.meter.TimeSignature 4/4>\n",
      "    {0.0} <music21.note.Note C>\n",
      "    {0.3333} <music21.note.Note D>\n",
      "    {0.6667} <music21.note.Note C>\n",
      "    {1.0} <music21.note.Note D>\n",
      "    {1.5} <music21.note.Note E>\n",
      "    {2.0} <music21.note.Note F>\n",
      "    {3.0} <music21.note.Note G>\n",
      "    {3.25} <music21.note.Note A>\n",
      "    {3.5} <music21.note.Note G>\n",
      "    {3.75} <music21.note.Note B>\n",
      "{4.0} <music21.stream.Measure 2 offset=4.0>\n",
      "    {0.0} <music21.note.Note G>\n",
      "    {0.5} <music21.note.Note E>\n",
      "    {1.0} <music21.note.Note C>\n",
      "    {2.0} <music21.note.Note D>\n",
      "    {2.2} <music21.note.Note E>\n",
      "    {2.4} <music21.note.Note F>\n",
      "    {2.6} <music21.note.Note E>\n",
      "    {2.8} <music21.note.Note D>\n",
      "    {3.0} <music21.note.Note C>\n",
      "    {4.0} <music21.bar.Barline type=final>\n"
     ]
    }
   ],
   "source": [
    "s = converter.parse('CDC DE F GAGB GE C DEFED C', format='singleBeat')\n",
    "s.show('text')"
   ]
  },
  {
   "cell_type": "markdown",
   "metadata": {},
   "source": [
    "在解析字符串时，也可以通过`singleBeat:`文件头来指定字符串格式："
   ]
  },
  {
   "cell_type": "code",
   "execution_count": 5,
   "metadata": {},
   "outputs": [
    {
     "data": {
      "text/plain": [
       "<music21.note.Note G>"
      ]
     },
     "execution_count": 5,
     "metadata": {},
     "output_type": "execute_result"
    }
   ],
   "source": [
    "s = converter.parse('singleBeat: CDC DE F GAGB GE C DEFED C')\n",
    "s[-1][0]"
   ]
  },
  {
   "cell_type": "markdown",
   "metadata": {},
   "source": [
    "也可以从外部文件中读入"
   ]
  },
  {
   "cell_type": "code",
   "execution_count": 6,
   "metadata": {},
   "outputs": [
    {
     "name": "stdout",
     "output_type": "stream",
     "text": [
      "C:\\Users\\lin\\AppData\\Local\\Temp\\music21\\tmph2cwi3cr.sb\n"
     ]
    }
   ],
   "source": [
    "from music21 import environment\n",
    "e = environment.Environment()\n",
    "fp = e.getTempFile('.sb')\n",
    "with open(fp, 'w') as f:\n",
    "    f.write('CDC DE F GAGB GE C DEFED C')\n",
    "\n",
    "print(fp)"
   ]
  },
  {
   "cell_type": "code",
   "execution_count": 7,
   "metadata": {},
   "outputs": [
    {
     "name": "stdout",
     "output_type": "stream",
     "text": [
      "{0.0} <music21.metadata.Metadata object at 0x1c59f1a41d0>\n",
      "{0.0} <music21.stream.Measure 1 offset=0.0>\n",
      "    {0.0} <music21.clef.TrebleClef>\n",
      "    {0.0} <music21.meter.TimeSignature 4/4>\n",
      "    {0.0} <music21.note.Note C>\n",
      "    {0.3333} <music21.note.Note D>\n",
      "    {0.6667} <music21.note.Note C>\n",
      "    {1.0} <music21.note.Note D>\n",
      "    {1.5} <music21.note.Note E>\n",
      "    {2.0} <music21.note.Note F>\n",
      "    {3.0} <music21.note.Note G>\n",
      "    {3.25} <music21.note.Note A>\n",
      "    {3.5} <music21.note.Note G>\n",
      "    {3.75} <music21.note.Note B>\n",
      "{4.0} <music21.stream.Measure 2 offset=4.0>\n",
      "    {0.0} <music21.note.Note G>\n",
      "    {0.5} <music21.note.Note E>\n",
      "    {1.0} <music21.note.Note C>\n",
      "    {2.0} <music21.note.Note D>\n",
      "    {2.2} <music21.note.Note E>\n",
      "    {2.4} <music21.note.Note F>\n",
      "    {2.6} <music21.note.Note E>\n",
      "    {2.8} <music21.note.Note D>\n",
      "    {3.0} <music21.note.Note C>\n",
      "    {4.0} <music21.bar.Barline type=final>\n"
     ]
    }
   ],
   "source": [
    "s2 = converter.parse(fp)\n",
    "s2.show('text')"
   ]
  },
  {
   "cell_type": "markdown",
   "metadata": {},
   "source": [
    "如果不确定文件后缀名，那么可以使用`format`参数强制指定解析格式"
   ]
  },
  {
   "cell_type": "code",
   "execution_count": 8,
   "metadata": {},
   "outputs": [
    {
     "data": {
      "text/plain": [
       "<music21.stream.Part 0x1c59f17b990>"
      ]
     },
     "execution_count": 8,
     "metadata": {},
     "output_type": "execute_result"
    }
   ],
   "source": [
    "s3 = converter.parse(fp, format='singleBeat')\n",
    "s3"
   ]
  },
  {
   "cell_type": "markdown",
   "metadata": {},
   "source": [
    "现在，在music21中所有支持多种文件格式的地方，singleBeat都会被列为一种受支持的文件格式"
   ]
  },
  {
   "cell_type": "code",
   "execution_count": 9,
   "metadata": {},
   "outputs": [
    {
     "data": {
      "text/plain": [
       "('singlebeat', '.sb')"
      ]
     },
     "execution_count": 9,
     "metadata": {},
     "output_type": "execute_result"
    }
   ],
   "source": [
    "from music21 import common\n",
    "common.findFormat('singleBeat')"
   ]
  },
  {
   "cell_type": "markdown",
   "metadata": {},
   "source": [
    "通过`converter.resetSubConverters`，可以复原我们对格式进行的修改，让music21忘记我们定义的格式。"
   ]
  },
  {
   "cell_type": "code",
   "execution_count": 10,
   "metadata": {},
   "outputs": [],
   "source": [
    "converter.resetSubConverters()"
   ]
  },
  {
   "cell_type": "markdown",
   "metadata": {},
   "source": []
  }
 ],
 "metadata": {
  "kernelspec": {
   "display_name": "Python 3",
   "language": "python",
   "name": "python3"
  },
  "language_info": {
   "codemirror_mode": {
    "name": "ipython",
    "version": 3
   },
   "file_extension": ".py",
   "mimetype": "text/x-python",
   "name": "python",
   "nbconvert_exporter": "python",
   "pygments_lexer": "ipython3",
   "version": "3.11.6"
  }
 },
 "nbformat": 4,
 "nbformat_minor": 2
}
