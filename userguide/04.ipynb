{
 "cells": [
  {
   "cell_type": "markdown",
   "metadata": {},
   "source": [
    "# 用户指南，第4章：列表，流(I)与输出\n",
    "[原文链接](https://www.music21.org/music21docs/usersGuide/usersGuide_04_stream1.html)\n",
    "\n",
    "在前两章中，介绍了音符`Note`对象，它包含音高`Pitch`和时值`Duration`。我们还以五线谱形式显示音符，并以midi形式播放。但是， unless you’re challenging Cage and Webern for the status of least musical material，你应该需要分析，处理或创建多个音符。\n",
    "\n",
    "Python有多种手段处理多个对象，music21面向音乐地扩展了这些手段。我们先介绍Python的原生处理方式，再来介绍music21是如何扩展的。（如果你有python经验，可以直接跳过下面创建`note1`、`note2`、`note3`的段落）。\n",
    "\n",
    "现在有两个音符，C4和F#4。我们来创建音符对象：\n",
    "\n",
    "## 用Python列表处理多个对象"
   ]
  },
  {
   "cell_type": "code",
   "execution_count": 1,
   "metadata": {},
   "outputs": [],
   "source": [
    "from music21 import *\n",
    "note1 = note.Note(\"C4\")\n",
    "note2 = note.Note(\"F#4\")"
   ]
  },
  {
   "cell_type": "markdown",
   "metadata": {},
   "source": [
    "通过修改`duration`，将第一个音符改为半音符（音符默认为四分音符）"
   ]
  },
  {
   "cell_type": "code",
   "execution_count": 2,
   "metadata": {},
   "outputs": [
    {
     "data": {
      "text/plain": [
       "2.0"
      ]
     },
     "execution_count": 2,
     "metadata": {},
     "output_type": "execute_result"
    }
   ],
   "source": [
    "note1.duration.type = 'half'\n",
    "note1.duration.quarterLength"
   ]
  },
  {
   "cell_type": "code",
   "execution_count": 3,
   "metadata": {},
   "outputs": [
    {
     "data": {
      "text/plain": [
       "1.0"
      ]
     },
     "execution_count": 3,
     "metadata": {},
     "output_type": "execute_result"
    }
   ],
   "source": [
    "note2.duration.quarterLength"
   ]
  },
  {
   "cell_type": "markdown",
   "metadata": {},
   "source": [
    "为了输出每个音符的`step`（没有八度与变调符号信息的音名），你可以："
   ]
  },
  {
   "cell_type": "code",
   "execution_count": 4,
   "metadata": {},
   "outputs": [
    {
     "name": "stdout",
     "output_type": "stream",
     "text": [
      "C\n"
     ]
    }
   ],
   "source": [
    "print(note1.step)"
   ]
  },
  {
   "cell_type": "code",
   "execution_count": 5,
   "metadata": {},
   "outputs": [
    {
     "name": "stdout",
     "output_type": "stream",
     "text": [
      "F\n"
     ]
    }
   ],
   "source": [
    "print(note2.step)"
   ]
  },
  {
   "cell_type": "markdown",
   "metadata": {},
   "source": [
    "但是如果你有30个音符怎么办？一遍遍输入`print(noteX.step)`很麻烦。幸运的是，我们可以把音符存入一个列表`list`，它是Python内置的一种对象，用来存储多个其他对象（例如音符、和弦，或者数值）。在方括号`[]`中，将你要存储的对象用逗号分隔开，以创建列表。我们来创建一个叫`noteList`的列表，包含`note1`和`note2`"
   ]
  },
  {
   "cell_type": "code",
   "execution_count": 6,
   "metadata": {},
   "outputs": [],
   "source": [
    "noteList = [note1, note2]"
   ]
  },
  {
   "cell_type": "markdown",
   "metadata": {},
   "source": [
    "使用print来检查`noteList`包含我们的音符"
   ]
  },
  {
   "cell_type": "code",
   "execution_count": 7,
   "metadata": {},
   "outputs": [
    {
     "name": "stdout",
     "output_type": "stream",
     "text": [
      "[<music21.note.Note C>, <music21.note.Note F#>]\n"
     ]
    }
   ],
   "source": [
    "print(noteList)"
   ]
  },
  {
   "cell_type": "markdown",
   "metadata": {},
   "source": [
    "现在我们可以写一个两行的程序来输出列表中的所有音符。大多数现代编程语言都有一种方法对列表中的所有元素进行操作。在python中，它是`for`。输入以下代码时，请一定要输入第二行开头的空格（如果在命令行中输入，则你需要按两次回车来运行）"
   ]
  },
  {
   "cell_type": "code",
   "execution_count": 8,
   "metadata": {},
   "outputs": [
    {
     "name": "stdout",
     "output_type": "stream",
     "text": [
      "C\n",
      "F\n"
     ]
    }
   ],
   "source": [
    "for thisNote in noteList:\n",
    "    print(thisNote.step)"
   ]
  },
  {
   "cell_type": "markdown",
   "metadata": {},
   "source": [
    "以上代码是如何运行的？`for thisNote in noteList:`表示按顺序取出`noteList`中的每个元素，并临时地称为`thisNote`。然后，冒号`:`表示以下的一些代码会对`noteList`的每个元素执行。那么python怎么知道哪些代码属于这个范畴？简单：循环内的每一行开头必须用空格缩进。（我通常用四个空格或tab键。有些人用两个空格。只要一致就好）\n",
    "\n",
    "这里的循环不节省多少时间，但如果有几十个，甚至几百个音符要处理？那么对每个对象进行操作的能力越来越重要了。\n",
    "\n",
    "向noteList加入另一个音符。创建一个`B-2`"
   ]
  },
  {
   "cell_type": "code",
   "execution_count": 9,
   "metadata": {},
   "outputs": [],
   "source": [
    "note3 = note.Note(\"B-2\")"
   ]
  },
  {
   "cell_type": "markdown",
   "metadata": {},
   "source": [
    "然后添加到`noteList`的末尾"
   ]
  },
  {
   "cell_type": "code",
   "execution_count": 10,
   "metadata": {},
   "outputs": [],
   "source": [
    "noteList.append(note3)"
   ]
  },
  {
   "cell_type": "markdown",
   "metadata": {},
   "source": [
    "列表在运行中可以改变，称为“可变的”（mutable）对象（我们后面会学到不可变对象）。\n",
    "\n",
    "通过`len()`函数，我们可以看到`noteList`的长度是3"
   ]
  },
  {
   "cell_type": "code",
   "execution_count": 11,
   "metadata": {},
   "outputs": [
    {
     "data": {
      "text/plain": [
       "3"
      ]
     },
     "execution_count": 11,
     "metadata": {},
     "output_type": "execute_result"
    }
   ],
   "source": [
    "len(noteList)"
   ]
  },
  {
   "cell_type": "markdown",
   "metadata": {},
   "source": [
    "再次运行循环，我们会看到第三个音符"
   ]
  },
  {
   "cell_type": "code",
   "execution_count": 12,
   "metadata": {},
   "outputs": [
    {
     "name": "stdout",
     "output_type": "stream",
     "text": [
      "C\n",
      "F\n",
      "B\n"
     ]
    }
   ],
   "source": [
    "for thisNote in noteList:\n",
    "    print(thisNote.step)"
   ]
  },
  {
   "cell_type": "markdown",
   "metadata": {},
   "source": [
    "输出第一个音符："
   ]
  },
  {
   "cell_type": "code",
   "execution_count": 13,
   "metadata": {},
   "outputs": [
    {
     "data": {
      "text/plain": [
       "<music21.note.Note C>"
      ]
     },
     "execution_count": 13,
     "metadata": {},
     "output_type": "execute_result"
    }
   ],
   "source": [
    "noteList[0]"
   ]
  },
  {
   "cell_type": "markdown",
   "metadata": {},
   "source": [
    "注意在列表中，第一个元素是`[0]`，而不是`[1]`。这是各种历史原因造成的，即计算机计算以0开头的列表比以1开头的列表更快，有点别扭，但是我们必须适应。想象一下，欧洲和美国的楼层计法。\n",
    "\n",
    "> 译注：其实以[0]开头更方便，例如等差数列第n项的值为：初项+公差*(n-1)，20世纪是19xx年，如果以0开头都能省事一些。班上有50个人，要根据学号排成6列。如果学号、行号和列号都以0开头，则26号的位置就是26//6=4行，26%6=2列，计算起来更简单。\n",
    ">\n",
    "> 手动狗头@[musicpy](https://github.com/Rainbow-Dreamer/musicpy/wiki/Data-structures-of-musicpy-%E6%95%B0%E6%8D%AE%E7%BB%93%E6%9E%84)，它不Pythonic。\n",
    "\n",
    "继续前往下一个音符，即第二个音符："
   ]
  },
  {
   "cell_type": "code",
   "execution_count": 14,
   "metadata": {},
   "outputs": [
    {
     "data": {
      "text/plain": [
       "<music21.note.Note F#>"
      ]
     },
     "execution_count": 14,
     "metadata": {},
     "output_type": "execute_result"
    }
   ],
   "source": [
    "noteList[1]"
   ]
  },
  {
   "cell_type": "markdown",
   "metadata": {},
   "source": [
    "通过`index()`函数，向`noteList`询问`note2`在哪里"
   ]
  },
  {
   "cell_type": "code",
   "execution_count": 15,
   "metadata": {},
   "outputs": [
    {
     "data": {
      "text/plain": [
       "1"
      ]
     },
     "execution_count": 15,
     "metadata": {},
     "output_type": "execute_result"
    }
   ],
   "source": [
    "noteList.index(note2)"
   ]
  },
  {
   "cell_type": "markdown",
   "metadata": {},
   "source": [
    "获取最后一个元素："
   ]
  },
  {
   "cell_type": "code",
   "execution_count": 16,
   "metadata": {},
   "outputs": [
    {
     "data": {
      "text/plain": [
       "<music21.note.Note B->"
      ]
     },
     "execution_count": 16,
     "metadata": {},
     "output_type": "execute_result"
    }
   ],
   "source": [
    "noteList[-1]"
   ]
  },
  {
   "cell_type": "markdown",
   "metadata": {},
   "source": [
    "这是欧洲对地下室的楼层计法。这和noteList[2]是同一个元素。我们可以验证："
   ]
  },
  {
   "cell_type": "code",
   "execution_count": 17,
   "metadata": {},
   "outputs": [
    {
     "data": {
      "text/plain": [
       "True"
      ]
     },
     "execution_count": 17,
     "metadata": {},
     "output_type": "execute_result"
    }
   ],
   "source": [
    "noteList[-1] is noteList[2]"
   ]
  },
  {
   "cell_type": "markdown",
   "metadata": {},
   "source": [
    "Python列表在编程中是一个重要的工具，但是Python列表对音乐一无所知。为了给我们的音乐带来智能，我们需要使用music21中的列表：流`Stream`\n",
    "\n",
    "## 流`Stream`简介\n",
    "\n",
    "`Stream`和它的衍生类（总谱`Score`、音轨`Part`、小节`Measure`）是music21中的基本容器，存储`Note`、`Chord`、`Clef`和`TimeSignature`等各种music21对象。\n",
    "\n",
    "`Stream`中的对象是在时间中分布的。每个对象有一个时刻（offset）表示它距离`Stream`的开头有多少个四分音符。例如，在一个4/4小节中有两个二分音符，第一个音符的时刻是0.0，第二个音符的时刻是2.0。\n",
    "\n",
    "进一步地，`Stream`也可以存储别的`Stream`，以实现嵌套的、时间顺序的结构。存储的`Stream`也有时刻。例如，将两个4/4的`Measure`对象存入一个`Part`中，第一个`Measure`的时刻是0.0，第二个`Measure`的时刻是4.0。\n",
    "\n",
    "常用的`Stream`衍生类包括总谱`Score`、音轨`Part`和小节`Measure`。任何时候，需要将一群music21对象放到一起时，我们都会把它放入一个`Stream`。`Stream`也能用于没有那么按常理组织的结构（conventional organizational structures）。我们会经常创建与处理临时的`Stream`，因为`Stream`提供了大量用于解包和处理批量对象的有效工具。例如，如果你要提取所有位于当前小节第2拍的音符，你会想把它们存入`Stream`。\n",
    "\n",
    "与其他音乐分析框架相比，music21设计上的一大特色是：一个music21可以同时属于多个`Stream`（或者说，被多个`Stream`引用）。例如，一个`Part`中有多个`Measure`。如果提取出`Part`的一个区间（使用`measures()`函数），则得到一个新的`Stream`，包含我们想要的小节。这一过程中，我们没有创建新的音符对象，而是仅仅在新的`Stream`中引用这些音符。在输出的`Stream`中对音符进行的操作会同时在原来的`Part`中发生。当然有一个限制：相同的对象不能在一个`Stream`的树结构中出现两次。例如，你不能把一个音符同时存入同一个乐谱的第3小节和第5小节，但可以同时存入一个乐谱的第3小节和另一个乐谱的第5小节。（例如，如果你想在原版的乐谱和改编版的乐谱中跟踪这个音符）。大多数用户无需担心这些细节，只需要知道这个特性让music21能够实现其他软件实现不了的功能。\n",
    "\n",
    "## 创建简单的`Stream`\n",
    "`Stream`中存放的对象叫做“元素”，必须是一种`Music21Object`（不用担心，music21中几乎所有对象都是`Music21Object`，例如音符`Note`，和弦`Chord`、拍号`TimeSignature`等等）\n",
    "\n",
    "（如果想把不是`Music21Object`的对象加入`Stream`，请使用[`ElementWrapper`](https://www.music21.org/music21docs/moduleReference/moduleBase.html#music21.base.ElementWrapper)）\n",
    "\n",
    "`Stream`和列表都能按顺序存储独立的元素。这一点上来说它们是相似的。但不同之处是：`Stream`只能存储music21对象，但`Stream`更强大更智能。\n",
    "\n",
    "要创建一个`Stream`，只需输入`stream.Stream()`，然后用等号赋值给一个变量。我们叫它`stream1`"
   ]
  },
  {
   "cell_type": "code",
   "execution_count": 18,
   "metadata": {},
   "outputs": [],
   "source": [
    "stream1 = stream.Stream()"
   ]
  },
  {
   "cell_type": "markdown",
   "metadata": {},
   "source": [
    "注意：就像对象`Note`（大写）属于模块`note`（小写），对象`Stream`（大写）属于模块`stream`（小写）。变量名，例如`stream1`既可以是大写，也可以是小写（或者驼峰格式，例如我们刚才的`noteList`）\n",
    "\n",
    "`Stream`的主要用法是存储音符。我们把刚才的三个`Note`存入`stream1`，使用`append`方法。"
   ]
  },
  {
   "cell_type": "code",
   "execution_count": 19,
   "metadata": {},
   "outputs": [],
   "source": [
    "stream1.append(note1)\n",
    "stream1.append(note2)\n",
    "stream1.append(note3)"
   ]
  },
  {
   "cell_type": "markdown",
   "metadata": {},
   "source": [
    "当然，这对于几百个音符来说会很麻烦，所以我们也可以用`repeatAppend()`方法来加入同一个音符的大量独立副本。该函数通过python的`copy.deepcopy`创建独立副本，而不是同一个对象的多次引用。"
   ]
  },
  {
   "cell_type": "code",
   "execution_count": 20,
   "metadata": {},
   "outputs": [
    {
     "data": {
      "image/png": "[encoded data removed]",
      "text/plain": [
       "<IPython.core.display.Image object>"
      ]
     },
     "metadata": {
      "image/png": {
       "height": 49,
       "width": 244
      }
     },
     "output_type": "display_data"
    }
   ],
   "source": [
    "stream2 = stream.Stream()\n",
    "n3 = note.Note('D#5')  # 创建Note对象时可以输入八度号\n",
    "stream2.repeatAppend(n3, 4)\n",
    "stream2.show()"
   ]
  },
  {
   "cell_type": "markdown",
   "metadata": {},
   "source": [
    "回到第一个stream。用`len`来查看它含有的对象数量"
   ]
  },
  {
   "cell_type": "code",
   "execution_count": 21,
   "metadata": {},
   "outputs": [
    {
     "data": {
      "text/plain": [
       "3"
      ]
     },
     "execution_count": 21,
     "metadata": {},
     "output_type": "execute_result"
    }
   ],
   "source": [
    "len(stream1)"
   ]
  },
  {
   "cell_type": "markdown",
   "metadata": {},
   "source": [
    "还可以用`Show()`函数查看Stream的内容及其时刻（这里，时刻从0.0开始，因为我们是在新建空`Stream`中加入对象）"
   ]
  },
  {
   "cell_type": "code",
   "execution_count": 22,
   "metadata": {},
   "outputs": [
    {
     "name": "stdout",
     "output_type": "stream",
     "text": [
      "{0.0} <music21.note.Note C>\n",
      "{2.0} <music21.note.Note F#>\n",
      "{3.0} <music21.note.Note B->\n"
     ]
    }
   ],
   "source": [
    "stream1.show('text')"
   ]
  },
  {
   "cell_type": "markdown",
   "metadata": {},
   "source": [
    "如果你已经正确配置了环境，则`show`函数将会打开Finale，Sibelius，或者MuseScore并显示音符"
   ]
  },
  {
   "cell_type": "code",
   "execution_count": 23,
   "metadata": {},
   "outputs": [
    {
     "data": {
      "image/png": "[encoded data removed]",
      "text/plain": [
       "<IPython.core.display.Image object>"
      ]
     },
     "metadata": {
      "image/png": {
       "height": 55,
       "width": 262
      }
     },
     "output_type": "display_data"
    }
   ],
   "source": [
    "stream1.show()"
   ]
  },
  {
   "cell_type": "markdown",
   "metadata": {},
   "source": [
    "## 访问`Stream`\n",
    "获取每个音符的初始音名："
   ]
  },
  {
   "cell_type": "code",
   "execution_count": 24,
   "metadata": {},
   "outputs": [
    {
     "name": "stdout",
     "output_type": "stream",
     "text": [
      "C\n",
      "F\n",
      "B\n"
     ]
    }
   ],
   "source": [
    "for thisNote in stream1:\n",
    "    print(thisNote.step)"
   ]
  },
  {
   "cell_type": "markdown",
   "metadata": {},
   "source": [
    "如同python列表一样，用`[X]`来访问`Stream`元素"
   ]
  },
  {
   "cell_type": "code",
   "execution_count": 25,
   "metadata": {},
   "outputs": [
    {
     "data": {
      "text/plain": [
       "<music21.note.Note C>"
      ]
     },
     "execution_count": 25,
     "metadata": {},
     "output_type": "execute_result"
    }
   ],
   "source": [
    "stream1[0]"
   ]
  },
  {
   "cell_type": "code",
   "execution_count": 26,
   "metadata": {},
   "outputs": [
    {
     "data": {
      "text/plain": [
       "'B-2'"
      ]
     },
     "execution_count": 26,
     "metadata": {},
     "output_type": "execute_result"
    }
   ],
   "source": [
    "stream1[-1].nameWithOctave"
   ]
  },
  {
   "cell_type": "markdown",
   "metadata": {},
   "source": [
    "虽然`Stream`不具有Python列表的所有功能，但实现了一些常用的高级功能。用`index()`获取对象在`Stream`中的位置"
   ]
  },
  {
   "cell_type": "code",
   "execution_count": 27,
   "metadata": {},
   "outputs": [
    {
     "data": {
      "text/plain": [
       "2"
      ]
     },
     "execution_count": 27,
     "metadata": {},
     "output_type": "execute_result"
    }
   ],
   "source": [
    "note3Index = stream1.index(note3)\n",
    "note3Index"
   ]
  },
  {
   "cell_type": "markdown",
   "metadata": {},
   "source": [
    "用`pop()`删除指定位置的元素"
   ]
  },
  {
   "cell_type": "code",
   "execution_count": 28,
   "metadata": {},
   "outputs": [
    {
     "data": {
      "image/png": "[encoded data removed]",
      "text/plain": [
       "<IPython.core.display.Image object>"
      ]
     },
     "metadata": {
      "image/png": {
       "height": 49,
       "width": 234
      }
     },
     "output_type": "display_data"
    }
   ],
   "source": [
    "stream1.pop(note3Index)\n",
    "stream1.show()"
   ]
  },
  {
   "cell_type": "markdown",
   "metadata": {},
   "source": [
    "把刚才删除的`note3`加回来"
   ]
  },
  {
   "cell_type": "code",
   "execution_count": 29,
   "metadata": {},
   "outputs": [
    {
     "data": {
      "image/png": "[encoded data removed]",
      "text/plain": [
       "<IPython.core.display.Image object>"
      ]
     },
     "metadata": {
      "image/png": {
       "height": 55,
       "width": 262
      }
     },
     "output_type": "display_data"
    }
   ],
   "source": [
    "stream1.append(note3)\n",
    "stream1.show()"
   ]
  },
  {
   "cell_type": "markdown",
   "metadata": {},
   "source": [
    "## 用`getElementByClass()`获取指定类型元素\n",
    "可以用类型、时间区间，或者是元素上特定的标识来选取元素。`getElementByClass()`是一个迭代器，返回Stream中所有指定类型的元素。下面的例子将所有的`Note`和`Rest`元素筛选出来。最简单的方法是用for循环从`getElementByClass()`中取出元素。"
   ]
  },
  {
   "cell_type": "code",
   "execution_count": 30,
   "metadata": {},
   "outputs": [
    {
     "name": "stdout",
     "output_type": "stream",
     "text": [
      "<music21.note.Note C> 0.0\n",
      "<music21.note.Note F#> 2.0\n",
      "<music21.note.Note B-> 3.0\n"
     ]
    }
   ],
   "source": [
    "for thisNote in stream1.getElementsByClass(note.Note):\n",
    "    print(thisNote, thisNote.offset)"
   ]
  },
  {
   "cell_type": "markdown",
   "metadata": {},
   "source": [
    "除了类`note.Note`外，也可以输入字符串`Note`"
   ]
  },
  {
   "cell_type": "code",
   "execution_count": 31,
   "metadata": {},
   "outputs": [
    {
     "name": "stdout",
     "output_type": "stream",
     "text": [
      "<music21.note.Note C> 0.0\n",
      "<music21.note.Note F#> 2.0\n",
      "<music21.note.Note B-> 3.0\n"
     ]
    }
   ],
   "source": [
    "for thisNote in stream1.getElementsByClass('Note'):\n",
    "    print(thisNote, thisNote.offset)"
   ]
  },
  {
   "cell_type": "markdown",
   "metadata": {},
   "source": [
    "也可以输入一个类型列表，则返回这些类型的所有元素"
   ]
  },
  {
   "cell_type": "code",
   "execution_count": 32,
   "metadata": {},
   "outputs": [
    {
     "name": "stdout",
     "output_type": "stream",
     "text": [
      "<music21.note.Note C> 0.0\n",
      "<music21.note.Note F#> 2.0\n",
      "<music21.note.Note B-> 3.0\n"
     ]
    }
   ],
   "source": [
    "for thisNote in stream1.getElementsByClass(['Note', 'Rest']):\n",
    "    print(thisNote, thisNote.offset)"
   ]
  },
  {
   "cell_type": "markdown",
   "metadata": {},
   "source": [
    "由于这里没有`note.Rest`对象，以上返回结果是一样的。\n",
    "\n",
    "music21提供一些和`.getElementsByClass`等价的快捷方式。例如，`.notes`和`.getElementsByClass(['Note', 'Chord'])`等价"
   ]
  },
  {
   "cell_type": "code",
   "execution_count": 33,
   "metadata": {},
   "outputs": [
    {
     "name": "stdout",
     "output_type": "stream",
     "text": [
      "<music21.note.Note C>\n",
      "<music21.note.Note F#>\n",
      "<music21.note.Note B->\n"
     ]
    }
   ],
   "source": [
    "for thisNote in stream1.notes:\n",
    "    print(thisNote)"
   ]
  },
  {
   "cell_type": "markdown",
   "metadata": {},
   "source": [
    "`.notesAndRests`和`.getElementsByClass(['Note', 'Chord', 'Rest'])`等价"
   ]
  },
  {
   "cell_type": "code",
   "execution_count": 34,
   "metadata": {},
   "outputs": [
    {
     "name": "stdout",
     "output_type": "stream",
     "text": [
      "<music21.note.Note C>\n",
      "<music21.note.Note F#>\n",
      "<music21.note.Note B->\n"
     ]
    }
   ],
   "source": [
    "for thisNote in stream1.notesAndRests:\n",
    "    print(thisNote)"
   ]
  },
  {
   "cell_type": "markdown",
   "metadata": {},
   "source": [
    "`.pitches`返回`Stream`中所有`Note`和`Chord`的音高组成的列表"
   ]
  },
  {
   "cell_type": "code",
   "execution_count": 35,
   "metadata": {},
   "outputs": [
    {
     "data": {
      "text/plain": [
       "[<music21.pitch.Pitch C4>,\n",
       " <music21.pitch.Pitch F#4>,\n",
       " <music21.pitch.Pitch B-2>]"
      ]
     },
     "execution_count": 35,
     "metadata": {},
     "output_type": "execute_result"
    }
   ],
   "source": [
    "listOut = stream1.pitches\n",
    "listOut"
   ]
  },
  {
   "cell_type": "markdown",
   "metadata": {},
   "source": [
    "`.getElementsByClass`的结果不是`Stream`，但是也能用`.show()`显示"
   ]
  },
  {
   "cell_type": "code",
   "execution_count": 36,
   "metadata": {},
   "outputs": [
    {
     "name": "stdout",
     "output_type": "stream",
     "text": [
      "{0.0} <music21.note.Note C>\n",
      "{2.0} <music21.note.Note F#>\n",
      "{3.0} <music21.note.Note B->\n"
     ]
    }
   ],
   "source": [
    "sOut = stream1.getElementsByClass(note.Note)\n",
    "sOut.show('text')"
   ]
  },
  {
   "cell_type": "markdown",
   "metadata": {},
   "source": [
    "但如果你想让它成为一个`Stream`，则使用`.stream()`"
   ]
  },
  {
   "cell_type": "code",
   "execution_count": 37,
   "metadata": {},
   "outputs": [
    {
     "name": "stdout",
     "output_type": "stream",
     "text": [
      "{0.0} <music21.note.Note C>\n",
      "{2.0} <music21.note.Note F#>\n",
      "{3.0} <music21.note.Note B->\n"
     ]
    }
   ],
   "source": [
    "sOut = stream1.getElementsByClass(note.Note).stream()  # <-- different\n",
    "sOut.show('text')"
   ]
  },
  {
   "cell_type": "markdown",
   "metadata": {},
   "source": [
    "## 用`getElementByOffset()`获取指定时间的元素\n",
    "`getElementByOffset()`可获取一个列表中，指定时刻或两个时刻之间的所有内容。"
   ]
  },
  {
   "cell_type": "code",
   "execution_count": 38,
   "metadata": {},
   "outputs": [
    {
     "data": {
      "text/plain": [
       "1"
      ]
     },
     "execution_count": 38,
     "metadata": {},
     "output_type": "execute_result"
    }
   ],
   "source": [
    "sOut = stream1.getElementsByOffset(3)\n",
    "len(sOut)"
   ]
  },
  {
   "cell_type": "code",
   "execution_count": 39,
   "metadata": {},
   "outputs": [
    {
     "data": {
      "text/plain": [
       "<music21.note.Note B->"
      ]
     },
     "execution_count": 39,
     "metadata": {},
     "output_type": "execute_result"
    }
   ],
   "source": [
    "sOut[0]"
   ]
  },
  {
   "cell_type": "markdown",
   "metadata": {},
   "source": [
    "如同`.getElementsByClass()`，如果你想把`.getElementsByOffset()`输出的结果转为`Stream`，请使用`.stream`"
   ]
  },
  {
   "cell_type": "code",
   "execution_count": 40,
   "metadata": {},
   "outputs": [
    {
     "name": "stdout",
     "output_type": "stream",
     "text": [
      "{2.0} <music21.note.Note F#>\n",
      "{3.0} <music21.note.Note B->\n"
     ]
    }
   ],
   "source": [
    "sOut = stream1.getElementsByOffset(2, 3).stream()\n",
    "sOut.show('text')"
   ]
  },
  {
   "cell_type": "markdown",
   "metadata": {},
   "source": [
    "## 更多的`Stream`特性\n",
    "`Stream`还提供了强大的分析功能。例如，获取一段音乐的音域（最高音和最低音的音程）："
   ]
  },
  {
   "cell_type": "code",
   "execution_count": 41,
   "metadata": {},
   "outputs": [
    {
     "data": {
      "text/plain": [
       "<music21.interval.Interval A12>"
      ]
     },
     "execution_count": 41,
     "metadata": {},
     "output_type": "execute_result"
    }
   ],
   "source": [
    "stream1.analyze('ambitus')"
   ]
  },
  {
   "cell_type": "markdown",
   "metadata": {},
   "source": [
    "在上述代码中，最低音是`note3`（`B-2`），最高音是`note2`（`f#4`）。从`B-`到`F#`的音程是增五度，增五度+八度=增12度，所以以上结果是正确的。（[第18章]()将介绍更多分析工具，[第15章]()将介绍音程`Interval`对象）。\n",
    "\n",
    "之前提到过，在`Stream`中，音符和其他元素都有时刻，表示该元素距离`Stream`开头的时间。时刻以四分音符为单位。\n",
    "\n",
    "`Stream`中的`Note`，可以用`.offset`获取时刻。那么，`note1`的时刻为0.0。"
   ]
  },
  {
   "cell_type": "code",
   "execution_count": 42,
   "metadata": {},
   "outputs": [
    {
     "data": {
      "text/plain": [
       "0.0"
      ]
     },
     "execution_count": 42,
     "metadata": {},
     "output_type": "execute_result"
    }
   ],
   "source": [
    "note1.offset"
   ]
  },
  {
   "cell_type": "markdown",
   "metadata": {},
   "source": [
    "`note2`的时刻为2.0，因为`note1`是半音符，占据两个时值。"
   ]
  },
  {
   "cell_type": "code",
   "execution_count": 43,
   "metadata": {},
   "outputs": [
    {
     "data": {
      "text/plain": [
       "2.0"
      ]
     },
     "execution_count": 43,
     "metadata": {},
     "output_type": "execute_result"
    }
   ],
   "source": [
    "note2.offset"
   ]
  },
  {
   "cell_type": "markdown",
   "metadata": {},
   "source": [
    "`note3`的时刻为3.0"
   ]
  },
  {
   "cell_type": "code",
   "execution_count": 44,
   "metadata": {},
   "outputs": [
    {
     "data": {
      "text/plain": [
       "3.0"
      ]
     },
     "execution_count": 44,
     "metadata": {},
     "output_type": "execute_result"
    }
   ],
   "source": [
    "note3.offset"
   ]
  },
  {
   "cell_type": "markdown",
   "metadata": {},
   "source": [
    "（如果将`note2`改为八分音符，则`note3`的时刻将变成浮点数2.5）。下面在for循环中输出所有音符的时刻和音名"
   ]
  },
  {
   "cell_type": "code",
   "execution_count": 45,
   "metadata": {},
   "outputs": [
    {
     "name": "stdout",
     "output_type": "stream",
     "text": [
      "0.0 C\n",
      "2.0 F#\n",
      "3.0 B-\n"
     ]
    }
   ],
   "source": [
    "for thisNote in stream1:\n",
    "    print(thisNote.offset, thisNote.name)"
   ]
  },
  {
   "cell_type": "markdown",
   "metadata": {},
   "source": [
    "（题外话：现在告诉你，`.getOffsetBySite(stream1)`是一个比`.offset`更安全的获取时刻的方式，应该不是太早\n",
    "\n",
    "> 译注：如果有一定的项目开发经验，看到一个音符可以属于多个`Stream`的时候就应该想到这一点"
   ]
  },
  {
   "cell_type": "code",
   "execution_count": 46,
   "metadata": {},
   "outputs": [
    {
     "data": {
      "text/plain": [
       "2.0"
      ]
     },
     "execution_count": 46,
     "metadata": {},
     "output_type": "execute_result"
    }
   ],
   "source": [
    "note2.offset"
   ]
  },
  {
   "cell_type": "code",
   "execution_count": 47,
   "metadata": {},
   "outputs": [
    {
     "data": {
      "text/plain": [
       "2.0"
      ]
     },
     "execution_count": 47,
     "metadata": {},
     "output_type": "execute_result"
    }
   ],
   "source": [
    "note2.getOffsetBySite(stream1)"
   ]
  },
  {
   "cell_type": "markdown",
   "metadata": {},
   "source": [
    "区别是什么？刚才说了，`.offset`表示音符相对于`Stream`开头的时间差。那么，你总有一天会遇到`Note`同时属于多个`Stream`，所以`.getOffsetBySite(X)`更安全，因为指定了参照系。）\n",
    "\n",
    "`lowestOffset`表示`Stream`中所有元素中最低的时刻"
   ]
  },
  {
   "cell_type": "code",
   "execution_count": 48,
   "metadata": {},
   "outputs": [
    {
     "data": {
      "text/plain": [
       "0.0"
      ]
     },
     "execution_count": 48,
     "metadata": {},
     "output_type": "execute_result"
    }
   ],
   "source": [
    "stream1.lowestOffset"
   ]
  },
  {
   "cell_type": "markdown",
   "metadata": {},
   "source": [
    "`Stream`还能做什么呢？就像`Note`一样，使用`Show()`函数，我们可以用不同方式显示`Stream`。用MIDI播放这些音符："
   ]
  },
  {
   "cell_type": "code",
   "execution_count": 49,
   "metadata": {},
   "outputs": [
    {
     "data": {
      "text/html": [
       "\n",
       "                <div id='midiPlayerDiv449'></div>\n",
       "                <link rel=\"stylesheet\" href=\"//cuthbertLab.github.io/music21j/css/m21.css\"\n",
       "                    type=\"text/css\" />\n",
       "                <script>\n",
       "                require.config({\n",
       "                    paths: {'music21': '//cuthbertLab.github.io/music21j/src/music21'}\n",
       "                });\n",
       "                require(['music21'], function() {\n",
       "                               mp = new music21.miditools.MidiPlayer();\n",
       "                               mp.addPlayer('#midiPlayerDiv449');\n",
       "                               mp.base64Load('data:audio/midi;base64,TVRoZAAAAAYAAQACBABNVHJrAAAAFAD/UQMHoSAA/1gEBAIYCIgA/y8ATVRyawAAACkA/wMAAOAAQIgAkDxakACAPAAAkEJaiACAQgAAkC5aiACALgCIAP8vAA==');\n",
       "                        });\n",
       "                </script>"
      ],
      "text/plain": [
       "<IPython.core.display.HTML object>"
      ]
     },
     "metadata": {},
     "output_type": "display_data"
    }
   ],
   "source": [
    "stream1.show('midi')"
   ]
  },
  {
   "cell_type": "markdown",
   "metadata": {},
   "source": [
    "或者以五线谱形式显示"
   ]
  },
  {
   "cell_type": "code",
   "execution_count": 50,
   "metadata": {},
   "outputs": [
    {
     "data": {
      "image/png": "[encoded data removed]",
      "text/plain": [
       "<IPython.core.display.Image object>"
      ]
     },
     "metadata": {
      "image/png": {
       "height": 55,
       "width": 262
      }
     },
     "output_type": "display_data"
    }
   ],
   "source": [
    "stream1.show()"
   ]
  },
  {
   "cell_type": "markdown",
   "metadata": {},
   "source": [
    "你可能要问，为什么是4/4拍？因为这是新建对象的默认节拍，在`defaults`模块中可以看到"
   ]
  },
  {
   "cell_type": "code",
   "execution_count": 51,
   "metadata": {},
   "outputs": [
    {
     "data": {
      "text/plain": [
       "4"
      ]
     },
     "execution_count": 51,
     "metadata": {},
     "output_type": "execute_result"
    }
   ],
   "source": [
    "defaults.meterNumerator"
   ]
  },
  {
   "cell_type": "code",
   "execution_count": 52,
   "metadata": {},
   "outputs": [
    {
     "data": {
      "text/plain": [
       "'quarter'"
      ]
     },
     "execution_count": 52,
     "metadata": {},
     "output_type": "execute_result"
    }
   ],
   "source": [
    "defaults.meterDenominator"
   ]
  },
  {
   "cell_type": "markdown",
   "metadata": {},
   "source": [
    "以后会介绍如何修改拍号`TimeSignature`\n",
    "\n",
    "如果你没有配置好MIDI或MusicXML，或者你不想新开一个程序，你可以用文本形式输出："
   ]
  },
  {
   "cell_type": "code",
   "execution_count": 53,
   "metadata": {},
   "outputs": [
    {
     "name": "stdout",
     "output_type": "stream",
     "text": [
      "{0.0} <music21.note.Note C>\n",
      "{2.0} <music21.note.Note F#>\n",
      "{3.0} <music21.note.Note B->\n"
     ]
    }
   ],
   "source": [
    "stream1.show('text')"
   ]
  },
  {
   "cell_type": "markdown",
   "metadata": {},
   "source": [
    "文本格式会输出每个元素的时刻和类型，以及一点更多的信息（对音符来说是音名）。这些信息等同于对对象运行`__repr__`操作，或者在命令行打出变量名"
   ]
  },
  {
   "cell_type": "code",
   "execution_count": 54,
   "metadata": {},
   "outputs": [
    {
     "data": {
      "text/plain": [
       "<music21.note.Note C>"
      ]
     },
     "execution_count": 54,
     "metadata": {},
     "output_type": "execute_result"
    }
   ],
   "source": [
    "note1"
   ]
  },
  {
   "cell_type": "markdown",
   "metadata": {},
   "source": [
    "顺便说一下，`Stream`也支持`__repr__`"
   ]
  },
  {
   "cell_type": "code",
   "execution_count": 55,
   "metadata": {},
   "outputs": [
    {
     "data": {
      "text/plain": [
       "<music21.stream.Stream 0x282347e10a0>"
      ]
     },
     "execution_count": 55,
     "metadata": {},
     "output_type": "execute_result"
    }
   ],
   "source": [
    "stream1"
   ]
  },
  {
   "cell_type": "markdown",
   "metadata": {},
   "source": [
    "上述输出中的十六进制数是`Stream`的`.id`。通常，`Stream`的`.id`是`Part`的名字（例如\"Violin II\"），但是如果不指定id，则是随机的（实际上是这个`Stream`在内存中的位置）。我们可以修改`Stream`的id"
   ]
  },
  {
   "cell_type": "code",
   "execution_count": 56,
   "metadata": {},
   "outputs": [
    {
     "data": {
      "text/plain": [
       "<music21.stream.Stream some_notes>"
      ]
     },
     "execution_count": 56,
     "metadata": {},
     "output_type": "execute_result"
    }
   ],
   "source": [
    "stream1.id = 'some_notes'\n",
    "stream1"
   ]
  },
  {
   "cell_type": "markdown",
   "metadata": {},
   "source": [
    "我们也可以修改`Note`的id，但是不会在`Note`的`__repr__`中显示出来。"
   ]
  },
  {
   "cell_type": "code",
   "execution_count": 57,
   "metadata": {},
   "outputs": [
    {
     "data": {
      "text/plain": [
       "<music21.note.Note C>"
      ]
     },
     "execution_count": 57,
     "metadata": {},
     "output_type": "execute_result"
    }
   ],
   "source": [
    "note1.id = 'my_favorite_C'\n",
    "note1"
   ]
  },
  {
   "cell_type": "markdown",
   "metadata": {},
   "source": [
    "如同`Note`一样，`Stream`也是一个`Music21Object`对象，这就是为什么它有id，以及（更重要的）为什么能用`.show()`来显示。\n",
    "\n",
    "`Music21Object`还有哪些通性呢？它有时值`.duration`属性，存储了一个`Duration`对象："
   ]
  },
  {
   "cell_type": "code",
   "execution_count": 58,
   "metadata": {},
   "outputs": [
    {
     "data": {
      "text/plain": [
       "<music21.duration.Duration 4.0>"
      ]
     },
     "execution_count": 58,
     "metadata": {},
     "output_type": "execute_result"
    }
   ],
   "source": [
    "stream1.duration"
   ]
  },
  {
   "cell_type": "code",
   "execution_count": 59,
   "metadata": {},
   "outputs": [
    {
     "data": {
      "text/plain": [
       "'whole'"
      ]
     },
     "execution_count": 59,
     "metadata": {},
     "output_type": "execute_result"
    }
   ],
   "source": [
    "stream1.duration.type"
   ]
  },
  {
   "cell_type": "code",
   "execution_count": 60,
   "metadata": {},
   "outputs": [
    {
     "data": {
      "text/plain": [
       "4.0"
      ]
     },
     "execution_count": 60,
     "metadata": {},
     "output_type": "execute_result"
    }
   ],
   "source": [
    "stream1.duration.quarterLength"
   ]
  },
  {
   "cell_type": "markdown",
   "metadata": {},
   "source": [
    "（注意：`Stream`的`len()`表示`Stream`含有的元素数量，而不是时值。例如`len(stream1`是3）\n",
    "\n",
    "与`.duration`相关的一个概念是`.highestTime`，表示`Stream`中最后一个元素结束的时间。通常这是`Stream`中最后一个元素的`.offset`加上`.quarterLength`"
   ]
  },
  {
   "cell_type": "code",
   "execution_count": 61,
   "metadata": {},
   "outputs": [
    {
     "data": {
      "text/plain": [
       "4.0"
      ]
     },
     "execution_count": 61,
     "metadata": {},
     "output_type": "execute_result"
    }
   ],
   "source": [
    "stream1.highestTime"
   ]
  },
  {
   "cell_type": "markdown",
   "metadata": {},
   "source": [
    "## 嵌套`Stream`\n",
    "作为一个`Music21Object`，一个`Stream`可以放入另一个`Stream`。我们创建一个`Stream`，叫`biggerStream`，并把音符`D#`存入这个`Stream`。"
   ]
  },
  {
   "cell_type": "code",
   "execution_count": 62,
   "metadata": {},
   "outputs": [],
   "source": [
    "biggerStream = stream.Stream()\n",
    "note2 = note.Note(\"D#5\")\n",
    "biggerStream.insert(0, note2)"
   ]
  },
  {
   "cell_type": "markdown",
   "metadata": {},
   "source": [
    "现在用`.append()`把`stream1`存入`biggerStream`"
   ]
  },
  {
   "cell_type": "code",
   "execution_count": 63,
   "metadata": {},
   "outputs": [],
   "source": [
    "biggerStream.append(stream1)"
   ]
  },
  {
   "cell_type": "markdown",
   "metadata": {},
   "source": [
    "当我们调用`.show('text')`时，不仅可以看到最外层的`note2`和`stream1`，也可以看到`stream1`的完整内容。"
   ]
  },
  {
   "cell_type": "code",
   "execution_count": 64,
   "metadata": {},
   "outputs": [
    {
     "name": "stdout",
     "output_type": "stream",
     "text": [
      "{0.0} <music21.note.Note D#>\n",
      "{1.0} <music21.stream.Stream some_notes>\n",
      "    {0.0} <music21.note.Note C>\n",
      "    {2.0} <music21.note.Note F#>\n",
      "    {3.0} <music21.note.Note B->\n"
     ]
    }
   ],
   "source": [
    "biggerStream.show('text')"
   ]
  },
  {
   "cell_type": "markdown",
   "metadata": {},
   "source": [
    "但是请注意，内层元素的时刻为相对于内层`stream1`开头的时刻，而不是相对于外层`biggerStream`。\n",
    "\n",
    "此外，`note1`知道它属于`stream1`，但是不知道它属于`biggerStream`"
   ]
  },
  {
   "cell_type": "code",
   "execution_count": 65,
   "metadata": {},
   "outputs": [
    {
     "data": {
      "text/plain": [
       "True"
      ]
     },
     "execution_count": 65,
     "metadata": {},
     "output_type": "execute_result"
    }
   ],
   "source": [
    "note1 in stream1"
   ]
  },
  {
   "cell_type": "code",
   "execution_count": 66,
   "metadata": {},
   "outputs": [
    {
     "data": {
      "text/plain": [
       "False"
      ]
     },
     "execution_count": 66,
     "metadata": {},
     "output_type": "execute_result"
    }
   ],
   "source": [
    "note1 in biggerStream"
   ]
  },
  {
   "cell_type": "markdown",
   "metadata": {},
   "source": [
    "这个问题目前看起来好像没什么，直到我们告诉你，在music21中，总谱`Score`由一层层嵌套的`Stream`组成。所以如果你有一个交响乐总谱（它是一个`Stream`），则大提琴音轨是其下属的一个`Stream`，大提琴音轨的第5小节又是大提琴音轨下属的一个`Stream`。如果有分奏（divisi），则分奏中每个单独的音轨又是一个`Stream`。每个`Stream`都有名称和类型（`Score`、`Part`、`Measure`和`Voice`），但是它们都是`Stream`。\n",
    "\n",
    "那么我们如何在`biggerStream`中找到`note1`呢？这就是下面两章将介绍的\n",
    "\n",
    "下一章：[用户指南，第5章：嵌套列表，函数与递归](05.ipynb)\n",
    "\n",
    "（如果你有python编程经验，请直接前往[用户指南，第6章：流(II)：分层，递归与扁平化](06.ipynb)）"
   ]
  }
 ],
 "metadata": {
  "kernelspec": {
   "display_name": "Python 3",
   "language": "python",
   "name": "python3"
  },
  "language_info": {
   "codemirror_mode": {
    "name": "ipython",
    "version": 3
   },
   "file_extension": ".py",
   "mimetype": "text/x-python",
   "name": "python",
   "nbconvert_exporter": "python",
   "pygments_lexer": "ipython3",
   "version": "3.12.10"
  },
  "orig_nbformat": 4
 },
 "nbformat": 4,
 "nbformat_minor": 2
}
