{
 "cells": [
  {
   "cell_type": "markdown",
   "metadata": {},
   "source": [
    "# 用户指南，第12章：回到基础：music21对象（Music21Object）\n",
    "[原文链接](https://www.music21.org/music21docs/usersGuide/usersGuide_12_music21object.html#usersguide-12-music21object)\n",
    "\n",
    "TODO"
   ]
  },
  {
   "cell_type": "code",
   "execution_count": 1,
   "metadata": {},
   "outputs": [],
   "source": [
    "from music21 import *"
   ]
  },
  {
   "cell_type": "code",
   "execution_count": 2,
   "metadata": {
    "tags": [
     "assert_error"
    ]
   },
   "outputs": [
    {
     "ename": "StreamException",
     "evalue": "The object you tried to add to the Stream, <music21.pitch.Pitch A-2>, is not a Music21Object.  Use an ElementWrapper object if this is what you intend.",
     "output_type": "error",
     "traceback": [
      "\u001b[31m---------------------------------------------------------------------------\u001b[39m",
      "\u001b[31mStreamException\u001b[39m                           Traceback (most recent call last)",
      "\u001b[36mCell\u001b[39m\u001b[36m \u001b[39m\u001b[32mIn[2]\u001b[39m\u001b[32m, line 3\u001b[39m\n\u001b[32m      1\u001b[39m p = pitch.Pitch(\u001b[33m\"\u001b[39m\u001b[33mA-2\u001b[39m\u001b[33m\"\u001b[39m)\n\u001b[32m      2\u001b[39m s = stream.Stream()\n\u001b[32m----> \u001b[39m\u001b[32m3\u001b[39m \u001b[43ms\u001b[49m\u001b[43m.\u001b[49m\u001b[43minsert\u001b[49m\u001b[43m(\u001b[49m\u001b[32;43m0\u001b[39;49m\u001b[43m,\u001b[49m\u001b[43m \u001b[49m\u001b[43mp\u001b[49m\u001b[43m)\u001b[49m\n",
      "\u001b[36mFile \u001b[39m\u001b[32mE:\\repos\\music21\\music21\\stream\\base.py:2323\u001b[39m, in \u001b[36mStream.insert\u001b[39m\u001b[34m(self, offsetOrItemOrList, itemOrNone, ignoreSort, setActiveSite)\u001b[39m\n\u001b[32m   2320\u001b[39m element = item\n\u001b[32m   2322\u001b[39m \u001b[38;5;66;03m# checks if element is self, among other checks\u001b[39;00m\n\u001b[32m-> \u001b[39m\u001b[32m2323\u001b[39m \u001b[38;5;28;43mself\u001b[39;49m\u001b[43m.\u001b[49m\u001b[43mcoreGuardBeforeAddElement\u001b[49m\u001b[43m(\u001b[49m\u001b[43melement\u001b[49m\u001b[43m)\u001b[49m\n\u001b[32m   2324\u001b[39m \u001b[38;5;66;03m# main insert procedure here\u001b[39;00m\n\u001b[32m   2326\u001b[39m storeSorted = \u001b[38;5;28mself\u001b[39m.coreInsert(offset,\n\u001b[32m   2327\u001b[39m                               element,\n\u001b[32m   2328\u001b[39m                               ignoreSort=ignoreSort,\n\u001b[32m   2329\u001b[39m                               setActiveSite=setActiveSite)\n",
      "\u001b[36mFile \u001b[39m\u001b[32mE:\\repos\\music21\\music21\\stream\\core.py:414\u001b[39m, in \u001b[36mStreamCore.coreGuardBeforeAddElement\u001b[39m\u001b[34m(self, element, checkRedundancy)\u001b[39m\n\u001b[32m    410\u001b[39m     \u001b[38;5;28;01mif\u001b[39;00m \u001b[38;5;28misinstance\u001b[39m(element, StreamIterator):\n\u001b[32m    411\u001b[39m         \u001b[38;5;28;01mraise\u001b[39;00m StreamException(\n\u001b[32m    412\u001b[39m             \u001b[33m'\u001b[39m\u001b[33mcannot insert StreamIterator into a Stream\u001b[39m\u001b[38;5;130;01m\\n\u001b[39;00m\u001b[33m'\u001b[39m\n\u001b[32m    413\u001b[39m             \u001b[33m\"\u001b[39m\u001b[33mIterate over it instead (User\u001b[39m\u001b[33m'\u001b[39m\u001b[33ms Guide chs. 6 and 26)\u001b[39m\u001b[33m\"\u001b[39m)\n\u001b[32m--> \u001b[39m\u001b[32m414\u001b[39m     \u001b[38;5;28;01mraise\u001b[39;00m StreamException(\n\u001b[32m    415\u001b[39m         \u001b[33mf\u001b[39m\u001b[33m'\u001b[39m\u001b[33mThe object you tried to add to the Stream, \u001b[39m\u001b[38;5;132;01m{\u001b[39;00melement\u001b[38;5;132;01m!r}\u001b[39;00m\u001b[33m, \u001b[39m\u001b[33m'\u001b[39m\n\u001b[32m    416\u001b[39m         + \u001b[33m'\u001b[39m\u001b[33mis not a Music21Object.  Use an ElementWrapper object \u001b[39m\u001b[33m'\u001b[39m\n\u001b[32m    417\u001b[39m         + \u001b[33m'\u001b[39m\u001b[33mif this is what you intend.\u001b[39m\u001b[33m'\u001b[39m)\n\u001b[32m    418\u001b[39m \u001b[38;5;28;01mif\u001b[39;00m checkRedundancy:\n\u001b[32m    419\u001b[39m     \u001b[38;5;66;03m# using id() here b/c we do not want to get __eq__ comparisons\u001b[39;00m\n\u001b[32m    420\u001b[39m     idElement = \u001b[38;5;28mid\u001b[39m(element)\n",
      "\u001b[31mStreamException\u001b[39m: The object you tried to add to the Stream, <music21.pitch.Pitch A-2>, is not a Music21Object.  Use an ElementWrapper object if this is what you intend."
     ]
    }
   ],
   "source": [
    "p = pitch.Pitch(\"A-2\")\n",
    "s = stream.Stream()\n",
    "s.insert(0, p)"
   ]
  },
  {
   "cell_type": "markdown",
   "metadata": {},
   "source": []
  },
  {
   "cell_type": "code",
   "execution_count": 3,
   "metadata": {
    "tags": [
     "assert_error"
    ]
   },
   "outputs": [
    {
     "ename": "StreamException",
     "evalue": "The object you tried to add to the Stream, <music21.duration.Duration 2.0>, is not a Music21Object.  Use an ElementWrapper object if this is what you intend.",
     "output_type": "error",
     "traceback": [
      "\u001b[31m---------------------------------------------------------------------------\u001b[39m",
      "\u001b[31mStreamException\u001b[39m                           Traceback (most recent call last)",
      "\u001b[36mCell\u001b[39m\u001b[36m \u001b[39m\u001b[32mIn[3]\u001b[39m\u001b[32m, line 2\u001b[39m\n\u001b[32m      1\u001b[39m d = duration.Duration(\u001b[33m'\u001b[39m\u001b[33mhalf\u001b[39m\u001b[33m'\u001b[39m)\n\u001b[32m----> \u001b[39m\u001b[32m2\u001b[39m \u001b[43ms\u001b[49m\u001b[43m.\u001b[49m\u001b[43minsert\u001b[49m\u001b[43m(\u001b[49m\u001b[32;43m0\u001b[39;49m\u001b[43m,\u001b[49m\u001b[43m \u001b[49m\u001b[43md\u001b[49m\u001b[43m)\u001b[49m\n",
      "\u001b[36mFile \u001b[39m\u001b[32mE:\\repos\\music21\\music21\\stream\\base.py:2323\u001b[39m, in \u001b[36mStream.insert\u001b[39m\u001b[34m(self, offsetOrItemOrList, itemOrNone, ignoreSort, setActiveSite)\u001b[39m\n\u001b[32m   2320\u001b[39m element = item\n\u001b[32m   2322\u001b[39m \u001b[38;5;66;03m# checks if element is self, among other checks\u001b[39;00m\n\u001b[32m-> \u001b[39m\u001b[32m2323\u001b[39m \u001b[38;5;28;43mself\u001b[39;49m\u001b[43m.\u001b[49m\u001b[43mcoreGuardBeforeAddElement\u001b[49m\u001b[43m(\u001b[49m\u001b[43melement\u001b[49m\u001b[43m)\u001b[49m\n\u001b[32m   2324\u001b[39m \u001b[38;5;66;03m# main insert procedure here\u001b[39;00m\n\u001b[32m   2326\u001b[39m storeSorted = \u001b[38;5;28mself\u001b[39m.coreInsert(offset,\n\u001b[32m   2327\u001b[39m                               element,\n\u001b[32m   2328\u001b[39m                               ignoreSort=ignoreSort,\n\u001b[32m   2329\u001b[39m                               setActiveSite=setActiveSite)\n",
      "\u001b[36mFile \u001b[39m\u001b[32mE:\\repos\\music21\\music21\\stream\\core.py:414\u001b[39m, in \u001b[36mStreamCore.coreGuardBeforeAddElement\u001b[39m\u001b[34m(self, element, checkRedundancy)\u001b[39m\n\u001b[32m    410\u001b[39m     \u001b[38;5;28;01mif\u001b[39;00m \u001b[38;5;28misinstance\u001b[39m(element, StreamIterator):\n\u001b[32m    411\u001b[39m         \u001b[38;5;28;01mraise\u001b[39;00m StreamException(\n\u001b[32m    412\u001b[39m             \u001b[33m'\u001b[39m\u001b[33mcannot insert StreamIterator into a Stream\u001b[39m\u001b[38;5;130;01m\\n\u001b[39;00m\u001b[33m'\u001b[39m\n\u001b[32m    413\u001b[39m             \u001b[33m\"\u001b[39m\u001b[33mIterate over it instead (User\u001b[39m\u001b[33m'\u001b[39m\u001b[33ms Guide chs. 6 and 26)\u001b[39m\u001b[33m\"\u001b[39m)\n\u001b[32m--> \u001b[39m\u001b[32m414\u001b[39m     \u001b[38;5;28;01mraise\u001b[39;00m StreamException(\n\u001b[32m    415\u001b[39m         \u001b[33mf\u001b[39m\u001b[33m'\u001b[39m\u001b[33mThe object you tried to add to the Stream, \u001b[39m\u001b[38;5;132;01m{\u001b[39;00melement\u001b[38;5;132;01m!r}\u001b[39;00m\u001b[33m, \u001b[39m\u001b[33m'\u001b[39m\n\u001b[32m    416\u001b[39m         + \u001b[33m'\u001b[39m\u001b[33mis not a Music21Object.  Use an ElementWrapper object \u001b[39m\u001b[33m'\u001b[39m\n\u001b[32m    417\u001b[39m         + \u001b[33m'\u001b[39m\u001b[33mif this is what you intend.\u001b[39m\u001b[33m'\u001b[39m)\n\u001b[32m    418\u001b[39m \u001b[38;5;28;01mif\u001b[39;00m checkRedundancy:\n\u001b[32m    419\u001b[39m     \u001b[38;5;66;03m# using id() here b/c we do not want to get __eq__ comparisons\u001b[39;00m\n\u001b[32m    420\u001b[39m     idElement = \u001b[38;5;28mid\u001b[39m(element)\n",
      "\u001b[31mStreamException\u001b[39m: The object you tried to add to the Stream, <music21.duration.Duration 2.0>, is not a Music21Object.  Use an ElementWrapper object if this is what you intend."
     ]
    }
   ],
   "source": [
    "d = duration.Duration('half')\n",
    "s.insert(0, d)"
   ]
  },
  {
   "cell_type": "markdown",
   "metadata": {},
   "source": []
  },
  {
   "cell_type": "code",
   "execution_count": 4,
   "metadata": {},
   "outputs": [
    {
     "name": "stdout",
     "output_type": "stream",
     "text": [
      "{0.0} <music21.note.Note A->\n"
     ]
    }
   ],
   "source": [
    "n = note.Note('A-2', type='half')\n",
    "s.insert(0, n)\n",
    "s.show('text')"
   ]
  },
  {
   "cell_type": "markdown",
   "metadata": {},
   "source": []
  },
  {
   "cell_type": "code",
   "execution_count": 5,
   "metadata": {},
   "outputs": [
    {
     "data": {
      "text/plain": [
       "True"
      ]
     },
     "execution_count": 5,
     "metadata": {},
     "output_type": "execute_result"
    }
   ],
   "source": [
    "isinstance(n, base.Music21Object)"
   ]
  },
  {
   "cell_type": "markdown",
   "metadata": {},
   "source": []
  },
  {
   "cell_type": "code",
   "execution_count": 6,
   "metadata": {},
   "outputs": [
    {
     "data": {
      "text/plain": [
       "False"
      ]
     },
     "execution_count": 6,
     "metadata": {},
     "output_type": "execute_result"
    }
   ],
   "source": [
    "isinstance(note.Note, base.Music21Object)"
   ]
  },
  {
   "cell_type": "markdown",
   "metadata": {},
   "source": []
  },
  {
   "cell_type": "code",
   "execution_count": 7,
   "metadata": {},
   "outputs": [
    {
     "data": {
      "text/plain": [
       "True"
      ]
     },
     "execution_count": 7,
     "metadata": {},
     "output_type": "execute_result"
    }
   ],
   "source": [
    "'Music21Object' in n.classes"
   ]
  },
  {
   "cell_type": "markdown",
   "metadata": {},
   "source": []
  },
  {
   "cell_type": "code",
   "execution_count": 8,
   "metadata": {},
   "outputs": [
    {
     "data": {
      "text/plain": [
       "datetime.datetime(2015, 9, 27, 0, 0)"
      ]
     },
     "execution_count": 8,
     "metadata": {},
     "output_type": "execute_result"
    }
   ],
   "source": [
    "import datetime\n",
    "dt = datetime.datetime(2015, 9, 27)\n",
    "dt"
   ]
  },
  {
   "cell_type": "code",
   "execution_count": 9,
   "metadata": {
    "tags": [
     "assert_error"
    ]
   },
   "outputs": [
    {
     "ename": "AttributeError",
     "evalue": "'datetime.datetime' object has no attribute 'classes'",
     "output_type": "error",
     "traceback": [
      "\u001b[31m---------------------------------------------------------------------------\u001b[39m",
      "\u001b[31mAttributeError\u001b[39m                            Traceback (most recent call last)",
      "\u001b[36mCell\u001b[39m\u001b[36m \u001b[39m\u001b[32mIn[9]\u001b[39m\u001b[32m, line 1\u001b[39m\n\u001b[32m----> \u001b[39m\u001b[32m1\u001b[39m \u001b[33m'\u001b[39m\u001b[33mMusic21Object\u001b[39m\u001b[33m'\u001b[39m \u001b[38;5;129;01min\u001b[39;00m \u001b[43mdt\u001b[49m\u001b[43m.\u001b[49m\u001b[43mclasses\u001b[49m\n",
      "\u001b[31mAttributeError\u001b[39m: 'datetime.datetime' object has no attribute 'classes'"
     ]
    }
   ],
   "source": [
    "'Music21Object' in dt.classes"
   ]
  },
  {
   "cell_type": "markdown",
   "metadata": {},
   "source": []
  },
  {
   "cell_type": "code",
   "execution_count": 10,
   "metadata": {},
   "outputs": [
    {
     "data": {
      "text/plain": [
       "False"
      ]
     },
     "execution_count": 10,
     "metadata": {},
     "output_type": "execute_result"
    }
   ],
   "source": [
    "'Chord' in n.classes"
   ]
  },
  {
   "cell_type": "markdown",
   "metadata": {},
   "source": []
  },
  {
   "cell_type": "code",
   "execution_count": 11,
   "metadata": {},
   "outputs": [
    {
     "data": {
      "text/plain": [
       "True"
      ]
     },
     "execution_count": 11,
     "metadata": {},
     "output_type": "execute_result"
    }
   ],
   "source": [
    "'Duration' in d.classes"
   ]
  },
  {
   "cell_type": "markdown",
   "metadata": {},
   "source": []
  },
  {
   "cell_type": "code",
   "execution_count": 12,
   "metadata": {},
   "outputs": [
    {
     "name": "stdout",
     "output_type": "stream",
     "text": [
      "<music21.note.Note A>\n",
      "<music21.note.Note B>\n"
     ]
    }
   ],
   "source": [
    "s = stream.Stream()\n",
    "s.append(clef.TrebleClef())\n",
    "s.append(meter.TimeSignature('3/4'))\n",
    "s.append(note.Note(\"A\"))\n",
    "s.append(note.Rest())\n",
    "s.append(note.Note(\"B\"))\n",
    "\n",
    "for element in s.getElementsByClass('Note'):\n",
    "    print(element)"
   ]
  },
  {
   "cell_type": "markdown",
   "metadata": {},
   "source": []
  },
  {
   "cell_type": "code",
   "execution_count": 13,
   "metadata": {},
   "outputs": [
    {
     "data": {
      "text/plain": [
       "('Rest', 'GeneralNote', 'Music21Object', 'ProtoM21Object', 'object')"
      ]
     },
     "execution_count": 13,
     "metadata": {},
     "output_type": "execute_result"
    }
   ],
   "source": [
    "note.Rest().classes"
   ]
  },
  {
   "cell_type": "code",
   "execution_count": 14,
   "metadata": {},
   "outputs": [
    {
     "data": {
      "text/plain": [
       "('Note', 'NotRest', 'GeneralNote', 'Music21Object', 'ProtoM21Object', 'object')"
      ]
     },
     "execution_count": 14,
     "metadata": {},
     "output_type": "execute_result"
    }
   ],
   "source": [
    "note.Note().classes"
   ]
  },
  {
   "cell_type": "markdown",
   "metadata": {},
   "source": []
  },
  {
   "cell_type": "code",
   "execution_count": 15,
   "metadata": {},
   "outputs": [
    {
     "name": "stdout",
     "output_type": "stream",
     "text": [
      "<music21.note.Note A>\n",
      "<music21.note.Rest quarter>\n",
      "<music21.note.Note B>\n"
     ]
    }
   ],
   "source": [
    "for element in s.getElementsByClass('GeneralNote'):\n",
    "    print(element)"
   ]
  },
  {
   "cell_type": "markdown",
   "metadata": {},
   "source": []
  },
  {
   "cell_type": "code",
   "execution_count": 16,
   "metadata": {},
   "outputs": [
    {
     "name": "stdout",
     "output_type": "stream",
     "text": [
      "<music21.note.Note A>\n",
      "<music21.note.Rest quarter>\n",
      "<music21.note.Note B>\n"
     ]
    }
   ],
   "source": [
    "for element in s.getElementsByClass(['Note', 'Rest']):\n",
    "    print(element)"
   ]
  },
  {
   "cell_type": "markdown",
   "metadata": {},
   "source": []
  },
  {
   "cell_type": "code",
   "execution_count": 17,
   "metadata": {},
   "outputs": [
    {
     "data": {
      "text/plain": [
       "frozenset({music21.base.Music21Object,\n",
       "           music21.note.GeneralNote,\n",
       "           music21.note.Rest,\n",
       "           music21.prebase.ProtoM21Object,\n",
       "           object,\n",
       "           'GeneralNote',\n",
       "           'Music21Object',\n",
       "           'ProtoM21Object',\n",
       "           'Rest',\n",
       "           'base.Music21Object',\n",
       "           'builtins.object',\n",
       "           'music21.base.Music21Object',\n",
       "           'music21.note.GeneralNote',\n",
       "           'music21.note.Rest',\n",
       "           'music21.prebase.ProtoM21Object',\n",
       "           'note.GeneralNote',\n",
       "           'note.Rest',\n",
       "           'object',\n",
       "           'prebase.ProtoM21Object'})"
      ]
     },
     "execution_count": 17,
     "metadata": {},
     "output_type": "execute_result"
    }
   ],
   "source": [
    "r = note.Rest()\n",
    "r.classSet"
   ]
  },
  {
   "cell_type": "code",
   "execution_count": 18,
   "metadata": {},
   "outputs": [
    {
     "data": {
      "text/plain": [
       "(True, True, True)"
      ]
     },
     "execution_count": 18,
     "metadata": {},
     "output_type": "execute_result"
    }
   ],
   "source": [
    "('Rest' in r.classSet, 'music21.note.GeneralNote' in r.classSet, base.Music21Object in r.classSet)"
   ]
  },
  {
   "cell_type": "markdown",
   "metadata": {},
   "source": []
  },
  {
   "cell_type": "code",
   "execution_count": 19,
   "metadata": {},
   "outputs": [
    {
     "data": {
      "text/plain": [
       "1963617338336"
      ]
     },
     "execution_count": 19,
     "metadata": {},
     "output_type": "execute_result"
    }
   ],
   "source": [
    "n = note.Note(\"C#4\")\n",
    "n.id"
   ]
  },
  {
   "cell_type": "markdown",
   "metadata": {},
   "source": []
  },
  {
   "cell_type": "code",
   "execution_count": 20,
   "metadata": {},
   "outputs": [
    {
     "data": {
      "text/plain": [
       "1963617338336"
      ]
     },
     "execution_count": 20,
     "metadata": {},
     "output_type": "execute_result"
    }
   ],
   "source": [
    "id(n)"
   ]
  },
  {
   "cell_type": "markdown",
   "metadata": {},
   "source": []
  },
  {
   "cell_type": "code",
   "execution_count": 21,
   "metadata": {},
   "outputs": [
    {
     "data": {
      "text/plain": [
       "'first_note'"
      ]
     },
     "execution_count": 21,
     "metadata": {},
     "output_type": "execute_result"
    }
   ],
   "source": [
    "n.id = 'first_note'\n",
    "n.id"
   ]
  },
  {
   "cell_type": "markdown",
   "metadata": {},
   "source": []
  },
  {
   "cell_type": "code",
   "execution_count": 22,
   "metadata": {},
   "outputs": [
    {
     "data": {
      "text/plain": [
       "<music21.stream.Stream empty_stream>"
      ]
     },
     "execution_count": 22,
     "metadata": {},
     "output_type": "execute_result"
    }
   ],
   "source": [
    "s = stream.Stream()\n",
    "s.id = 'empty_stream'\n",
    "s"
   ]
  },
  {
   "cell_type": "markdown",
   "metadata": {},
   "source": []
  },
  {
   "cell_type": "code",
   "execution_count": 23,
   "metadata": {},
   "outputs": [
    {
     "data": {
      "text/plain": [
       "<music21.stream.Part Soprano>"
      ]
     },
     "execution_count": 23,
     "metadata": {},
     "output_type": "execute_result"
    }
   ],
   "source": [
    "bach = corpus.parse('bwv66.6')\n",
    "sopr = bach.parts['soprano']\n",
    "sopr"
   ]
  },
  {
   "cell_type": "code",
   "execution_count": 24,
   "metadata": {},
   "outputs": [
    {
     "data": {
      "text/plain": [
       "'Soprano'"
      ]
     },
     "execution_count": 24,
     "metadata": {},
     "output_type": "execute_result"
    }
   ],
   "source": [
    "sopr.id"
   ]
  },
  {
   "cell_type": "markdown",
   "metadata": {},
   "source": []
  },
  {
   "cell_type": "code",
   "execution_count": 25,
   "metadata": {},
   "outputs": [
    {
     "name": "stdout",
     "output_type": "stream",
     "text": [
      "<music21.note.Note C#> first_note\n"
     ]
    }
   ],
   "source": [
    "s.append(n)\n",
    "x = s.getElementById('first_note')\n",
    "print(x, x.id)"
   ]
  },
  {
   "cell_type": "markdown",
   "metadata": {},
   "source": []
  },
  {
   "cell_type": "code",
   "execution_count": 26,
   "metadata": {},
   "outputs": [
    {
     "data": {
      "text/plain": [
       "[]"
      ]
     },
     "execution_count": 26,
     "metadata": {},
     "output_type": "execute_result"
    }
   ],
   "source": [
    "n.groups"
   ]
  },
  {
   "cell_type": "markdown",
   "metadata": {},
   "source": []
  },
  {
   "cell_type": "code",
   "execution_count": 27,
   "metadata": {},
   "outputs": [
    {
     "data": {
      "text/plain": [
       "['black_key', 'sharped']"
      ]
     },
     "execution_count": 27,
     "metadata": {},
     "output_type": "execute_result"
    }
   ],
   "source": [
    "n.groups.append('black_key')\n",
    "n.groups.append('sharped')\n",
    "n.groups"
   ]
  },
  {
   "cell_type": "markdown",
   "metadata": {},
   "source": []
  },
  {
   "cell_type": "code",
   "execution_count": 28,
   "metadata": {},
   "outputs": [
    {
     "name": "stdout",
     "output_type": "stream",
     "text": [
      "<music21.note.Note C#> first_note\n"
     ]
    }
   ],
   "source": [
    "for x in s.getElementsByGroup('sharped'):\n",
    "    print(x, x.id)"
   ]
  },
  {
   "cell_type": "markdown",
   "metadata": {},
   "source": []
  },
  {
   "cell_type": "code",
   "execution_count": 29,
   "metadata": {},
   "outputs": [
    {
     "data": {
      "image/png": "[encoded data removed]",
      "text/plain": [
       "<IPython.core.display.Image object>"
      ]
     },
     "metadata": {
      "image/png": {
       "height": 53,
       "width": 89
      }
     },
     "output_type": "display_data"
    }
   ],
   "source": [
    "for x in s.getElementsByGroup('black_key'):\n",
    "    x.notehead = 'circle-x'\n",
    "\n",
    "s.show()"
   ]
  },
  {
   "cell_type": "markdown",
   "metadata": {},
   "source": []
  },
  {
   "cell_type": "code",
   "execution_count": 30,
   "metadata": {},
   "outputs": [
    {
     "data": {
      "text/plain": [
       "<music21.stream.Stream empty_stream>"
      ]
     },
     "execution_count": 30,
     "metadata": {},
     "output_type": "execute_result"
    }
   ],
   "source": [
    "n.activeSite"
   ]
  },
  {
   "cell_type": "markdown",
   "metadata": {},
   "source": []
  },
  {
   "cell_type": "code",
   "execution_count": 31,
   "metadata": {},
   "outputs": [
    {
     "data": {
      "text/plain": [
       "<music21.stream.Stream new_stream>"
      ]
     },
     "execution_count": 31,
     "metadata": {},
     "output_type": "execute_result"
    }
   ],
   "source": [
    "t = stream.Stream()\n",
    "t.id = 'new_stream'\n",
    "t.insert(4.0, n)\n",
    "\n",
    "n.activeSite"
   ]
  },
  {
   "cell_type": "markdown",
   "metadata": {},
   "source": []
  },
  {
   "cell_type": "code",
   "execution_count": 32,
   "metadata": {},
   "outputs": [
    {
     "data": {
      "text/plain": [
       "<music21.stream.Stream empty_stream>"
      ]
     },
     "execution_count": 32,
     "metadata": {},
     "output_type": "execute_result"
    }
   ],
   "source": [
    "n.activeSite = s\n",
    "n.activeSite"
   ]
  },
  {
   "cell_type": "markdown",
   "metadata": {},
   "source": []
  },
  {
   "cell_type": "code",
   "execution_count": 33,
   "metadata": {
    "tags": [
     "assert_error"
    ]
   },
   "outputs": [
    {
     "ename": "SitesException",
     "evalue": "activeSite cannot be set for object <music21.note.Note C#> not in the Stream <music21.stream.Stream unrelated_stream>",
     "output_type": "error",
     "traceback": [
      "\u001b[31m---------------------------------------------------------------------------\u001b[39m",
      "\u001b[31mKeyError\u001b[39m                                  Traceback (most recent call last)",
      "\u001b[32mE:\\repos\\music21\\music21\\stream\\base.py\u001b[39m in \u001b[36m?\u001b[39m\u001b[34m(self, element, returnSpecial)\u001b[39m\n\u001b[32m   2190\u001b[39m                     \u001b[38;5;28;01mbreak\u001b[39;00m\n\u001b[32m   2191\u001b[39m             \u001b[38;5;28;01melse\u001b[39;00m:\n\u001b[32m-> \u001b[39m\u001b[32m2192\u001b[39m                 raise base.SitesException(\n\u001b[32m   2193\u001b[39m                     f'an entry for this object 0x{id(element):x} is not stored in stream {self}')\n",
      "\u001b[31mKeyError\u001b[39m: 1963617338336",
      "\nDuring handling of the above exception, another exception occurred:\n",
      "\u001b[31mSitesException\u001b[39m                            Traceback (most recent call last)",
      "\u001b[32mE:\\repos\\music21\\music21\\base.py\u001b[39m in \u001b[36m?\u001b[39m\u001b[34m(self, site)\u001b[39m\n\u001b[32m   2440\u001b[39m                 storedOffset = site.elementOffset(self)\n\u001b[32m   2441\u001b[39m             \u001b[38;5;28;01mexcept\u001b[39;00m SitesException \u001b[38;5;28;01mas\u001b[39;00m se:\n\u001b[32m-> \u001b[39m\u001b[32m2442\u001b[39m                 raise SitesException(\n\u001b[32m   2443\u001b[39m                     \u001b[33m'activeSite cannot be set for '\u001b[39m\n",
      "\u001b[32mE:\\repos\\music21\\music21\\stream\\base.py\u001b[39m in \u001b[36m?\u001b[39m\u001b[34m(self, element, returnSpecial)\u001b[39m\n\u001b[32m   2190\u001b[39m                     \u001b[38;5;28;01mbreak\u001b[39;00m\n\u001b[32m   2191\u001b[39m             \u001b[38;5;28;01melse\u001b[39;00m:\n\u001b[32m-> \u001b[39m\u001b[32m2192\u001b[39m                 raise base.SitesException(\n\u001b[32m   2193\u001b[39m                     f'an entry for this object 0x{id(element):x} is not stored in stream {self}')\n",
      "\u001b[31mSitesException\u001b[39m: an entry for this object 0x1c930b6c3e0 is not stored in stream <music21.stream.Stream unrelated_stream>",
      "\nThe above exception was the direct cause of the following exception:\n",
      "\u001b[31mSitesException\u001b[39m                            Traceback (most recent call last)",
      "\u001b[36mCell\u001b[39m\u001b[36m \u001b[39m\u001b[32mIn[33]\u001b[39m\u001b[32m, line 2\u001b[39m\n\u001b[32m      1\u001b[39m q = stream.Stream(\u001b[38;5;28mid\u001b[39m=\u001b[33m'\u001b[39m\u001b[33munrelated_stream\u001b[39m\u001b[33m'\u001b[39m)\n\u001b[32m----> \u001b[39m\u001b[32m2\u001b[39m \u001b[43mn\u001b[49m\u001b[43m.\u001b[49m\u001b[43mactiveSite\u001b[49m = q\n",
      "\u001b[36mFile \u001b[39m\u001b[32mE:\\repos\\music21\\music21\\base.py:2442\u001b[39m, in \u001b[36mMusic21Object._setActiveSite\u001b[39m\u001b[34m(self, site)\u001b[39m\n\u001b[32m   2440\u001b[39m         storedOffset = site.elementOffset(\u001b[38;5;28mself\u001b[39m)\n\u001b[32m   2441\u001b[39m     \u001b[38;5;28;01mexcept\u001b[39;00m SitesException \u001b[38;5;28;01mas\u001b[39;00m se:\n\u001b[32m-> \u001b[39m\u001b[32m2442\u001b[39m         \u001b[38;5;28;01mraise\u001b[39;00m SitesException(\n\u001b[32m   2443\u001b[39m             \u001b[33m'\u001b[39m\u001b[33mactiveSite cannot be set for \u001b[39m\u001b[33m'\u001b[39m\n\u001b[32m   2444\u001b[39m             + \u001b[33mf\u001b[39m\u001b[33m'\u001b[39m\u001b[33mobject \u001b[39m\u001b[38;5;132;01m{\u001b[39;00m\u001b[38;5;28mself\u001b[39m\u001b[38;5;132;01m}\u001b[39;00m\u001b[33m not in the Stream \u001b[39m\u001b[38;5;132;01m{\u001b[39;00msite\u001b[38;5;132;01m}\u001b[39;00m\u001b[33m'\u001b[39m\n\u001b[32m   2445\u001b[39m         ) \u001b[38;5;28;01mfrom\u001b[39;00m\u001b[38;5;250m \u001b[39m\u001b[34;01mse\u001b[39;00m\n\u001b[32m   2447\u001b[39m     \u001b[38;5;28mself\u001b[39m._activeSiteStoredOffset = storedOffset\n\u001b[32m   2448\u001b[39m     \u001b[38;5;66;03m# siteId = id(site)\u001b[39;00m\n\u001b[32m   2449\u001b[39m     \u001b[38;5;66;03m# if not self.sites.hasSiteId(siteId):  # This should raise a warning, should not happen\u001b[39;00m\n\u001b[32m   2450\u001b[39m     \u001b[38;5;66;03m#    # environLocal.warn('Adding a siteDict entry for a ' +\u001b[39;00m\n\u001b[32m   2451\u001b[39m     \u001b[38;5;66;03m#    #                        'site that should already be there!')\u001b[39;00m\n\u001b[32m   2452\u001b[39m     \u001b[38;5;66;03m#    self.sites.add(site, idKey=siteId)\u001b[39;00m\n\u001b[32m   2453\u001b[39m \u001b[38;5;28;01melse\u001b[39;00m:\n",
      "\u001b[31mSitesException\u001b[39m: activeSite cannot be set for object <music21.note.Note C#> not in the Stream <music21.stream.Stream unrelated_stream>"
     ]
    }
   ],
   "source": [
    "q = stream.Stream(id='unrelated_stream')\n",
    "n.activeSite = q"
   ]
  },
  {
   "cell_type": "markdown",
   "metadata": {},
   "source": []
  },
  {
   "cell_type": "code",
   "execution_count": 34,
   "metadata": {},
   "outputs": [
    {
     "data": {
      "text/plain": [
       "True"
      ]
     },
     "execution_count": 34,
     "metadata": {},
     "output_type": "execute_result"
    }
   ],
   "source": [
    "m = note.Rest()\n",
    "m.activeSite is None"
   ]
  },
  {
   "cell_type": "markdown",
   "metadata": {},
   "source": []
  },
  {
   "cell_type": "code",
   "execution_count": 35,
   "metadata": {},
   "outputs": [
    {
     "data": {
      "text/plain": [
       "0.0"
      ]
     },
     "execution_count": 35,
     "metadata": {},
     "output_type": "execute_result"
    }
   ],
   "source": [
    "n.activeSite = s\n",
    "n.offset"
   ]
  },
  {
   "cell_type": "code",
   "execution_count": 36,
   "metadata": {},
   "outputs": [
    {
     "data": {
      "text/plain": [
       "4.0"
      ]
     },
     "execution_count": 36,
     "metadata": {},
     "output_type": "execute_result"
    }
   ],
   "source": [
    "n.activeSite = t\n",
    "n.offset"
   ]
  },
  {
   "cell_type": "markdown",
   "metadata": {},
   "source": []
  },
  {
   "cell_type": "code",
   "execution_count": 37,
   "metadata": {},
   "outputs": [
    {
     "data": {
      "text/plain": [
       "2.0"
      ]
     },
     "execution_count": 37,
     "metadata": {},
     "output_type": "execute_result"
    }
   ],
   "source": [
    "n.activeSite = s\n",
    "n.offset = 2.0\n",
    "n.activeSite = t\n",
    "n.activeSite = s\n",
    "n.offset"
   ]
  },
  {
   "cell_type": "markdown",
   "metadata": {},
   "source": []
  },
  {
   "cell_type": "code",
   "execution_count": 38,
   "metadata": {},
   "outputs": [
    {
     "data": {
      "text/plain": [
       "<music21.stream.Stream empty_stream>"
      ]
     },
     "execution_count": 38,
     "metadata": {},
     "output_type": "execute_result"
    }
   ],
   "source": [
    "n2 = note.Note('G-2')\n",
    "n2.offset = 20.0\n",
    "s.insert(n2)\n",
    "n2.activeSite"
   ]
  },
  {
   "cell_type": "code",
   "execution_count": 39,
   "metadata": {},
   "outputs": [
    {
     "data": {
      "text/plain": [
       "20.0"
      ]
     },
     "execution_count": 39,
     "metadata": {},
     "output_type": "execute_result"
    }
   ],
   "source": [
    "n2.offset"
   ]
  },
  {
   "cell_type": "markdown",
   "metadata": {},
   "source": []
  },
  {
   "cell_type": "code",
   "execution_count": 40,
   "metadata": {},
   "outputs": [
    {
     "name": "stdout",
     "output_type": "stream",
     "text": [
      "{0.0} <music21.note.Note D>\n",
      "{0.0} <music21.note.Note E>\n"
     ]
    }
   ],
   "source": [
    "s = stream.Stream()\n",
    "d = note.Note('D4')\n",
    "e = note.Note('E4')\n",
    "s.insert(0.0, d)\n",
    "s.insert(0.0, e)\n",
    "s.show('text')"
   ]
  },
  {
   "cell_type": "markdown",
   "metadata": {},
   "source": []
  },
  {
   "cell_type": "code",
   "execution_count": 41,
   "metadata": {},
   "outputs": [
    {
     "data": {
      "text/plain": [
       "0"
      ]
     },
     "execution_count": 41,
     "metadata": {},
     "output_type": "execute_result"
    }
   ],
   "source": [
    "d.priority"
   ]
  },
  {
   "cell_type": "code",
   "execution_count": 42,
   "metadata": {},
   "outputs": [
    {
     "name": "stdout",
     "output_type": "stream",
     "text": [
      "{0.0} <music21.note.Note E>\n",
      "{0.0} <music21.note.Note D>\n"
     ]
    }
   ],
   "source": [
    "e.priority = -1\n",
    "s.show('text')"
   ]
  },
  {
   "cell_type": "markdown",
   "metadata": {},
   "source": []
  },
  {
   "cell_type": "code",
   "execution_count": 43,
   "metadata": {},
   "outputs": [
    {
     "name": "stdout",
     "output_type": "stream",
     "text": [
      "{0.0} <music21.note.Note D>\n",
      "{0.0} <music21.note.Note E>\n"
     ]
    }
   ],
   "source": [
    "e.priority = 0\n",
    "s.show('text')"
   ]
  },
  {
   "cell_type": "markdown",
   "metadata": {},
   "source": []
  },
  {
   "cell_type": "code",
   "execution_count": 44,
   "metadata": {},
   "outputs": [
    {
     "name": "stdout",
     "output_type": "stream",
     "text": [
      "{0.0} <music21.clef.TrebleClef>\n",
      "{0.0} <music21.note.Note D>\n",
      "{0.0} <music21.note.Note E>\n"
     ]
    }
   ],
   "source": [
    "tc = clef.TrebleClef()\n",
    "s.insert(0.0, tc)\n",
    "s.show('text')"
   ]
  },
  {
   "cell_type": "markdown",
   "metadata": {},
   "source": []
  },
  {
   "cell_type": "code",
   "execution_count": 45,
   "metadata": {},
   "outputs": [
    {
     "data": {
      "text/plain": [
       "(0, 0, 0)"
      ]
     },
     "execution_count": 45,
     "metadata": {},
     "output_type": "execute_result"
    }
   ],
   "source": [
    "(tc.priority, d.priority, e.priority)"
   ]
  },
  {
   "cell_type": "markdown",
   "metadata": {},
   "source": []
  },
  {
   "cell_type": "code",
   "execution_count": 46,
   "metadata": {},
   "outputs": [
    {
     "data": {
      "text/plain": [
       "(0, 20, 20)"
      ]
     },
     "execution_count": 46,
     "metadata": {},
     "output_type": "execute_result"
    }
   ],
   "source": [
    "(tc.classSortOrder, d.classSortOrder, e.classSortOrder)"
   ]
  },
  {
   "cell_type": "markdown",
   "metadata": {},
   "source": []
  },
  {
   "cell_type": "code",
   "execution_count": 47,
   "metadata": {},
   "outputs": [
    {
     "data": {
      "text/plain": [
       "(0, 20)"
      ]
     },
     "execution_count": 47,
     "metadata": {},
     "output_type": "execute_result"
    }
   ],
   "source": [
    "(clef.TrebleClef.classSortOrder, note.Note.classSortOrder)"
   ]
  },
  {
   "cell_type": "markdown",
   "metadata": {},
   "source": []
  },
  {
   "cell_type": "code",
   "execution_count": 48,
   "metadata": {},
   "outputs": [
    {
     "data": {
      "text/plain": [
       "(25, 10, 10)"
      ]
     },
     "execution_count": 48,
     "metadata": {},
     "output_type": "execute_result"
    }
   ],
   "source": [
    "clef.TrebleClef.classSortOrder = 25\n",
    "note.Note.classSortOrder = 10\n",
    "(tc.classSortOrder, d.classSortOrder, e.classSortOrder)"
   ]
  },
  {
   "cell_type": "markdown",
   "metadata": {},
   "source": []
  },
  {
   "cell_type": "code",
   "execution_count": 49,
   "metadata": {},
   "outputs": [
    {
     "data": {
      "text/plain": [
       "(0, 20, 20)"
      ]
     },
     "execution_count": 49,
     "metadata": {},
     "output_type": "execute_result"
    }
   ],
   "source": [
    "clef.TrebleClef.classSortOrder = 0\n",
    "note.Note.classSortOrder = 20\n",
    "(tc.classSortOrder, d.classSortOrder, e.classSortOrder)"
   ]
  }
 ],
 "metadata": {
  "kernelspec": {
   "display_name": "Python 3",
   "language": "python",
   "name": "python3"
  },
  "language_info": {
   "codemirror_mode": {
    "name": "ipython",
    "version": 3
   },
   "file_extension": ".py",
   "mimetype": "text/x-python",
   "name": "python",
   "nbconvert_exporter": "python",
   "pygments_lexer": "ipython3",
   "version": "3.12.10"
  },
  "orig_nbformat": 4
 },
 "nbformat": 4,
 "nbformat_minor": 2
}
