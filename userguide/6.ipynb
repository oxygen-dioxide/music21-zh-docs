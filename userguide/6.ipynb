{
 "cells": [
  {
   "cell_type": "markdown",
   "metadata": {},
   "source": [
    "# 用户指南，用户指南，第6章：流(II)：分层，递归与扁平化\n",
    "[原文链接](https://web.mit.edu/music21/doc/usersGuide/usersGuide_06_stream2.html#usersguide-06-stream2)\n",
    "\n",
    "在[第4章](4.ipynb)中，我们创建了一个嵌套的`Stream`对象。这里我们先把它重新创建出来"
   ]
  },
  {
   "cell_type": "code",
   "execution_count": 1,
   "metadata": {},
   "outputs": [],
   "source": [
    "from music21 import *\n",
    "\n",
    "note1 = note.Note(\"C4\")\n",
    "note1.duration.type = 'half'\n",
    "note2 = note.Note(\"F#4\")\n",
    "note3 = note.Note(\"B-2\")\n",
    "\n",
    "stream1 = stream.Stream()\n",
    "stream1.id = 'some notes'\n",
    "stream1.append(note1)\n",
    "stream1.append(note2)\n",
    "stream1.append(note3)\n",
    "\n",
    "biggerStream = stream.Stream()\n",
    "note2 = note.Note(\"D#5\")\n",
    "biggerStream.insert(0, note2)\n",
    "biggerStream.append(stream1)"
   ]
  },
  {
   "cell_type": "markdown",
   "metadata": {},
   "source": [
    "到目前为止，如果要查看内层`Stream`内容，我们只介绍了`.show('text')`"
   ]
  },
  {
   "cell_type": "code",
   "execution_count": 2,
   "metadata": {},
   "outputs": [
    {
     "name": "stdout",
     "output_type": "stream",
     "text": [
      "{0.0} <music21.note.Note D#>\n",
      "{1.0} <music21.stream.Stream some notes>\n",
      "    {0.0} <music21.note.Note C>\n",
      "    {2.0} <music21.note.Note F#>\n",
      "    {3.0} <music21.note.Note B->\n"
     ]
    }
   ],
   "source": [
    "biggerStream.show('text')"
   ]
  },
  {
   "cell_type": "markdown",
   "metadata": {},
   "source": [
    "如[第4章](4.ipynb)所说，使用`biggerStream[1][1]`这种语法，可以获取`F#`等内层音符。但是music21中有一种更好的方式。为此，我们要学习子类的基本概念，以及Stream的子类。（如果你已经知道了，可以跳过。）\n",
    "\n",
    "## 类和子类\n",
    "对象，例如note或pitch，是一系列信息的集合，并定义了一些函数来对这些信息进行处理。类是生成新对象的类型。我们已经见过了`note.Note`等类，其中，大写的`Note`类名位于小写的`note`库中。"
   ]
  },
  {
   "cell_type": "code",
   "execution_count": 3,
   "metadata": {},
   "outputs": [
    {
     "data": {
      "text/plain": [
       "<module 'music21.note' from 'E:\\\\Python39\\\\lib\\\\site-packages\\\\music21\\\\note.py'>"
      ]
     },
     "execution_count": 3,
     "metadata": {},
     "output_type": "execute_result"
    }
   ],
   "source": [
    "note"
   ]
  },
  {
   "cell_type": "code",
   "execution_count": 4,
   "metadata": {},
   "outputs": [
    {
     "name": "stdout",
     "output_type": "stream",
     "text": [
      "<class 'music21.note.Note'>\n"
     ]
    }
   ],
   "source": [
    "print(note.Note)"
   ]
  },
  {
   "cell_type": "markdown",
   "metadata": {},
   "source": [
    "在类名后紧跟着一对括号`()`，以创建对象"
   ]
  },
  {
   "cell_type": "code",
   "execution_count": 5,
   "metadata": {},
   "outputs": [
    {
     "data": {
      "text/plain": [
       "<music21.note.Note C>"
      ]
     },
     "execution_count": 5,
     "metadata": {},
     "output_type": "execute_result"
    }
   ],
   "source": [
    "n=note.Note()\n",
    "n"
   ]
  },
  {
   "cell_type": "markdown",
   "metadata": {},
   "source": [
    "可以在括号中加入信息，例如音名。"
   ]
  },
  {
   "cell_type": "code",
   "execution_count": 6,
   "metadata": {},
   "outputs": [
    {
     "data": {
      "text/plain": [
       "<music21.note.Note D#>"
      ]
     },
     "execution_count": 6,
     "metadata": {},
     "output_type": "execute_result"
    }
   ],
   "source": [
    "d=note.Note('D#5')\n",
    "d"
   ]
  },
  {
   "cell_type": "markdown",
   "metadata": {},
   "source": [
    "现在`d`是一个从`Note`类创建的`Note`对象。我知道这可能有些迷惑，但是接下来就带你弄清楚。如果你想知道`Note`还能做什么，最好的办法是阅读music21手册。:-) 但是对于Python中的任何一个类，你都可以使用函数`help(Class)`来获得这个类的使用方法。"
   ]
  },
  {
   "cell_type": "code",
   "execution_count": 7,
   "metadata": {},
   "outputs": [],
   "source": [
    "#以下代码会输出大量文本，请删除井号运行\n",
    "#help(note.Note)"
   ]
  },
  {
   "cell_type": "markdown",
   "metadata": {},
   "source": [
    "TODO\n",
    "\n",
    "`Note`是`NotRest`的子类，这意味着：任何`NotRest`能做的事情，`Note`都能做。例如，`NotRest`有`beams`属性，`Note`也有"
   ]
  },
  {
   "cell_type": "code",
   "execution_count": 8,
   "metadata": {},
   "outputs": [
    {
     "name": "stdout",
     "output_type": "stream",
     "text": [
      "<music21.beam.Beams> <music21.beam.Beams>\n"
     ]
    }
   ],
   "source": [
    "nr = note.NotRest()\n",
    "n = note.Note()\n",
    "print(nr.beams, n.beams)"
   ]
  },
  {
   "cell_type": "markdown",
   "metadata": {},
   "source": [
    "但是`Rest`显然不是`NotRest`的子类，它就没有`beams`属性。"
   ]
  },
  {
   "cell_type": "code",
   "execution_count": 9,
   "metadata": {},
   "outputs": [
    {
     "ename": "AttributeError",
     "evalue": "'Rest' object has no attribute 'beams'",
     "output_type": "error",
     "traceback": [
      "\u001b[1;31m---------------------------------------------------------------------------\u001b[0m",
      "\u001b[1;31mAttributeError\u001b[0m                            Traceback (most recent call last)",
      "\u001b[1;32m~\\AppData\\Local\\Temp/ipykernel_25772/3603063041.py\u001b[0m in \u001b[0;36m<module>\u001b[1;34m\u001b[0m\n\u001b[0;32m      1\u001b[0m \u001b[0mr\u001b[0m \u001b[1;33m=\u001b[0m \u001b[0mnote\u001b[0m\u001b[1;33m.\u001b[0m\u001b[0mRest\u001b[0m\u001b[1;33m(\u001b[0m\u001b[1;33m)\u001b[0m\u001b[1;33m\u001b[0m\u001b[1;33m\u001b[0m\u001b[0m\n\u001b[1;32m----> 2\u001b[1;33m \u001b[0mr\u001b[0m\u001b[1;33m.\u001b[0m\u001b[0mbeams\u001b[0m\u001b[1;33m\u001b[0m\u001b[1;33m\u001b[0m\u001b[0m\n\u001b[0m",
      "\u001b[1;31mAttributeError\u001b[0m: 'Rest' object has no attribute 'beams'"
     ]
    }
   ],
   "source": [
    "r = note.Rest()\n",
    "r.beams"
   ]
  },
  {
   "cell_type": "markdown",
   "metadata": {},
   "source": [
    "但是，`NotRest`没有的属性，`Note`也有，例如`pitch`"
   ]
  },
  {
   "cell_type": "code",
   "execution_count": 10,
   "metadata": {},
   "outputs": [
    {
     "ename": "AttributeError",
     "evalue": "'NotRest' object has no attribute 'pitch'",
     "output_type": "error",
     "traceback": [
      "\u001b[1;31m---------------------------------------------------------------------------\u001b[0m",
      "\u001b[1;31mAttributeError\u001b[0m                            Traceback (most recent call last)",
      "\u001b[1;32m~\\AppData\\Local\\Temp/ipykernel_25772/195543925.py\u001b[0m in \u001b[0;36m<module>\u001b[1;34m\u001b[0m\n\u001b[1;32m----> 1\u001b[1;33m \u001b[0mprint\u001b[0m\u001b[1;33m(\u001b[0m\u001b[0mnr\u001b[0m\u001b[1;33m.\u001b[0m\u001b[0mpitch\u001b[0m\u001b[1;33m)\u001b[0m\u001b[1;33m\u001b[0m\u001b[1;33m\u001b[0m\u001b[0m\n\u001b[0m",
      "\u001b[1;31mAttributeError\u001b[0m: 'NotRest' object has no attribute 'pitch'"
     ]
    }
   ],
   "source": [
    "print(nr.pitch)"
   ]
  },
  {
   "cell_type": "markdown",
   "metadata": {},
   "source": [
    "所以，类和子类是描述具有相似特性的一系列事物的有效方式。但是它们也能拥有自己独特的信息（属性）和行为（方法）。\n",
    "\n",
    "（仅供参考）以下是创建子类的方式。我们先创建一个类叫做`Japan`，然后创建一个子类叫做`Okinawa`（这是我的祖籍），该子类拥有更多属性。"
   ]
  },
  {
   "cell_type": "code",
   "execution_count": 11,
   "metadata": {},
   "outputs": [],
   "source": [
    "class Japan:\n",
    "    food = \"sushi\"\n",
    "    drink = \"sake\"\n",
    "\n",
    "class Okinawa(Japan):\n",
    "    evenBetterFood = \"spam potstickers\""
   ]
  },
  {
   "cell_type": "markdown",
   "metadata": {},
   "source": [
    "`Onikawa`类定义中的`(Japan)`说明它继承了`Japan`拥有的一切，除此之外还有自己的独特内容"
   ]
  },
  {
   "cell_type": "code",
   "execution_count": 12,
   "metadata": {},
   "outputs": [
    {
     "name": "stdout",
     "output_type": "stream",
     "text": [
      "sushi sake spam potstickers\n"
     ]
    }
   ],
   "source": [
    "o = Okinawa()\n",
    "print(o.food, o.drink, o.evenBetterFood)"
   ]
  },
  {
   "cell_type": "markdown",
   "metadata": {},
   "source": [
    "但是`Japan`就没有这些独特内容"
   ]
  },
  {
   "cell_type": "code",
   "execution_count": 13,
   "metadata": {},
   "outputs": [
    {
     "ename": "AttributeError",
     "evalue": "'Japan' object has no attribute 'evenBetterFood'",
     "output_type": "error",
     "traceback": [
      "\u001b[1;31m---------------------------------------------------------------------------\u001b[0m",
      "\u001b[1;31mAttributeError\u001b[0m                            Traceback (most recent call last)",
      "\u001b[1;32m~\\AppData\\Local\\Temp/ipykernel_25772/1924367117.py\u001b[0m in \u001b[0;36m<module>\u001b[1;34m\u001b[0m\n\u001b[0;32m      1\u001b[0m \u001b[0mj\u001b[0m \u001b[1;33m=\u001b[0m \u001b[0mJapan\u001b[0m\u001b[1;33m(\u001b[0m\u001b[1;33m)\u001b[0m\u001b[1;33m\u001b[0m\u001b[1;33m\u001b[0m\u001b[0m\n\u001b[1;32m----> 2\u001b[1;33m \u001b[0mprint\u001b[0m\u001b[1;33m(\u001b[0m\u001b[0mj\u001b[0m\u001b[1;33m.\u001b[0m\u001b[0mevenBetterFood\u001b[0m\u001b[1;33m)\u001b[0m\u001b[1;33m\u001b[0m\u001b[1;33m\u001b[0m\u001b[0m\n\u001b[0m",
      "\u001b[1;31mAttributeError\u001b[0m: 'Japan' object has no attribute 'evenBetterFood'"
     ]
    }
   ],
   "source": [
    "j = Japan()\n",
    "print(j.evenBetterFood)"
   ]
  },
  {
   "cell_type": "markdown",
   "metadata": {},
   "source": [
    "这就是子类的工作方式。下面我们即将接触到`Stream`的三种基本的子类：总谱`Score`、音轨`Part`和小节`Measure`\n",
    "\n",
    "## 访问总谱`Score`、音轨`Part`、小节`Measure`和音符`Note`\n",
    "`Stream`提供了一种方法来结构化地表达`music21`对象。一个`Stream`，或者`Stream`子类（例如`Measure`），可以存入另一个`Stream`。\n",
    "\n",
    "一种常见的对象配置是：一个`Score`包含多个`Part`，每个`Part`又包含多个`Measure`。\n",
    "\n",
    "这种对象配置是在music21中表示乐谱的常用形式。例如，导入一首巴赫的四音轨众赞歌，会得到一个乐谱，含有四个`Part`，每个`Part`含有多个`Measure`。music21自带一个`music21.corpus`（乐谱库），包含大量的乐谱，包括全部的巴赫众赞歌。我们可以使用`parse()`导入乐谱。"
   ]
  },
  {
   "cell_type": "code",
   "execution_count": 14,
   "metadata": {},
   "outputs": [],
   "source": [
    "sBach = corpus.parse('bach/bwv57.8')"
   ]
  },
  {
   "cell_type": "markdown",
   "metadata": {},
   "source": [
    "使用标准的python嵌套列表语法，可以访问这个乐谱中各个层次的元素。由此，可以查看每个元素的长度：总谱含有六个元素：一个`Metadata`，一个`StaffGroup`和四个`Part`。位于编号3的音轨含有14个元素（其中13个是小节）。其中，位于编号1的对象是小节。所有这些对象都可以从`sBach`中访问到。"
   ]
  },
  {
   "cell_type": "code",
   "execution_count": 15,
   "metadata": {},
   "outputs": [
    {
     "data": {
      "text/plain": [
       "9"
      ]
     },
     "execution_count": 15,
     "metadata": {},
     "output_type": "execute_result"
    }
   ],
   "source": [
    "len(sBach)"
   ]
  },
  {
   "cell_type": "code",
   "execution_count": 16,
   "metadata": {},
   "outputs": [
    {
     "data": {
      "text/plain": [
       "14"
      ]
     },
     "execution_count": 16,
     "metadata": {},
     "output_type": "execute_result"
    }
   ],
   "source": [
    "len(sBach[3])"
   ]
  },
  {
   "cell_type": "code",
   "execution_count": 17,
   "metadata": {},
   "outputs": [
    {
     "data": {
      "text/plain": [
       "7"
      ]
     },
     "execution_count": 17,
     "metadata": {},
     "output_type": "execute_result"
    }
   ],
   "source": [
    "len(sBach[3][1])"
   ]
  },
  {
   "cell_type": "markdown",
   "metadata": {},
   "source": [
    "但是怎么知道`sBach[3]`是音轨，`sBach[3][1]`是小节呢？我们作为教程作者当然知道，但是正如上面所说的，`Part`里面不只存`Measure`（例如还有`Instrument`对象），`Measure`也不只存`Note`和`Rest`（例如`TimeSignature`和`KeySignature`）。因此，需要对`Stream`进行过滤。\n",
    "\n",
    "使用`.getElementsByClass()`以获取指定类型的对象。"
   ]
  },
  {
   "cell_type": "code",
   "execution_count": 18,
   "metadata": {},
   "outputs": [
    {
     "data": {
      "text/plain": [
       "4"
      ]
     },
     "execution_count": 18,
     "metadata": {},
     "output_type": "execute_result"
    }
   ],
   "source": [
    "len(sBach.getElementsByClass(stream.Part))"
   ]
  },
  {
   "cell_type": "code",
   "execution_count": 19,
   "metadata": {},
   "outputs": [
    {
     "data": {
      "text/plain": [
       "13"
      ]
     },
     "execution_count": 19,
     "metadata": {},
     "output_type": "execute_result"
    }
   ],
   "source": [
    "len(sBach.getElementsByClass(stream.Part)[0].getElementsByClass(stream.Measure))"
   ]
  },
  {
   "cell_type": "code",
   "execution_count": 20,
   "metadata": {},
   "outputs": [
    {
     "data": {
      "text/plain": [
       "3"
      ]
     },
     "execution_count": 20,
     "metadata": {},
     "output_type": "execute_result"
    }
   ],
   "source": [
    "len(sBach.getElementsByClass(stream.Part)[0].getElementsByClass(\n",
    "        stream.Measure)[1].getElementsByClass(note.Note))"
   ]
  },
  {
   "cell_type": "markdown",
   "metadata": {},
   "source": [
    "记得[第4章](4.ipynb)讲过，`.getElementsByClass()`也支持用类名字符串来过滤。所以上面的代码也可以写做："
   ]
  },
  {
   "cell_type": "code",
   "execution_count": 21,
   "metadata": {},
   "outputs": [
    {
     "data": {
      "text/plain": [
       "4"
      ]
     },
     "execution_count": 21,
     "metadata": {},
     "output_type": "execute_result"
    }
   ],
   "source": [
    "len(sBach.getElementsByClass('Part'))"
   ]
  },
  {
   "cell_type": "markdown",
   "metadata": {},
   "source": [
    "这种方式比输入类型对象写起来方便一些，但是没那么安全。例如，如果同时含有`stream.Measure`和`tape.Measure`对象，用字符串过滤就不能区分这两种对象（但是这种情况很少见，所以大多数时候是安全的）\n",
    "\n",
    "在`.getElementsByClass()`函数的基础上，还引入了`.notes`和`.notesAndRests`属性。同样，可以用`.parts`过滤出音轨对象。"
   ]
  },
  {
   "cell_type": "code",
   "execution_count": 22,
   "metadata": {},
   "outputs": [
    {
     "data": {
      "text/plain": [
       "4"
      ]
     },
     "execution_count": 22,
     "metadata": {},
     "output_type": "execute_result"
    }
   ],
   "source": [
    "len(sBach.parts)"
   ]
  },
  {
   "cell_type": "markdown",
   "metadata": {},
   "source": [
    "你可能会想有一个`.measures`属性来获取小节对象。但是问题在于小节序号和`Stream`中的索引不一样。例如，大部分乐谱（没有弱起小节）以第1小节开始，而不是第0小节。有时候小节数不是连续增长的（例如，有些人把第一个和第二个小节编为同样的小节序号）。所以，把小节过滤出来的最佳方法是`getElementsByClass(stream.Measure)`。\n",
    "\n",
    "而`.measures()`用来选出指定的小节序号区间，`.measure()`用来选出指定的小节序号。不过请注意：\n",
    "1. 这两个都是函数而不是属性，所以要用括号调用\n",
    "2. `.measures()`选出的区间既包含开始序号，也包含结束序号。这和python的列表切片不一样。"
   ]
  },
  {
   "cell_type": "code",
   "execution_count": 23,
   "metadata": {},
   "outputs": [
    {
     "data": {
      "image/png": "[encoded data removed]",
      "text/plain": [
       "<IPython.core.display.Image object>"
      ]
     },
     "metadata": {
      "image/png": {
       "height": 155,
       "width": 748
      }
     },
     "output_type": "display_data"
    }
   ],
   "source": [
    "alto = sBach.parts[1]  # parts count from zero, so soprano is 0 and alto is 1\n",
    "excerpt = alto.measures(1, 4)\n",
    "excerpt.show()"
   ]
  },
  {
   "cell_type": "code",
   "execution_count": 24,
   "metadata": {},
   "outputs": [
    {
     "data": {
      "image/png": "[encoded data removed]",
      "text/plain": [
       "<IPython.core.display.Image object>"
      ]
     },
     "metadata": {
      "image/png": {
       "height": 155,
       "width": 748
      }
     },
     "output_type": "display_data"
    }
   ],
   "source": [
    "measure2 = alto.measure(2)  # measure not measure_s_\n",
    "measure2.show()"
   ]
  },
  {
   "cell_type": "markdown",
   "metadata": {},
   "source": [
    "`.measure()`和`.measures()`不仅适用于单个音轨，还适用于整个乐谱。计算机音乐学家和程序员有时候会把多音轨的小节叫做\"measureStack\"。下面来获取`sBach`中所有音轨的第2、3小节"
   ]
  },
  {
   "cell_type": "code",
   "execution_count": 25,
   "metadata": {},
   "outputs": [
    {
     "data": {
      "image/png": "[encoded data removed]",
      "text/plain": [
       "<IPython.core.display.Image object>"
      ]
     },
     "metadata": {
      "image/png": {
       "height": 385,
       "width": 748
      }
     },
     "output_type": "display_data"
    }
   ],
   "source": [
    "measureStack = sBach.measures(2, 3)\n",
    "measureStack.show()"
   ]
  },
  {
   "cell_type": "markdown",
   "metadata": {},
   "source": [
    "## 在`Stream`中递归\n",
    "\n",
    "`Stream`自身可以包含`Stream`。提供了一个`recurse()`来遍历`Stream`中各个层级的对象。具体来说，从`Stream`的开头开始，如果子元素也是`Stream`，则进入这个子元素并遍历。\n",
    "\n",
    "创建一个简单的多层`Stream`来看看`.recurse()`会做什么。"
   ]
  },
  {
   "cell_type": "code",
   "execution_count": 26,
   "metadata": {},
   "outputs": [
    {
     "name": "stdout",
     "output_type": "stream",
     "text": [
      "{0.0} <music21.stream.Part part0>\n",
      "    {0.0} <music21.stream.Measure 1 offset=0.0>\n",
      "        {0.0} <music21.note.Note C>\n",
      "    {4.0} <music21.stream.Measure 2 offset=4.0>\n",
      "        {0.0} <music21.note.Note D>\n",
      "{0.0} <music21.stream.Part part1>\n",
      "    {0.0} <music21.stream.Measure 1 offset=0.0>\n",
      "        {0.0} <music21.note.Note E>\n",
      "    {4.0} <music21.stream.Measure 2 offset=4.0>\n",
      "        {0.0} <music21.note.Note F>\n"
     ]
    }
   ],
   "source": [
    "s = stream.Score(id='mainScore')\n",
    "p0 = stream.Part(id='part0')\n",
    "p1 = stream.Part(id='part1')\n",
    "\n",
    "m01 = stream.Measure(number=1)\n",
    "m01.append(note.Note('C', type=\"whole\"))\n",
    "m02 = stream.Measure(number=2)\n",
    "m02.append(note.Note('D', type=\"whole\"))\n",
    "p0.append([m01, m02])\n",
    "\n",
    "m11 = stream.Measure(number=1)\n",
    "m11.append(note.Note('E', type=\"whole\"))\n",
    "m12 = stream.Measure(number=2)\n",
    "m12.append(note.Note('F', type=\"whole\"))\n",
    "p1.append([m11, m12])\n",
    "\n",
    "s.insert(0, p0)\n",
    "s.insert(0, p1)\n",
    "s.show('text')"
   ]
  },
  {
   "cell_type": "code",
   "execution_count": 27,
   "metadata": {},
   "outputs": [
    {
     "data": {
      "image/png": "[encoded data removed]",
      "text/plain": [
       "<IPython.core.display.Image object>"
      ]
     },
     "metadata": {
      "image/png": {
       "height": 121,
       "width": 226
      }
     },
     "output_type": "display_data"
    }
   ],
   "source": [
    "s.show()"
   ]
  },
  {
   "cell_type": "markdown",
   "metadata": {},
   "source": [
    "如果直接调用`.recurse()`，看上去好像没有什么用"
   ]
  },
  {
   "cell_type": "code",
   "execution_count": 28,
   "metadata": {},
   "outputs": [
    {
     "data": {
      "text/plain": [
       "<music21.stream.iterator.RecursiveIterator for Score:mainScore @:0>"
      ]
     },
     "execution_count": 28,
     "metadata": {},
     "output_type": "execute_result"
    }
   ],
   "source": [
    "recurseScore = s.recurse()\n",
    "recurseScore"
   ]
  },
  {
   "cell_type": "markdown",
   "metadata": {},
   "source": [
    "但是如果放在for循环里面就有用了。"
   ]
  },
  {
   "cell_type": "code",
   "execution_count": 29,
   "metadata": {},
   "outputs": [
    {
     "name": "stdout",
     "output_type": "stream",
     "text": [
      "0.0 <music21.stream.Part part0> <music21.stream.Score mainScore>\n",
      "0.0 <music21.stream.Measure 1 offset=0.0> <music21.stream.Part part0>\n",
      "0.0 <music21.note.Note C> <music21.stream.Measure 1 offset=0.0>\n",
      "4.0 <music21.stream.Measure 2 offset=4.0> <music21.stream.Part part0>\n",
      "0.0 <music21.note.Note D> <music21.stream.Measure 2 offset=4.0>\n",
      "0.0 <music21.stream.Part part1> <music21.stream.Score mainScore>\n",
      "0.0 <music21.stream.Measure 1 offset=0.0> <music21.stream.Part part1>\n",
      "0.0 <music21.note.Note E> <music21.stream.Measure 1 offset=0.0>\n",
      "4.0 <music21.stream.Measure 2 offset=4.0> <music21.stream.Part part1>\n",
      "0.0 <music21.note.Note F> <music21.stream.Measure 2 offset=4.0>\n"
     ]
    }
   ],
   "source": [
    "for el in s.recurse():\n",
    "    print(el.offset, el, el.activeSite)"
   ]
  },
  {
   "cell_type": "markdown",
   "metadata": {},
   "source": [
    "这个例子同时也介绍了`.activeSite`的概念。目前你可以理解为：该元素所属的上级`Stream`。当然，`Notes`和其他元素可以同时属于多个`Stream`，而`.activeSite`是最近与它发生关系的那个`Stream`。\n",
    "\n",
    "用`.recurse()`可以实现很多功能，但是这里我们先介绍一件事：大多数“过滤”操作，例如`.notes`，都可以对`.recurse()`使用"
   ]
  },
  {
   "cell_type": "code",
   "execution_count": 30,
   "metadata": {},
   "outputs": [
    {
     "name": "stdout",
     "output_type": "stream",
     "text": [
      "0.0 <music21.note.Note C> <music21.stream.Measure 1 offset=0.0>\n",
      "0.0 <music21.note.Note D> <music21.stream.Measure 2 offset=4.0>\n",
      "0.0 <music21.note.Note E> <music21.stream.Measure 1 offset=0.0>\n",
      "0.0 <music21.note.Note F> <music21.stream.Measure 2 offset=4.0>\n"
     ]
    }
   ],
   "source": [
    "for el in s.recurse().notes:\n",
    "    print(el.offset, el, el.activeSite)"
   ]
  },
  {
   "cell_type": "markdown",
   "metadata": {},
   "source": [
    "注意：`.recurse()`是python中的“生成器”对象。因此，它只能用于for循环，或其他遍历场景，而不能像list一样使用。如果想像list一样使用，请把它显式地转换为list。\n",
    "```py\n",
    "listRecurse = list(sBach.recurse())\n",
    "```\n",
    "\n",
    "## 扁平化\n"
   ]
  },
  {
   "cell_type": "code",
   "execution_count": 31,
   "metadata": {},
   "outputs": [
    {
     "name": "stdout",
     "output_type": "stream",
     "text": [
      "0.0 <music21.note.Note C> <music21.stream.Score mainScore_flat>\n",
      "0.0 <music21.note.Note E> <music21.stream.Score mainScore_flat>\n",
      "4.0 <music21.note.Note D> <music21.stream.Score mainScore_flat>\n",
      "4.0 <music21.note.Note F> <music21.stream.Score mainScore_flat>\n"
     ]
    }
   ],
   "source": [
    "for el in s.flatten():\n",
    "    print(el.offset, el, el.activeSite)"
   ]
  },
  {
   "cell_type": "markdown",
   "metadata": {},
   "source": []
  },
  {
   "cell_type": "code",
   "execution_count": 32,
   "metadata": {},
   "outputs": [
    {
     "data": {
      "text/plain": [
       "0"
      ]
     },
     "execution_count": 32,
     "metadata": {},
     "output_type": "execute_result"
    }
   ],
   "source": [
    "len(sBach.getElementsByClass(note.Note))"
   ]
  },
  {
   "cell_type": "markdown",
   "metadata": {},
   "source": []
  },
  {
   "cell_type": "code",
   "execution_count": 33,
   "metadata": {},
   "outputs": [
    {
     "data": {
      "text/plain": [
       "150"
      ]
     },
     "execution_count": 33,
     "metadata": {},
     "output_type": "execute_result"
    }
   ],
   "source": [
    "len(sBach.flatten().getElementsByClass(note.Note))"
   ]
  },
  {
   "cell_type": "markdown",
   "metadata": {},
   "source": []
  },
  {
   "cell_type": "code",
   "execution_count": 34,
   "metadata": {},
   "outputs": [
    {
     "data": {
      "text/plain": [
       "21.0"
      ]
     },
     "execution_count": 34,
     "metadata": {},
     "output_type": "execute_result"
    }
   ],
   "source": [
    "m = sBach.parts[0].getElementsByClass('Measure')[7]\n",
    "m.getOffsetBySite(sBach.parts[0])"
   ]
  },
  {
   "cell_type": "code",
   "execution_count": 35,
   "metadata": {},
   "outputs": [
    {
     "data": {
      "text/plain": [
       "<music21.note.Note E->"
      ]
     },
     "execution_count": 35,
     "metadata": {},
     "output_type": "execute_result"
    }
   ],
   "source": [
    "n = sBach.parts[0].measure(8).notes[1]\n",
    "n"
   ]
  },
  {
   "cell_type": "code",
   "execution_count": 36,
   "metadata": {},
   "outputs": [
    {
     "data": {
      "text/plain": [
       "1.0"
      ]
     },
     "execution_count": 36,
     "metadata": {},
     "output_type": "execute_result"
    }
   ],
   "source": [
    "n.getOffsetBySite(m)"
   ]
  },
  {
   "cell_type": "markdown",
   "metadata": {},
   "source": []
  },
  {
   "cell_type": "code",
   "execution_count": 37,
   "metadata": {},
   "outputs": [
    {
     "data": {
      "text/plain": [
       "<music21.note.Note E->"
      ]
     },
     "execution_count": 37,
     "metadata": {},
     "output_type": "execute_result"
    }
   ],
   "source": [
    "pFlat = sBach.parts[0].flatten()\n",
    "indexN = pFlat.index(n)\n",
    "pFlat[indexN]"
   ]
  },
  {
   "cell_type": "code",
   "execution_count": 38,
   "metadata": {},
   "outputs": [
    {
     "data": {
      "text/plain": [
       "22.0"
      ]
     },
     "execution_count": 38,
     "metadata": {},
     "output_type": "execute_result"
    }
   ],
   "source": [
    "pFlat[indexN].offset"
   ]
  }
 ],
 "metadata": {
  "interpreter": {
   "hash": "9e6fe232ec1802e04813a62eadbd4a033db6fcefdd78d84705bbb38e45fcef4a"
  },
  "kernelspec": {
   "display_name": "Python 3.9.7 64-bit",
   "name": "python3"
  },
  "language_info": {
   "codemirror_mode": {
    "name": "ipython",
    "version": 3
   },
   "file_extension": ".py",
   "mimetype": "text/x-python",
   "name": "python",
   "nbconvert_exporter": "python",
   "pygments_lexer": "ipython3",
   "version": "3.9.7"
  },
  "orig_nbformat": 4
 },
 "nbformat": 4,
 "nbformat_minor": 2
}
