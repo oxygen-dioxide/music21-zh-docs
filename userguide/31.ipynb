{
 "cells": [
  {
   "cell_type": "markdown",
   "metadata": {},
   "source": [
    "# 用户指南，第31章：谱号、延音线和符尾连线\n",
    "[原文链接](https://www.music21.org/music21docs/usersGuide/usersGuide_31_clefs.html)\n",
    "\n",
    "在前30章，我们一直在和基础的音乐记谱概念打交道，例如谱号`Clef`、延音线`Tie`和符尾连线`Beam`，但是我们从未直接上手处理它们。本章将深入这些概念，并看看有哪些`Stream`方法来处理它们。\n",
    "\n",
    "## 谱号`Clef`\n",
    "首先介绍谱号`Clef`，它位于`music21.clef`模块"
   ]
  },
  {
   "cell_type": "code",
   "execution_count": 1,
   "metadata": {},
   "outputs": [
    {
     "data": {
      "image/png": "[encoded data removed]",
      "text/plain": [
       "<IPython.core.display.Image object>"
      ]
     },
     "metadata": {
      "image/png": {
       "height": 28,
       "width": 117
      }
     },
     "output_type": "display_data"
    }
   ],
   "source": [
    "from music21 import *\n",
    "alto = clef.AltoClef()\n",
    "m = stream.Measure([alto])\n",
    "m.show()"
   ]
  },
  {
   "cell_type": "markdown",
   "metadata": {},
   "source": [
    "由于`Clef`可以存入`Stream`，所以`Clef`是`Music21Object`，拥有时刻等属性，但`Clef`的时值为0"
   ]
  },
  {
   "cell_type": "code",
   "execution_count": 2,
   "metadata": {},
   "outputs": [
    {
     "data": {
      "text/plain": [
       "0.0"
      ]
     },
     "execution_count": 2,
     "metadata": {},
     "output_type": "execute_result"
    }
   ],
   "source": [
    "alto.offset"
   ]
  },
  {
   "cell_type": "code",
   "execution_count": 3,
   "metadata": {},
   "outputs": [
    {
     "data": {
      "text/plain": [
       "<music21.duration.Duration 0.0>"
      ]
     },
     "execution_count": 3,
     "metadata": {},
     "output_type": "execute_result"
    }
   ],
   "source": [
    "alto.duration"
   ]
  },
  {
   "cell_type": "markdown",
   "metadata": {},
   "source": [
    "同一个小节可以有多个谱号，可以同时显示出来（但是两个谱号之间至少有一个音符。这是我们的MusicXML阅读器的问题）:"
   ]
  },
  {
   "cell_type": "code",
   "execution_count": 4,
   "metadata": {},
   "outputs": [
    {
     "data": {
      "image/png": "[encoded data removed]",
      "text/plain": [
       "<IPython.core.display.Image object>"
      ]
     },
     "metadata": {
      "image/png": {
       "height": 46,
       "width": 214
      }
     },
     "output_type": "display_data"
    }
   ],
   "source": [
    "m.append(note.Note('C4'))\n",
    "bass = clef.BassClef()\n",
    "m.append(bass)\n",
    "m.append(note.Note('C4'))\n",
    "m.show()"
   ]
  },
  {
   "cell_type": "markdown",
   "metadata": {},
   "source": [
    "todo"
   ]
  },
  {
   "cell_type": "code",
   "execution_count": 5,
   "metadata": {},
   "outputs": [
    {
     "data": {
      "text/plain": [
       "3"
      ]
     },
     "execution_count": 5,
     "metadata": {},
     "output_type": "execute_result"
    }
   ],
   "source": [
    "alto.line"
   ]
  },
  {
   "cell_type": "code",
   "execution_count": 6,
   "metadata": {},
   "outputs": [
    {
     "data": {
      "image/png": "[encoded data removed]",
      "text/plain": [
       "<IPython.core.display.Image object>"
      ]
     },
     "metadata": {
      "image/png": {
       "height": 34,
       "width": 117
      }
     },
     "output_type": "display_data"
    }
   ],
   "source": [
    "tenor = clef.TenorClef()\n",
    "tenor.show()"
   ]
  },
  {
   "cell_type": "code",
   "execution_count": 7,
   "metadata": {},
   "outputs": [
    {
     "data": {
      "text/plain": [
       "4"
      ]
     },
     "execution_count": 7,
     "metadata": {},
     "output_type": "execute_result"
    }
   ],
   "source": [
    "tenor.line"
   ]
  },
  {
   "cell_type": "markdown",
   "metadata": {},
   "source": [
    "`.line`属性表示该谱号的\"sign\"所处的线（F谱号、C谱号、G谱号）"
   ]
  },
  {
   "cell_type": "code",
   "execution_count": 8,
   "metadata": {},
   "outputs": [
    {
     "data": {
      "text/plain": [
       "'C'"
      ]
     },
     "execution_count": 8,
     "metadata": {},
     "output_type": "execute_result"
    }
   ],
   "source": [
    "tenor.sign"
   ]
  },
  {
   "cell_type": "code",
   "execution_count": 9,
   "metadata": {},
   "outputs": [
    {
     "data": {
      "text/plain": [
       "'G'"
      ]
     },
     "execution_count": 9,
     "metadata": {},
     "output_type": "execute_result"
    }
   ],
   "source": [
    "treble = clef.TrebleClef()\n",
    "treble.sign"
   ]
  },
  {
   "cell_type": "markdown",
   "metadata": {},
   "source": [
    "`Clef`还有一个`octaveChange`，支持整八度的上下移动"
   ]
  },
  {
   "cell_type": "code",
   "execution_count": 10,
   "metadata": {},
   "outputs": [
    {
     "data": {
      "text/plain": [
       "0"
      ]
     },
     "execution_count": 10,
     "metadata": {},
     "output_type": "execute_result"
    }
   ],
   "source": [
    "treble.octaveChange"
   ]
  },
  {
   "cell_type": "code",
   "execution_count": 11,
   "metadata": {},
   "outputs": [
    {
     "data": {
      "text/plain": [
       "-1"
      ]
     },
     "execution_count": 11,
     "metadata": {},
     "output_type": "execute_result"
    }
   ],
   "source": [
    "t8vb = clef.Treble8vbClef()\n",
    "t8vb.octaveChange"
   ]
  },
  {
   "cell_type": "code",
   "execution_count": 12,
   "metadata": {},
   "outputs": [
    {
     "data": {
      "image/png": "[encoded data removed]",
      "text/plain": [
       "<IPython.core.display.Image object>"
      ]
     },
     "metadata": {
      "image/png": {
       "height": 57,
       "width": 114
      }
     },
     "output_type": "display_data"
    }
   ],
   "source": [
    "t8vb.show()"
   ]
  },
  {
   "cell_type": "markdown",
   "metadata": {},
   "source": [
    "也有不支持Pitch的谱号，例如`NoClef`"
   ]
  },
  {
   "cell_type": "code",
   "execution_count": 13,
   "metadata": {},
   "outputs": [],
   "source": [
    "noClef = clef.NoClef()"
   ]
  },
  {
   "cell_type": "markdown",
   "metadata": {},
   "source": [
    "Musescore不支持`NoClef`，但是在一些其他的MusicXML阅读器中，`NoClef`会显示为无谱号的乐谱。打击乐谱号也是无音高谱号"
   ]
  },
  {
   "cell_type": "code",
   "execution_count": 14,
   "metadata": {},
   "outputs": [
    {
     "data": {
      "image/png": "[encoded data removed]",
      "text/plain": [
       "<IPython.core.display.Image object>"
      ]
     },
     "metadata": {
      "image/png": {
       "height": 28,
       "width": 107
      }
     },
     "output_type": "display_data"
    }
   ],
   "source": [
    "clef.PercussionClef().show()"
   ]
  },
  {
   "cell_type": "markdown",
   "metadata": {},
   "source": [
    "music21内置了很多谱号，包括不常用的谱号，例如`MezzoSopranoClef`、`SubBassClef`和`JianpuClef`，都在`music21.clef`模块中。但是你也可以创造自己的谱号。"
   ]
  },
  {
   "cell_type": "code",
   "execution_count": 15,
   "metadata": {},
   "outputs": [
    {
     "data": {
      "image/png": "[encoded data removed]",
      "text/plain": [
       "<IPython.core.display.Image object>"
      ]
     },
     "metadata": {
      "image/png": {
       "height": 37,
       "width": 116
      }
     },
     "output_type": "display_data"
    }
   ],
   "source": [
    "pc = clef.PitchClef()\n",
    "pc.sign = 'F'\n",
    "pc.line = 4\n",
    "pc.octaveChange = -1\n",
    "pc.show()"
   ]
  },
  {
   "cell_type": "markdown",
   "metadata": {},
   "source": [
    "也可以用`clefFromString()`函数将字符串转为谱号。"
   ]
  },
  {
   "cell_type": "code",
   "execution_count": 16,
   "metadata": {},
   "outputs": [
    {
     "data": {
      "text/plain": [
       "<music21.clef.TrebleClef>"
      ]
     },
     "execution_count": 16,
     "metadata": {},
     "output_type": "execute_result"
    }
   ],
   "source": [
    "clef.clefFromString('treble')"
   ]
  },
  {
   "cell_type": "markdown",
   "metadata": {},
   "source": [
    "或者是从音高生成谱号"
   ]
  },
  {
   "cell_type": "code",
   "execution_count": 17,
   "metadata": {},
   "outputs": [
    {
     "data": {
      "image/png": "[encoded data removed]",
      "text/plain": [
       "<IPython.core.display.Image object>"
      ]
     },
     "metadata": {
      "image/png": {
       "height": 34,
       "width": 117
      }
     },
     "output_type": "display_data"
    }
   ],
   "source": [
    "c = clef.clefFromString('C4')\n",
    "c.show()"
   ]
  },
  {
   "cell_type": "markdown",
   "metadata": {},
   "source": [
    "### 自动生成谱号\n",
    "看看下面这个`Stream`"
   ]
  },
  {
   "cell_type": "code",
   "execution_count": 18,
   "metadata": {},
   "outputs": [
    {
     "data": {
      "image/png": "[encoded data removed]",
      "text/plain": [
       "<IPython.core.display.Image object>"
      ]
     },
     "metadata": {
      "image/png": {
       "height": 31,
       "width": 176
      }
     },
     "output_type": "display_data"
    }
   ],
   "source": [
    "n = note.Note('B2')\n",
    "s = stream.Stream([n])\n",
    "s.show()"
   ]
  },
  {
   "cell_type": "markdown",
   "metadata": {},
   "source": [
    "music21是怎么知道要用低音谱号的呢？这是因为，`clef`模块的`bestClef()`函数,能返回一段旋律的最佳谱号："
   ]
  },
  {
   "cell_type": "code",
   "execution_count": 19,
   "metadata": {},
   "outputs": [
    {
     "data": {
      "text/plain": [
       "<music21.clef.BassClef>"
      ]
     },
     "execution_count": 19,
     "metadata": {},
     "output_type": "execute_result"
    }
   ],
   "source": [
    "clef.bestClef(s)"
   ]
  },
  {
   "cell_type": "code",
   "execution_count": 20,
   "metadata": {},
   "outputs": [
    {
     "data": {
      "text/plain": [
       "<music21.clef.TrebleClef>"
      ]
     },
     "execution_count": 20,
     "metadata": {},
     "output_type": "execute_result"
    }
   ],
   "source": [
    "s.append(note.Note('C6'))\n",
    "clef.bestClef(s)"
   ]
  },
  {
   "cell_type": "code",
   "execution_count": 21,
   "metadata": {},
   "outputs": [
    {
     "data": {
      "image/png": "[encoded data removed]",
      "text/plain": [
       "<IPython.core.display.Image object>"
      ]
     },
     "metadata": {
      "image/png": {
       "height": 83,
       "width": 205
      }
     },
     "output_type": "display_data"
    }
   ],
   "source": [
    "s.show()"
   ]
  },
  {
   "cell_type": "markdown",
   "metadata": {},
   "source": [
    "`bestClef`有两个选项，`allowTreble8vb`和`recurse`。\n",
    "\n",
    "如果将`allowTreble8vb`设为`True`，则返回的谱号可以是八度移动的谱号"
   ]
  },
  {
   "cell_type": "code",
   "execution_count": 22,
   "metadata": {},
   "outputs": [
    {
     "data": {
      "text/plain": [
       "<music21.clef.Treble8vbClef>"
      ]
     },
     "execution_count": 22,
     "metadata": {},
     "output_type": "execute_result"
    }
   ],
   "source": [
    "n = note.Note('B3')\n",
    "s = stream.Stream([n])\n",
    "clef.bestClef(s, allowTreble8vb=True)"
   ]
  },
  {
   "cell_type": "markdown",
   "metadata": {},
   "source": [
    "如果在嵌套`Stream`上运行，则`recurse`应设为`True`"
   ]
  },
  {
   "cell_type": "code",
   "execution_count": 23,
   "metadata": {},
   "outputs": [
    {
     "data": {
      "text/plain": [
       "<music21.clef.TrebleClef>"
      ]
     },
     "execution_count": 23,
     "metadata": {},
     "output_type": "execute_result"
    }
   ],
   "source": [
    "bass = corpus.parse('bwv66.6').parts['bass']\n",
    "clef.bestClef(bass)"
   ]
  },
  {
   "cell_type": "code",
   "execution_count": 24,
   "metadata": {},
   "outputs": [
    {
     "data": {
      "text/plain": [
       "<music21.clef.BassClef>"
      ]
     },
     "execution_count": 24,
     "metadata": {},
     "output_type": "execute_result"
    }
   ],
   "source": [
    "clef.bestClef(bass, recurse=True)"
   ]
  },
  {
   "cell_type": "markdown",
   "metadata": {},
   "source": [
    "## 延音线`Tie`\n",
    "> 译者注：圆滑线`Slur`见[第29章](29.ipynb)。\n",
    "> \n",
    "> 延音线与圆滑线形状相同但意义不同。延音线`Tie`连接音高相同的音符，仅为方便记谱，在演奏与处理时视为一个音符。圆滑线`Slur`连接音高不同的音符，为演奏技法符号，处理时视为两个音符，人声演唱时一个字跨两个音高，即歌声合成软件中的减号`-`。\n",
    "\n",
    "`Tie`连接两个具有相同音高的音符。所有的音符都有`.tie`属性，指示延音线的存在情况。以Agnus Dei的第0音轨为例："
   ]
  },
  {
   "cell_type": "code",
   "execution_count": 25,
   "metadata": {},
   "outputs": [
    {
     "data": {
      "image/png": "[encoded data removed]",
      "text/plain": [
       "<IPython.core.display.Image object>"
      ]
     },
     "metadata": {
      "image/png": {
       "height": 155,
       "width": 748
      }
     },
     "output_type": "display_data"
    }
   ],
   "source": [
    "agnus = corpus.parse('palestrina/Agnus_01')\n",
    "agnusSop = agnus.parts[0]\n",
    "agnusSop.measures(1, 7).show()"
   ]
  },
  {
   "cell_type": "markdown",
   "metadata": {},
   "source": [
    "第二个和第三个音符连起来了，我们来找到它："
   ]
  },
  {
   "cell_type": "code",
   "execution_count": 26,
   "metadata": {},
   "outputs": [
    {
     "data": {
      "text/plain": [
       "<music21.note.Note D>"
      ]
     },
     "execution_count": 26,
     "metadata": {},
     "output_type": "execute_result"
    }
   ],
   "source": [
    "n1 = agnusSop.recurse().notes[1]\n",
    "n1"
   ]
  },
  {
   "cell_type": "markdown",
   "metadata": {},
   "source": [
    "现在来看看`.tie`属性"
   ]
  },
  {
   "cell_type": "code",
   "execution_count": 27,
   "metadata": {},
   "outputs": [
    {
     "data": {
      "text/plain": [
       "<music21.tie.Tie start>"
      ]
     },
     "execution_count": 27,
     "metadata": {},
     "output_type": "execute_result"
    }
   ],
   "source": [
    "n1.tie"
   ]
  },
  {
   "cell_type": "code",
   "execution_count": 28,
   "metadata": {},
   "outputs": [
    {
     "data": {
      "text/plain": [
       "<music21.tie.Tie stop>"
      ]
     },
     "execution_count": 28,
     "metadata": {},
     "output_type": "execute_result"
    }
   ],
   "source": [
    "n1.next('Note').tie"
   ]
  },
  {
   "cell_type": "markdown",
   "metadata": {},
   "source": [
    "第二个`.tie`属性并没有显示在乐谱上，说明`Tie`对象表示音符间的连接**状态**，而不是连接线本身。\n",
    "\n",
    "而前一个音符没有连接，它的`.tie`为None"
   ]
  },
  {
   "cell_type": "code",
   "execution_count": 29,
   "metadata": {},
   "outputs": [
    {
     "name": "stdout",
     "output_type": "stream",
     "text": [
      "None\n"
     ]
    }
   ],
   "source": [
    "print(n1.previous('Note').tie)"
   ]
  },
  {
   "cell_type": "markdown",
   "metadata": {},
   "source": [
    "我们可以在`Tie`的`.type`中找到\"start\"或\"stop\""
   ]
  },
  {
   "cell_type": "code",
   "execution_count": 30,
   "metadata": {},
   "outputs": [
    {
     "data": {
      "text/plain": [
       "'start'"
      ]
     },
     "execution_count": 30,
     "metadata": {},
     "output_type": "execute_result"
    }
   ],
   "source": [
    "n1.tie.type"
   ]
  },
  {
   "cell_type": "code",
   "execution_count": 31,
   "metadata": {},
   "outputs": [
    {
     "data": {
      "text/plain": [
       "'stop'"
      ]
     },
     "execution_count": 31,
     "metadata": {},
     "output_type": "execute_result"
    }
   ],
   "source": [
    "n1.next(\"Note\").tie.type"
   ]
  },
  {
   "cell_type": "markdown",
   "metadata": {},
   "source": [
    "还有第三种类型，\"continue\"，表示一个音符和前后两个音符都连起来了。下面来创建一个："
   ]
  },
  {
   "cell_type": "code",
   "execution_count": 32,
   "metadata": {},
   "outputs": [
    {
     "data": {
      "image/png": "[encoded data removed]",
      "text/plain": [
       "<IPython.core.display.Image object>"
      ]
     },
     "metadata": {
      "image/png": {
       "height": 57,
       "width": 213
      }
     },
     "output_type": "display_data"
    }
   ],
   "source": [
    "c0 = note.Note('C4')\n",
    "c0.tie = tie.Tie('start')\n",
    "c1 = note.Note('C4')\n",
    "c1.tie = tie.Tie('continue')\n",
    "c2 = note.Note('C4')\n",
    "c2.tie = tie.Tie('stop')\n",
    "s = stream.Measure()\n",
    "s.append([c0, c1, c2])\n",
    "s.show()"
   ]
  },
  {
   "cell_type": "markdown",
   "metadata": {},
   "source": [
    "`Tie`还有一个`.placement`参数，表示连线的位置，可以是\"above\"（上方）、\"below\"（下方）、或者`None`（由乐谱渲染器自动决定）："
   ]
  },
  {
   "cell_type": "code",
   "execution_count": 33,
   "metadata": {},
   "outputs": [
    {
     "data": {
      "image/png": "[encoded data removed]",
      "text/plain": [
       "<IPython.core.display.Image object>"
      ]
     },
     "metadata": {
      "image/png": {
       "height": 57,
       "width": 216
      }
     },
     "output_type": "display_data"
    }
   ],
   "source": [
    "c0.tie.placement = 'above'\n",
    "s.show()"
   ]
  },
  {
   "cell_type": "markdown",
   "metadata": {},
   "source": [
    "`placement`作用于音符右侧的连线，对\"stop\"无效。\n",
    "\n",
    "`Tie`还有一个`style`属性，表示连线的线型，可以是\"normal\"、\"dotted\"、\"dashed\"或\"hidden\""
   ]
  },
  {
   "cell_type": "code",
   "execution_count": 34,
   "metadata": {},
   "outputs": [
    {
     "data": {
      "image/png": "[encoded data removed]",
      "text/plain": [
       "<IPython.core.display.Image object>"
      ]
     },
     "metadata": {
      "image/png": {
       "height": 49,
       "width": 362
      }
     },
     "output_type": "display_data"
    }
   ],
   "source": [
    "s = stream.Stream()\n",
    "for tie_style in ('normal', 'dotted', 'dashed', 'hidden'):\n",
    "    nStart = note.Note('E4')\n",
    "    tStart = tie.Tie('start')\n",
    "    tStart.style = tie_style\n",
    "    nStart.tie = tStart\n",
    "    nStop = note.Note('E4')\n",
    "    tStop = tie.Tie('stop')\n",
    "    tStop.style = tie_style # optional\n",
    "    nStop.tie = tStop\n",
    "    s.append([nStart, nStop])\n",
    "s.show()"
   ]
  },
  {
   "cell_type": "markdown",
   "metadata": {},
   "source": [
    "某些乐谱编辑器中，\"dotted\"和\"dashed\"可能难以区分\n",
    "\n",
    "### 延音线与和弦\n",
    "\n",
    "和弦也有一个`.tie`属性："
   ]
  },
  {
   "cell_type": "code",
   "execution_count": 35,
   "metadata": {},
   "outputs": [
    {
     "data": {
      "image/png": "[encoded data removed]",
      "text/plain": [
       "<IPython.core.display.Image object>"
      ]
     },
     "metadata": {
      "image/png": {
       "height": 55,
       "width": 181
      }
     },
     "output_type": "display_data"
    }
   ],
   "source": [
    "ch0 = chord.Chord('C4 G4 B4')\n",
    "ch0.tie = tie.Tie('start')\n",
    "ch1 = chord.Chord('C4 G4 B4')\n",
    "ch1.tie = tie.Tie('stop')\n",
    "s = stream.Measure()\n",
    "s.append([ch0, ch1])\n",
    "s.show()"
   ]
  },
  {
   "cell_type": "markdown",
   "metadata": {},
   "source": [
    "如果是两个完全相同的和弦，以上方式很简单。但是，如果有两个和弦，其中一些音符要连起来，另一些不要，怎么办？例如："
   ]
  },
  {
   "cell_type": "code",
   "execution_count": 36,
   "metadata": {},
   "outputs": [
    {
     "data": {
      "image/png": "[encoded data removed]",
      "text/plain": [
       "<IPython.core.display.Image object>"
      ]
     },
     "metadata": {
      "image/png": {
       "height": 49,
       "width": 198
      }
     },
     "output_type": "display_data"
    }
   ],
   "source": [
    "ch2 = chord.Chord('D4 G4 A4')\n",
    "ch3 = chord.Chord('D4 F#4 A4')\n",
    "s = stream.Measure()\n",
    "s.append([ch2, ch3])\n",
    "s.show()"
   ]
  },
  {
   "cell_type": "markdown",
   "metadata": {},
   "source": [
    "D和A可以连起来，但是G和F#不连起来。你可能会想把一个`Tie`对象赋值给pitch的`.tie`属性，但是这是错误的"
   ]
  },
  {
   "cell_type": "code",
   "execution_count": 37,
   "metadata": {},
   "outputs": [
    {
     "data": {
      "text/plain": [
       "<music21.pitch.Pitch D4>"
      ]
     },
     "execution_count": 37,
     "metadata": {},
     "output_type": "execute_result"
    }
   ],
   "source": [
    "p0 = ch2.pitches[0]\n",
    "p0"
   ]
  },
  {
   "cell_type": "code",
   "execution_count": 38,
   "metadata": {},
   "outputs": [],
   "source": [
    "#p0.tie = tie.Tie('start')  #请勿运行"
   ]
  },
  {
   "cell_type": "markdown",
   "metadata": {},
   "source": [
    "`Pitch`对象没有`.tie`属性。虽然在Python中可以给任何对象赋予任何属性，但是`music21`只会在音符和和弦里面找`.tie`。所以，我们需要知道，`Chord`内部不只储存了`Pitch`，还储存了`Note`，可以通过`Chord`的索引访问："
   ]
  },
  {
   "cell_type": "code",
   "execution_count": 39,
   "metadata": {},
   "outputs": [
    {
     "name": "stdout",
     "output_type": "stream",
     "text": [
      "<music21.note.Note D>\n",
      "<music21.note.Note G>\n",
      "<music21.note.Note A>\n"
     ]
    }
   ],
   "source": [
    "for n in ch2:\n",
    "    print(n)"
   ]
  },
  {
   "cell_type": "markdown",
   "metadata": {},
   "source": [
    "所以可以这样做："
   ]
  },
  {
   "cell_type": "code",
   "execution_count": 40,
   "metadata": {},
   "outputs": [
    {
     "data": {
      "text/plain": [
       "<music21.note.Note D>"
      ]
     },
     "execution_count": 40,
     "metadata": {},
     "output_type": "execute_result"
    }
   ],
   "source": [
    "ch2[0]"
   ]
  },
  {
   "cell_type": "code",
   "execution_count": 41,
   "metadata": {},
   "outputs": [],
   "source": [
    "ch2[0].tie = tie.Tie('start')"
   ]
  },
  {
   "cell_type": "markdown",
   "metadata": {},
   "source": [
    "这种方法是可行的，但是你可能不想记住和弦索引与音符的关系，所以你也可以用音高字符串作为索引来访问和弦中的音符"
   ]
  },
  {
   "cell_type": "code",
   "execution_count": 42,
   "metadata": {},
   "outputs": [
    {
     "data": {
      "text/plain": [
       "<music21.note.Note A>"
      ]
     },
     "execution_count": 42,
     "metadata": {},
     "output_type": "execute_result"
    }
   ],
   "source": [
    "ch2[\"A4\"]"
   ]
  },
  {
   "cell_type": "markdown",
   "metadata": {},
   "source": [
    "注意这只有当和弦没有重复音高时才能正常工作。我们也可以在字符串中直接指定访问属性："
   ]
  },
  {
   "cell_type": "code",
   "execution_count": 43,
   "metadata": {},
   "outputs": [
    {
     "data": {
      "text/plain": [
       "<music21.tie.Tie start>"
      ]
     },
     "execution_count": 43,
     "metadata": {},
     "output_type": "execute_result"
    }
   ],
   "source": [
    "ch2['D4.tie']"
   ]
  },
  {
   "cell_type": "markdown",
   "metadata": {},
   "source": [
    "或者这样（注意是字符串）"
   ]
  },
  {
   "cell_type": "code",
   "execution_count": 44,
   "metadata": {},
   "outputs": [
    {
     "data": {
      "text/plain": [
       "<music21.tie.Tie start>"
      ]
     },
     "execution_count": 44,
     "metadata": {},
     "output_type": "execute_result"
    }
   ],
   "source": [
    "ch2['0.tie']"
   ]
  },
  {
   "cell_type": "markdown",
   "metadata": {},
   "source": [
    "也可以用这种访问方式来赋值："
   ]
  },
  {
   "cell_type": "code",
   "execution_count": 45,
   "metadata": {},
   "outputs": [],
   "source": [
    "ch2['A4.tie'] = tie.Tie('start')"
   ]
  },
  {
   "cell_type": "markdown",
   "metadata": {},
   "source": [
    "现在来给下一个和弦设置\"stop\"信息"
   ]
  },
  {
   "cell_type": "code",
   "execution_count": 46,
   "metadata": {},
   "outputs": [
    {
     "data": {
      "image/png": "[encoded data removed]",
      "text/plain": [
       "<IPython.core.display.Image object>"
      ]
     },
     "metadata": {
      "image/png": {
       "height": 52,
       "width": 198
      }
     },
     "output_type": "display_data"
    }
   ],
   "source": [
    "ch3['D4.tie'] = tie.Tie('start')\n",
    "ch3['A4.tie'] = tie.Tie('start')\n",
    "\n",
    "s.show()"
   ]
  },
  {
   "cell_type": "markdown",
   "metadata": {},
   "source": [
    "那么这时候`ch2.tie`会返回什么呢？"
   ]
  },
  {
   "cell_type": "code",
   "execution_count": 47,
   "metadata": {},
   "outputs": [
    {
     "data": {
      "text/plain": [
       "<music21.tie.Tie start>"
      ]
     },
     "execution_count": 47,
     "metadata": {},
     "output_type": "execute_result"
    }
   ],
   "source": [
    "ch2.tie"
   ]
  },
  {
   "cell_type": "markdown",
   "metadata": {},
   "source": [
    "和弦的`Tie`属性来自最低的有`tie`的音符。所以，如果删除D4上的`tie`，返回值不变。"
   ]
  },
  {
   "cell_type": "code",
   "execution_count": 48,
   "metadata": {},
   "outputs": [
    {
     "data": {
      "text/plain": [
       "<music21.tie.Tie start>"
      ]
     },
     "execution_count": 48,
     "metadata": {},
     "output_type": "execute_result"
    }
   ],
   "source": [
    "ch2['D4.tie'] = None\n",
    "ch2.tie"
   ]
  },
  {
   "cell_type": "markdown",
   "metadata": {},
   "source": [
    "但是如果把A4的`tie`也删除，结果就不一样了："
   ]
  },
  {
   "cell_type": "code",
   "execution_count": 49,
   "metadata": {},
   "outputs": [
    {
     "data": {
      "text/plain": [
       "True"
      ]
     },
     "execution_count": 49,
     "metadata": {},
     "output_type": "execute_result"
    }
   ],
   "source": [
    "ch2['A4'].tie = None\n",
    "ch2.tie is None"
   ]
  },
  {
   "cell_type": "markdown",
   "metadata": {},
   "source": [
    "下面是需要手动设置连线位置`.placement`的一种场景："
   ]
  },
  {
   "cell_type": "code",
   "execution_count": 50,
   "metadata": {},
   "outputs": [
    {
     "data": {
      "image/png": "[encoded data removed]",
      "text/plain": [
       "<IPython.core.display.Image object>"
      ]
     },
     "metadata": {
      "image/png": {
       "height": 56,
       "width": 246
      }
     },
     "output_type": "display_data"
    }
   ],
   "source": [
    "c1 = chord.Chord('C#4 E4 G4')\n",
    "c2 = chord.Chord('C4 E4 G4')\n",
    "c1[1].tie = tie.Tie('start')\n",
    "c2[1].tie = tie.Tie('stop')\n",
    "c1[2].tie = tie.Tie('start')\n",
    "c2[2].tie = tie.Tie('stop')\n",
    "s = stream.Stream()\n",
    "s.append([c1, c2])\n",
    "s.show()"
   ]
  },
  {
   "cell_type": "markdown",
   "metadata": {},
   "source": [
    "如果像上面这样，把E的连线画在下面，则读者可能会看成是从C#到C的连线。这个时候就可以用`.placement`来消除歧义"
   ]
  },
  {
   "cell_type": "code",
   "execution_count": 51,
   "metadata": {},
   "outputs": [
    {
     "data": {
      "image/png": "[encoded data removed]",
      "text/plain": [
       "<IPython.core.display.Image object>"
      ]
     },
     "metadata": {
      "image/png": {
       "height": 56,
       "width": 246
      }
     },
     "output_type": "display_data"
    }
   ],
   "source": [
    "c1[1].tie.placement = 'above'\n",
    "s.show()"
   ]
  },
  {
   "cell_type": "markdown",
   "metadata": {},
   "source": [
    "### 对`Stream`自动生成或合并连音符\n",
    "有时连音符会干扰我们的分析。例如下面这段旋律："
   ]
  },
  {
   "cell_type": "code",
   "execution_count": 53,
   "metadata": {},
   "outputs": [
    {
     "data": {
      "image/png": "[encoded data removed]",
      "text/plain": [
       "<IPython.core.display.Image object>"
      ]
     },
     "metadata": {
      "image/png": {
       "height": 54,
       "width": 372
      }
     },
     "output_type": "display_data"
    }
   ],
   "source": [
    "littlePiece = converter.parse('tinyNotation: 2/4 d4. e8~ e4 d4~ d8 f4.')\n",
    "littlePiece.show()"
   ]
  },
  {
   "cell_type": "markdown",
   "metadata": {},
   "source": [
    "假如我们需要统计D出现的次数，但是以下代码会得到错误结果"
   ]
  },
  {
   "cell_type": "code",
   "execution_count": 54,
   "metadata": {},
   "outputs": [
    {
     "data": {
      "text/plain": [
       "3"
      ]
     },
     "execution_count": 54,
     "metadata": {},
     "output_type": "execute_result"
    }
   ],
   "source": [
    "numDs = 0\n",
    "for n in littlePiece.recurse().notes:\n",
    "    if n.pitch.name == 'D':\n",
    "        numDs += 1\n",
    "numDs"
   ]
  },
  {
   "cell_type": "markdown",
   "metadata": {},
   "source": [
    "第一个D正确地计入结果。但是被小节线截断的第二个D被计入了两次。可以用以下方法获取D的正确数量："
   ]
  },
  {
   "cell_type": "code",
   "execution_count": 55,
   "metadata": {},
   "outputs": [
    {
     "data": {
      "text/plain": [
       "2"
      ]
     },
     "execution_count": 55,
     "metadata": {},
     "output_type": "execute_result"
    }
   ],
   "source": [
    "numDs = 0\n",
    "for n in littlePiece.recurse().notes:\n",
    "    if (n.pitch.name == 'D'\n",
    "            and (n.tie is None\n",
    "                 or n.tie.type == 'start')):\n",
    "        numDs += 1\n",
    "numDs"
   ]
  },
  {
   "cell_type": "markdown",
   "metadata": {},
   "source": [
    "但是，如果要进行更复杂的操作的话，代码会很混乱。所以如果`Stream`没有连音符就好了。\n",
    "\n",
    "可以用`stripTies()`合并`Stream`中的所有连音符。"
   ]
  },
  {
   "cell_type": "code",
   "execution_count": 56,
   "metadata": {},
   "outputs": [
    {
     "data": {
      "image/png": "[encoded data removed]",
      "text/plain": [
       "<IPython.core.display.Image object>"
      ]
     },
     "metadata": {
      "image/png": {
       "height": 56,
       "width": 197
      }
     },
     "output_type": "display_data"
    }
   ],
   "source": [
    "c = chord.Chord('C#4 E4 G4')\n",
    "c.tie = tie.Tie('start')\n",
    "c2 = chord.Chord('C#4 E4 G4')\n",
    "c2.tie = tie.Tie('stop')\n",
    "s = stream.Measure()\n",
    "s.append([c, c2])\n",
    "s.show()"
   ]
  },
  {
   "cell_type": "code",
   "execution_count": 57,
   "metadata": {},
   "outputs": [
    {
     "data": {
      "image/png": "[encoded data removed]",
      "text/plain": [
       "<IPython.core.display.Image object>"
      ]
     },
     "metadata": {
      "image/png": {
       "height": 56,
       "width": 155
      }
     },
     "output_type": "display_data"
    }
   ],
   "source": [
    "s2 = s.stripTies()\n",
    "s2.show()"
   ]
  },
  {
   "cell_type": "markdown",
   "metadata": {},
   "source": [
    "回到刚才的片段，所有音符都是附点四分音符，只是有的被小节线截断了而已。要想修复，可以用`stripTies()`。"
   ]
  },
  {
   "cell_type": "code",
   "execution_count": 58,
   "metadata": {},
   "outputs": [],
   "source": [
    "littleStripped = littlePiece.stripTies()"
   ]
  },
  {
   "cell_type": "markdown",
   "metadata": {},
   "source": [
    "现在再来统计D的数量："
   ]
  },
  {
   "cell_type": "code",
   "execution_count": 59,
   "metadata": {},
   "outputs": [
    {
     "data": {
      "text/plain": [
       "2"
      ]
     },
     "execution_count": 59,
     "metadata": {},
     "output_type": "execute_result"
    }
   ],
   "source": [
    "numDs = 0\n",
    "for n in littleStripped.recurse().notes:\n",
    "    if n.pitch.name == 'D':\n",
    "        numDs += 1\n",
    "numDs"
   ]
  },
  {
   "cell_type": "markdown",
   "metadata": {},
   "source": [
    "这就对了。我们再用文本形式看一下`littleStripped`"
   ]
  },
  {
   "cell_type": "code",
   "execution_count": 60,
   "metadata": {},
   "outputs": [
    {
     "name": "stdout",
     "output_type": "stream",
     "text": [
      "{0.0 - 3.0} <music21.stream.Measure 1 offset=0.0>\n",
      "    {0.0 - 0.0} <music21.clef.TrebleClef>\n",
      "    {0.0 - 0.0} <music21.meter.TimeSignature 2/4>\n",
      "    {0.0 - 1.5} <music21.note.Note D>\n",
      "    {1.5 - 3.0} <music21.note.Note E>\n",
      "{2.0 - 4.5} <music21.stream.Measure 2 offset=2.0>\n",
      "    {1.0 - 2.5} <music21.note.Note D>\n",
      "{4.0 - 6.0} <music21.stream.Measure 3 offset=4.0>\n",
      "    {0.5 - 2.0} <music21.note.Note F>\n",
      "    {2.0 - 2.0} <music21.bar.Barline type=final>\n"
     ]
    }
   ],
   "source": [
    "littleStripped.show('text', addEndTimes=True)"
   ]
  },
  {
   "cell_type": "markdown",
   "metadata": {},
   "source": [
    "注意一件事情：音符E现在超出了第一个2/4小节的范围。第二个D也不是从小节开头开始，而是从上一个小节的中间开始。所以，先`.flatten()`再`stripTies()`更好。"
   ]
  },
  {
   "cell_type": "code",
   "execution_count": 61,
   "metadata": {},
   "outputs": [
    {
     "name": "stdout",
     "output_type": "stream",
     "text": [
      "{0.0 - 0.0} <music21.clef.TrebleClef>\n",
      "{0.0 - 0.0} <music21.meter.TimeSignature 2/4>\n",
      "{0.0 - 1.5} <music21.note.Note D>\n",
      "{1.5 - 3.0} <music21.note.Note E>\n",
      "{3.0 - 4.5} <music21.note.Note D>\n",
      "{4.5 - 6.0} <music21.note.Note F>\n",
      "{6.0 - 6.0} <music21.bar.Barline type=final>\n"
     ]
    }
   ],
   "source": [
    "stripped2 = littlePiece.stripTies().flatten()\n",
    "stripped2.show('text', addEndTimes=True)"
   ]
  },
  {
   "cell_type": "markdown",
   "metadata": {},
   "source": [
    "这样就方便看清楚每个音符的长度和开始时间了。\n",
    "\n",
    "记得在[第17章](17.ipynb)中说过，如果要从合并后的乐谱访问原来被截断的样子，可以用`.derivation()`。例如，给原乐谱的单数位音符加入重音符号（忽略延音线）："
   ]
  },
  {
   "cell_type": "code",
   "execution_count": 62,
   "metadata": {},
   "outputs": [
    {
     "data": {
      "image/png": "[encoded data removed]",
      "text/plain": [
       "<IPython.core.display.Image object>"
      ]
     },
     "metadata": {
      "image/png": {
       "height": 63,
       "width": 372
      }
     },
     "output_type": "display_data"
    }
   ],
   "source": [
    "for i, n in enumerate(stripped2.notes):\n",
    "    if i % 2 == 1:\n",
    "        nOrigin = n.derivation.origin\n",
    "        nOrigin.articulations.append(articulations.Accent())\n",
    "littlePiece.show()"
   ]
  },
  {
   "cell_type": "markdown",
   "metadata": {},
   "source": [
    "如果只是要进行`.stripTies()`的逆操作，则请使用`.makeTies()`。例如，把所有的D改为C，并恢复延音线："
   ]
  },
  {
   "cell_type": "code",
   "execution_count": 63,
   "metadata": {},
   "outputs": [
    {
     "data": {
      "image/png": "[encoded data removed]",
      "text/plain": [
       "<IPython.core.display.Image object>"
      ]
     },
     "metadata": {
      "image/png": {
       "height": 57,
       "width": 382
      }
     },
     "output_type": "display_data"
    }
   ],
   "source": [
    "for n in littleStripped.recurse().notes:\n",
    "    if n.pitch.name == 'D':\n",
    "        n.pitch.name = 'C'\n",
    "\n",
    "unstripped = littleStripped.makeTies()\n",
    "unstripped.show()"
   ]
  },
  {
   "cell_type": "markdown",
   "metadata": {},
   "source": [
    "事实上，music21每次显示乐谱前都会运行`.maketies`（否则不能用MusicXML显示）。所以，如果你只是要显示乐谱，就不用手动`makeTies`："
   ]
  },
  {
   "cell_type": "code",
   "execution_count": 64,
   "metadata": {},
   "outputs": [
    {
     "data": {
      "image/png": "[encoded data removed]",
      "text/plain": [
       "<IPython.core.display.Image object>"
      ]
     },
     "metadata": {
      "image/png": {
       "height": 57,
       "width": 382
      }
     },
     "output_type": "display_data"
    }
   ],
   "source": [
    "littleStripped.show()"
   ]
  },
  {
   "cell_type": "markdown",
   "metadata": {},
   "source": [
    "## 符尾连线\n",
    "符尾连线是17世纪的发明，用来通过分组的方式清晰地展示一连串八分、16分，或者更小的音符。\n",
    "todo"
   ]
  },
  {
   "cell_type": "code",
   "execution_count": 65,
   "metadata": {},
   "outputs": [
    {
     "name": "stdout",
     "output_type": "stream",
     "text": [
      "{0.0} <music21.note.Note C>\n",
      "{1.0} <music21.note.Note D>\n",
      "{1.5} <music21.note.Note D>\n",
      "{2.0} <music21.note.Note E>\n",
      "{2.25} <music21.note.Note E>\n",
      "{2.5} <music21.note.Note E>\n",
      "{2.75} <music21.note.Note E>\n"
     ]
    }
   ],
   "source": [
    "m = stream.Measure()\n",
    "c = note.Note('C4', type='quarter')\n",
    "m.append(c)\n",
    "d1 = note.Note('D4', type='eighth')\n",
    "d2 = note.Note('D4', type='eighth')\n",
    "m.append([d1, d2])\n",
    "e = note.Note('E4', type='16th')\n",
    "m.repeatAppend(e, 4)\n",
    "m.show('text')"
   ]
  },
  {
   "cell_type": "markdown",
   "metadata": {},
   "source": []
  },
  {
   "cell_type": "code",
   "execution_count": 66,
   "metadata": {},
   "outputs": [
    {
     "data": {
      "text/plain": [
       "<music21.beam.Beams>"
      ]
     },
     "execution_count": 66,
     "metadata": {},
     "output_type": "execute_result"
    }
   ],
   "source": [
    "c.beams"
   ]
  },
  {
   "cell_type": "markdown",
   "metadata": {},
   "source": []
  },
  {
   "cell_type": "code",
   "execution_count": 67,
   "metadata": {},
   "outputs": [],
   "source": [
    "beam1 = beam.Beam(type='start', number=1)"
   ]
  },
  {
   "cell_type": "markdown",
   "metadata": {},
   "source": []
  },
  {
   "cell_type": "code",
   "execution_count": null,
   "metadata": {},
   "outputs": [],
   "source": [
    "d1Beams = d1.beams\n",
    "d1Beams.append(beam1)\n",
    "d1.beams"
   ]
  },
  {
   "cell_type": "markdown",
   "metadata": {},
   "source": []
  },
  {
   "cell_type": "code",
   "execution_count": 68,
   "metadata": {},
   "outputs": [
    {
     "data": {
      "text/plain": [
       "<music21.beam.Beams <music21.beam.Beam 1/stop>>"
      ]
     },
     "execution_count": 68,
     "metadata": {},
     "output_type": "execute_result"
    }
   ],
   "source": [
    "d2.beams.append('stop')\n",
    "d2.beams"
   ]
  },
  {
   "cell_type": "markdown",
   "metadata": {},
   "source": []
  },
  {
   "cell_type": "code",
   "execution_count": 69,
   "metadata": {},
   "outputs": [
    {
     "data": {
      "image/png": "[encoded data removed]",
      "text/plain": [
       "<IPython.core.display.Image object>"
      ]
     },
     "metadata": {
      "image/png": {
       "height": 50,
       "width": 294
      }
     },
     "output_type": "display_data"
    }
   ],
   "source": [
    "m.show()"
   ]
  },
  {
   "cell_type": "markdown",
   "metadata": {},
   "source": []
  },
  {
   "cell_type": "code",
   "execution_count": 70,
   "metadata": {},
   "outputs": [
    {
     "data": {
      "image/png": "[encoded data removed]",
      "text/plain": [
       "<IPython.core.display.Image object>"
      ]
     },
     "metadata": {
      "image/png": {
       "height": 50,
       "width": 294
      }
     },
     "output_type": "display_data"
    }
   ],
   "source": [
    "m.notes[3].beams.fill(2, 'start')\n",
    "m.notes[4].beams.fill(2, 'continue')\n",
    "m.notes[5].beams.fill(2, 'continue')\n",
    "m.notes[6].beams.fill(2, 'stop')\n",
    "m.show()"
   ]
  },
  {
   "cell_type": "markdown",
   "metadata": {},
   "source": []
  },
  {
   "cell_type": "code",
   "execution_count": 71,
   "metadata": {},
   "outputs": [],
   "source": [
    "m.notes[4].beams.setByNumber(1, 'stop')\n",
    "m.notes[5].beams.setByNumber(1, 'start')"
   ]
  },
  {
   "cell_type": "markdown",
   "metadata": {},
   "source": []
  },
  {
   "cell_type": "code",
   "execution_count": 72,
   "metadata": {},
   "outputs": [],
   "source": [
    "m2 = stream.Measure()\n",
    "m2.append(meter.TimeSignature('6/8'))\n",
    "c4 = note.Note('C4')\n",
    "d8 = note.Note('D4', type='eighth')\n",
    "e8 = note.Note('E4', type='eighth')\n",
    "e8.beams.append('start')\n",
    "f16 = note.Note('F4', type='16th')\n",
    "f16.beams.append('continue')"
   ]
  },
  {
   "cell_type": "markdown",
   "metadata": {},
   "source": []
  },
  {
   "cell_type": "code",
   "execution_count": 73,
   "metadata": {},
   "outputs": [
    {
     "data": {
      "image/png": "[encoded data removed]",
      "text/plain": [
       "<IPython.core.display.Image object>"
      ]
     },
     "metadata": {
      "image/png": {
       "height": 50,
       "width": 283
      }
     },
     "output_type": "display_data"
    }
   ],
   "source": [
    "f16.beams.append('partial', 'right')\n",
    "g8 = note.Note('G4', type='eighth')\n",
    "g8.beams.append('continue')\n",
    "a16 = note.Note('A4', type='16th')\n",
    "a16.beams.append('stop')\n",
    "a16.beams.append('partial', 'left')\n",
    "m2.append([c4, d8, e8, f16, g8, a16])\n",
    "m2.show()"
   ]
  },
  {
   "cell_type": "markdown",
   "metadata": {},
   "source": [
    "todo\n",
    "\n",
    "### 用更简单的方式处理符尾连线\n",
    "这一节从最底层开始介绍music21中的符尾连线，但是大多数时候，我们只想关注音乐问题，而根本不想处理符尾连线这种琐碎细节。所以，如果你想用可读性最强的方式展示乐谱，那就忘记`Beam`的用法，直接`show()`即可。"
   ]
  },
  {
   "cell_type": "code",
   "execution_count": 74,
   "metadata": {},
   "outputs": [
    {
     "data": {
      "image/png": "[encoded data removed]",
      "text/plain": [
       "<IPython.core.display.Image object>"
      ]
     },
     "metadata": {
      "image/png": {
       "height": 50,
       "width": 294
      }
     },
     "output_type": "display_data"
    }
   ],
   "source": [
    "m = stream.Measure()\n",
    "ts34 = meter.TimeSignature('3/4')\n",
    "m.append(ts34)\n",
    "c = note.Note('C4', type='quarter')\n",
    "m.append(c)\n",
    "d1 = note.Note('D4', type='eighth')\n",
    "d2 = note.Note('D4', type='eighth')\n",
    "m.append([d1, d2])\n",
    "e = note.Note('E4', type='16th')\n",
    "m.repeatAppend(e, 4)\n",
    "m.show()"
   ]
  },
  {
   "cell_type": "markdown",
   "metadata": {},
   "source": [
    "如果节拍修改了，music21会自动重新分组："
   ]
  },
  {
   "cell_type": "code",
   "execution_count": 75,
   "metadata": {},
   "outputs": [
    {
     "data": {
      "image/png": "[encoded data removed]",
      "text/plain": [
       "<IPython.core.display.Image object>"
      ]
     },
     "metadata": {
      "image/png": {
       "height": 50,
       "width": 308
      }
     },
     "output_type": "display_data"
    }
   ],
   "source": [
    "ts68 = meter.TimeSignature('6/8')\n",
    "m.replace(ts34, ts68)\n",
    "m.show()"
   ]
  },
  {
   "cell_type": "markdown",
   "metadata": {},
   "source": [
    "这是因为，在显示`Stream`前，music21会对它运行一个很牛逼的函数，`makeNotation()`，它会调用`music21.stream.makeNotation.makeBeams()`。这个函数会先检查是否已经有了符尾连线"
   ]
  },
  {
   "cell_type": "code",
   "execution_count": 76,
   "metadata": {},
   "outputs": [
    {
     "data": {
      "text/plain": [
       "False"
      ]
     },
     "execution_count": 76,
     "metadata": {},
     "output_type": "execute_result"
    }
   ],
   "source": [
    "m.streamStatus.haveBeamsBeenMade()"
   ]
  },
  {
   "cell_type": "markdown",
   "metadata": {},
   "source": [
    "如果有了，`haveBeamsBeenMade`会返回`True`，然后就不会“自作主张”重新分组。"
   ]
  },
  {
   "cell_type": "code",
   "execution_count": 77,
   "metadata": {},
   "outputs": [
    {
     "data": {
      "text/plain": [
       "True"
      ]
     },
     "execution_count": 77,
     "metadata": {},
     "output_type": "execute_result"
    }
   ],
   "source": [
    "m.notes[-2].beams.fill(2, 'start')\n",
    "m.notes[-1].beams.fill(2, 'stop')\n",
    "\n",
    "m.streamStatus.haveBeamsBeenMade()"
   ]
  },
  {
   "cell_type": "code",
   "execution_count": 78,
   "metadata": {},
   "outputs": [
    {
     "data": {
      "image/png": "[encoded data removed]",
      "text/plain": [
       "<IPython.core.display.Image object>"
      ]
     },
     "metadata": {
      "image/png": {
       "height": 50,
       "width": 308
      }
     },
     "output_type": "display_data"
    }
   ],
   "source": [
    "m.show()"
   ]
  },
  {
   "cell_type": "markdown",
   "metadata": {},
   "source": [
    "todo"
   ]
  }
 ],
 "metadata": {
  "interpreter": {
   "hash": "9e6fe232ec1802e04813a62eadbd4a033db6fcefdd78d84705bbb38e45fcef4a"
  },
  "kernelspec": {
   "display_name": "Python 3.9.7 64-bit",
   "name": "python3"
  },
  "language_info": {
   "codemirror_mode": {
    "name": "ipython",
    "version": 3
   },
   "file_extension": ".py",
   "mimetype": "text/x-python",
   "name": "python",
   "nbconvert_exporter": "python",
   "pygments_lexer": "ipython3",
   "version": "3.9.7"
  },
  "orig_nbformat": 4
 },
 "nbformat": 4,
 "nbformat_minor": 2
}
