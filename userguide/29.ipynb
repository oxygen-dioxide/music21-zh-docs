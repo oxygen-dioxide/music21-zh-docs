{
 "cells": [
  {
   "cell_type": "markdown",
   "metadata": {},
   "source": [
    "# 用户指南 第29章 异音连音符`Slur`\n",
    "[原文链接](https://web.mit.edu/music21/doc/usersGuide/usersGuide_29_spanners.html)\n",
    "> 译者注：同音连音符`Tie`见[第31章](31.ipynb)。\n",
    "> \n",
    "> 同音连音符与异音连音符意义不同。同音连音符仅为方便记谱，在演奏与处理时等同于一个音符。异音连音符为演奏技法符号，处理时视为两个音符，人声演唱时一个字跨两个音高，即歌声合成软件中的减号`-`。"
   ]
  }
 ],
 "metadata": {
  "language_info": {
   "name": "python"
  },
  "orig_nbformat": 4
 },
 "nbformat": 4,
 "nbformat_minor": 2
}
